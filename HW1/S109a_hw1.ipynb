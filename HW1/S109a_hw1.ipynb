{
 "cells": [
  {
   "cell_type": "markdown",
   "metadata": {
    "button": false,
    "new_sheet": false,
    "run_control": {
     "read_only": false
    }
   },
   "source": [
    "# <img style=\"float: left; padding-right: 10px; width: 45px\" src=\"styles/iacs.png\"> S-109A Introduction to Data Science \n",
    "\n",
    "## Homework 1\n",
    "\n",
    "**Harvard University**<br/>\n",
    "**Summer 2018**<br/>\n",
    "**Instructors**: Pavlos Protopapas and Kevin Rader\n",
    "\n",
    "---\n",
    "\n",
    "\n",
    "## Main Theme: Data Collection - Web Scraping - Data Parsing \n",
    "#### Learning Objectives \n",
    "\n",
    "In this homework, your goal is to learn how to acquire, parse, clean, and analyze data. Initially you read the data from a file, then you scrape them directly from a website. You look for specific pieces of information by parsing the data, you clean the data to prepare them for analysis, and finally, you answer some questions.\n",
    "\n",
    "#### Instructions\n",
    "- To submit your assignment follow the instructions given in Canvas.\n",
    "- The deliverables in Canvas are: a) This python notebook with your code and answers, b) a .pdf version of this notebook, c) The BibTex file you created.\n",
    "d) The JSON file you created.\n",
    "- Exercise **responsible scraping**. Web servers can become slow or unresponsive if they receive too many requests from the same source in a short amount of time. Use a delay of 10 seconds between requests in your code. This helps not to get blocked by the target website. Run the webpage fetching part of the homework only once and do not re-run after you have saved the results in the JSON file (details below). \n",
    "- Web scraping requests can take several minutes. This is another reason why you should not wait until the last minute to do this homework."
   ]
  },
  {
   "cell_type": "code",
   "execution_count": 11,
   "metadata": {
    "button": false,
    "collapsed": true,
    "new_sheet": false,
    "run_control": {
     "read_only": false
    }
   },
   "outputs": [],
   "source": [
    "# import the necessary libraries\n",
    "%matplotlib inline\n",
    "import numpy as np\n",
    "import scipy as sp\n",
    "import matplotlib as mpl\n",
    "import matplotlib.cm as cm\n",
    "import matplotlib.pyplot as plt\n",
    "import pandas as pd\n",
    "import time\n",
    "pd.set_option('display.width', 500)\n",
    "pd.set_option('display.max_columns', 100)\n",
    "pd.set_option('display.notebook_repr_html', True)\n"
   ]
  },
  {
   "cell_type": "markdown",
   "metadata": {
    "button": false,
    "new_sheet": false,
    "run_control": {
     "read_only": false
    }
   },
   "source": [
    "## Part A [50 pts]:  Help a professor convert his publications to bibTex\n",
    "\n",
    "### Overview\n",
    "\n",
    "In Part 1 your goal is to parse the HTML page of a Professor containing some of his publications, and answer some questions. This page is provided to you in the file `data/publist_super_clean.html`. There are 44 publications in descending order from No. 244 to No. 200.\n",
    "\n",
    "You are to use python's **regular expressions**, a powerful way of parsing text. You may **not** use any parsing tool such as Beautiful Soup yet. In doing so you will get more familiar with three of the common file formats for storing and transferring data, which are:\n",
    "- CSV, a text-based file format used for storing tabular data that are separated by some delimiter, usually comma or space.\n",
    "- HTML/XML, the stuff the web is made of.\n",
    "- JavaScript Object Notation(JSON), a text-based open standard designed for transmitting structured data over the web.\n",
    "\n",
    "### <p class='q1'> Question 1: Parsing using Regular Expressions \n",
    " **1.1** Write a function called `get_pubs` that takes a .html filename as an input and returns a string containing the HTML page in this file (see definition below). Call this function using `data/publist_super_clean.html` as input and name the returned string `prof_pubs`. \n",
    " \n",
    " **1.2** Calculate how many times the author named '`C.M. Friend`' appears in the list of publications. \n",
    " \n",
    " **1.3** Find all unique journals and copy them in a variable named `journals`.  \n",
    " \n",
    " **1.4** Create a list named `pub_authors` whose elements are strings containing the authors' names for each paper. \n",
    "    \n",
    "### Hints\n",
    "- Look for patterns in the HTML tags that reveal where each piece of information such as the title of the paper, the names of the authors, the journal name, is stored. For example, you might notice that the journal name(s) is contained between the &lt;I&gt; HTML tag.\n",
    "- Each publication has multiple authors. \n",
    "- `C.M. Friend` also shows up as `Cynthia M. Friend` in the file.  Count just `C. M. Friend`. \n",
    "- There is a comma at the end of the string of authors. You can choose to keep it in the string or remove it and put it back when you write the string as a BibTex entry. \n",
    "- You want to remove duplicates from the list of journals. \n",
    "\n",
    "### Resources\n",
    "- **Regular expressions:** a) https://docs.python.org/3.3/library/re.html, b) https://regexone.com, and c) https://docs.python.org/3/howto/regex.html. \n",
    "- ** HTML:** if you are not familiar with HTML see https://www.w3schools.com/html/ or one of the many tutorials on the internet. \n",
    "- ** Document Object Model (DOM):** for more on this programming interface for HTML and XML documents see https://www.w3schools.com/js/js_htmldom.asp. "
   ]
  },
  {
   "cell_type": "markdown",
   "metadata": {},
   "source": [
    "#### 1.1"
   ]
  },
  {
   "cell_type": "code",
   "execution_count": 11,
   "metadata": {
    "button": false,
    "collapsed": true,
    "new_sheet": false,
    "run_control": {
     "read_only": false
    }
   },
   "outputs": [],
   "source": [
    "# import the regular expressions library\n",
    "import re"
   ]
  },
  {
   "cell_type": "code",
   "execution_count": 12,
   "metadata": {
    "button": false,
    "collapsed": true,
    "new_sheet": false,
    "run_control": {
     "read_only": false
    }
   },
   "outputs": [],
   "source": [
    "# use this file \n",
    "pub_filename = 'data/publist_super_clean.html'"
   ]
  },
  {
   "cell_type": "code",
   "execution_count": 7,
   "metadata": {
    "collapsed": true
   },
   "outputs": [],
   "source": [
    "# your code here\n"
   ]
  },
  {
   "cell_type": "code",
   "execution_count": 8,
   "metadata": {
    "button": false,
    "new_sheet": false,
    "run_control": {
     "read_only": false
    }
   },
   "outputs": [],
   "source": [
    "# definition of get_pubs\n",
    "def get_pubs(filename: str) -> str:\n",
    "\n",
    "    f = open(filename, \"r\")\n",
    "    if f.mode == \"r\":\n",
    "        return f.read()\n",
    "    \n",
    "    \n",
    "    '''Open the file using the filename. \n",
    "       \n",
    "       Args:\n",
    "           filename: A string name of the file.\n",
    "       \n",
    "       Returns:\n",
    "           A string containing the HTML page ready to be parsed.\n",
    "    '''"
   ]
  },
  {
   "cell_type": "code",
   "execution_count": 21,
   "metadata": {
    "button": false,
    "new_sheet": false,
    "run_control": {
     "read_only": false
    }
   },
   "outputs": [
    {
     "name": "stdout",
     "output_type": "stream",
     "text": [
      "<!DOCTYPE HTML PUBLIC \"-//W3C//DTD HTML 4.01 Transitional//EN\"\n",
      "   \"http://www.w3.org/TR/html4/loose.dtd\">\n",
      "\n",
      "<TITLE>Kaxiras E journal publications</TITLE>\n",
      "<HEAD>\n",
      "<meta http-equiv=\"Content-Type\" content=\"text/html;charset=UTF-8\">\n",
      "<LINK REL=\"stylesheet\" TYPE=\"text/css\" HREF=\"../styles/style_pubs.css\">\n",
      "<META NAME=\"description\" CONTENT=\"\">\n",
      "<META NAME=\"keywords\" CONTENT=\"Kaxiras E, Multiscale Methods, Computational Materials\" >\n",
      "</HEAD>\n",
      "\n",
      "<BODY>\n",
      "\n",
      "<OL START=244>\n",
      "<LI>\n",
      "<A HREF=\"Papers/2011/PhysRevB_84_125411_2011.pdf\" target=\"paper244\">\n",
      "&quot;Approaching the intrinsic band gap in suspended high-mobility graphene nanoribbons&quot;</A>\n",
      "<BR>Ming-Wei Lin, Cheng Ling, Luis A. Agapito, Nicholas Kioussis, Yiyang Zhang, Mark Ming-Cheng Cheng,\n",
      "<I>PHYSICAL REVIEW B </I> <b>84</b>,  125411 (2011)\n",
      "<BR>\n",
      "</LI>\n",
      "</OL>\n",
      "\n",
      "<OL START=243>\n",
      "<LI>\n",
      "<A HREF=\"Papers/2011/PhysRevB_84_035325_2011.pdf\" target=\"paper243\">\n",
      "&quot;Effect of symmetry breaking on the optical absorption of semiconductor nanoparticles&quot;</A>\n",
      "<BR>JAdam Gali, Efthimios Kaxiras, Gergely T. Zimanyi, Sheng Meng,\n",
      "<I>PHYSICAL REVIEW B </I> <b>84</b>,  035325 (2011)\n",
      "<BR>\n",
      "</LI>\n",
      "</OL>\n",
      "\n",
      "<OL START=242>\n",
      "<LI>\n",
      "<A HREF=\"Papers/2011/PhysRevB_83_054204_2011.pdf\" target=\"paper242\">\n",
      "&quot;Influence of CH2 content and network defects on the elastic properties of organosilicate glasses&quot;</A>\n",
      "<BR>Jan M. Knaup, Han Li, Joost J. Vlassak, and Efthimios Kaxiras,\n",
      "<I>PHYSICAL REVIEW B </I> <b>83</b>,  054204 (2011)\n",
      "<BR>\n",
      "</LI>\n",
      "</OL>\n",
      "\n",
      "\n",
      "<OL START=241>\n",
      "<LI>\n",
      "<A HREF=\"Papers/2011/PhysRevB_83_045303_2011.pdf\" target=\"paper241\">\n",
      "&quot;Direct correlation of crystal structure and optical properties in wurtzite/zinc-blende\n",
      "GaAs nanowire heterostructures&quot;</A>\n",
      "<BR>Martin Heiss, Sonia Conesa-Boj, Jun Ren, Hsiang-Han Tseng, Adam Gali,\n",
      "<I>PHYSICAL REVIEW B </I> <b>83</b>,  045303 (2011)\n",
      "<BR>\n",
      "</LI>\n",
      "</OL>\n",
      "\n",
      "<OL START=240>\n",
      "<LI>\n",
      "<A HREF=\"Papers/2011/PhilTransRSocA_369_2354_2011.pdf\" target=\"paper240\">\n",
      "&quot;Endothelial shear stress from large-scale blood flow simulations&quot;</A>\n",
      "<BR>Simone Melchionna, Efthimios Kaxiras, Massimo Bernaschi and Sauro Succi, \n",
      "<I>Phil. Trans. R. Soc. A </I> <b>369</b>,  2354-2361 (2011)\n",
      "<BR>\n",
      "</LI>\n",
      "</OL>\n",
      "\n",
      "\n",
      "<OL START=239>\n",
      "<LI>\n",
      "<A HREF=\"Papers/2011/NewJPhys_13_025025_2011.pdf\" target=\"paper239\">\n",
      "&quot;Properties of nitrogen-vacancy centers in diamond:\n",
      "the group theoretic approach&quot;</A>\n",
      "<BR>J R Maze, A Gali, E Togan, Y Chu, A Trifonov,\n",
      "<I>New Journal of Physics </I> <b>13</b>,  025025 (2011)\n",
      "<BR>\n",
      "</LI>\n",
      "</OL>\n",
      "\n",
      "\n",
      "<OL START=238>\n",
      "<LI>\n",
      "<A HREF=\"Papers/2011/NanoLett_11_2962-2967_2011.pdf\" target=\"paper238\">\n",
      "&quot;Lithium-Assisted Plastic Deformation of Silicon Electrodes in\n",
      "Lithium-Ion Batteries: A First-Principles Theoretical Study&quot;</A>\n",
      "<BR>Kejie Zhao, Wei L. Wang, John Gregoire, Matt Pharr, Zhigang Suo,\n",
      "<I>Nano Lett. </I> <b>11</b>,  2962-2967 (2011)\n",
      "<BR>\n",
      "</LI>\n",
      "</OL>\n",
      "\n",
      "\n",
      "<OL START=237>\n",
      "<LI>\n",
      "<A HREF=\"Papers/2011/Langmuir_27_14248_2011.pdf\" target=\"paper237\">\n",
      "&quot;D-Ï€-A Dye System Containing Cyano-Benzoic Acid as Anchoring\n",
      "Group for Dye-Sensitized Solar Cells&quot;</A>\n",
      "<BR> Masataka Katono, Takeru Bessho, Sheng Meng, Robin Humphry-Baker, Guido Rothenberger,\n",
      "<I>Langmuir </I> <b>27</b>,  14248-14252 (2011)\n",
      "<BR>\n",
      "</LI>\n",
      "</OL>\n",
      "\n",
      "\n",
      "\n",
      "<OL START=236>\n",
      "<LI>\n",
      "<A HREF=\"Papers/2011/JPhysChemLett_2_105-113_2011.pdf\" target=\"paper236\">\n",
      "&quot;New Insights into the Structure of the Vapor/Water\n",
      "Interface from Large-Scale First-Principles Simulations&quot;</A>\n",
      "<BR> Thomas D. Kuhne, Tod A. Pascal, Efthimios Kaxiras, and Yousung Jung,\n",
      "<I>J. Phys. Chem. Lett. </I> <b>2</b>,  105-113 (2011)\n",
      "<BR>\n",
      "</LI>\n",
      "</OL>\n",
      "\n",
      "\n",
      "<OL START=235>\n",
      "<LI>\n",
      "<A HREF=\"Papers/2011/JPhysChemC_115_9276-9282_2011.pdf\" target=\"paper235\">\n",
      "&quot;Design of Dye Acceptors for Photovoltaics from First-Principles\n",
      "Calculations&quot;</A>\n",
      "<BR> Sheng Meng, Efthimios Kaxiras, Md. K. Nazeeruddin, and Michael Gratzel,\n",
      "<I>J. Phys. Chem. C </I> <b>115</b>,  9276â€“9282 (2011)\n",
      "<BR>\n",
      "</LI>\n",
      "</OL>\n",
      "\n",
      "\n",
      "<OL START=234>\n",
      "<LI>\n",
      "<A HREF=\"Papers/2011/JPhysChemC_115_3703-3708_2011.pdf\" target=\"paper234\">\n",
      "&quot;Theoretical Study of O-Assisted Selective Coupling of Methanol on\n",
      "Au(111)&quot;</A>\n",
      "<BR> Bingjun Xu, Jan Haubrich, Thomas A. Baker, Efthimios Kaxiras, and Cynthia M. Friend,\n",
      "<I>J. Phys. Chem. C </I> <b>115</b>,  3703-3708 (2011)\n",
      "<BR>\n",
      "</LI>\n",
      "</OL>\n",
      "\n",
      "\n",
      "<OL START=233>\n",
      "<LI>\n",
      "<A HREF=\"Papers/2011/JChemPhys_134_194706_2011.pdf\" target=\"paper233\">\n",
      "&quot;Properties of copper (fluoro-)phthalocyanine layers deposited\n",
      "on epitaxial graphene&quot;</A>\n",
      "<BR> Jun Ren, Sheng Meng, Yi-Lin Wang, Xu-Cun Ma, Qi-Kun Xue, Efthimios Kaxiras,\n",
      "<I>J. Chem. Phys. </I> <b>134</b>,  194706 (2011)\n",
      "<BR>\n",
      "</LI>\n",
      "</OL>\n",
      " \n",
      "<OL START=232>\n",
      "<LI>\n",
      "<A HREF=\"Papers/2011/Chemistry_17_4496-4506_2011.pdf\" target=\"paper232\">\n",
      "&quot;The Role of Surface and Subsurface Point Defects for Chemical Model\n",
      "Studies on TiO2: A First-Principles Theoretical Study of Formaldehyde\n",
      "Bonding on Rutile TiO2(110)&quot;</A>\n",
      "<BR> Jan Haubrich, Efthimios Kaxiras, and Cynthia M. Friend,\n",
      "<I>Chem. Eur. J. </I> <b>17</b>,  4496-4506(2011)\n",
      "<BR>\n",
      "</LI>\n",
      "</OL>\n",
      " \n",
      " \n",
      " \n",
      " \n",
      "<OL START=231>\n",
      "<LI>\n",
      "<A HREF=\"Papers/2011/CatalSciTechnol_1_1166_2011.pdf\" target=\"paper231\">\n",
      "&quot;Role of defects in propene adsorption and reaction on a partially\n",
      "O-covered Au(111) surface&quot;</A>\n",
      "<BR> Thomas A. Baker, Bingjun Xu, Stephen C. Jensen, Cynthia M. Friend and Efthimios Kaxiras,\n",
      "<I>Catal. Sci. Technol. </I> <b>1</b>, 1166-1174  (2011)\n",
      "<BR>\n",
      "</LI>\n",
      "</OL>\n",
      " \n",
      "<OL START=230>\n",
      "<LI>\n",
      "<A HREF=\"Papers/2011/ACSNano_5_1395-1400_2011.pdf\" target=\"paper230\">\n",
      "&quot;Graphene Structures at an Extreme\n",
      "Degree of Buckling&quot;</A>\n",
      "<BR> Youdong Mao, Wei L. Wang, Dongguang Wei, Efthimios Kaxiras, and Joseph G. Sodroski,\n",
      "<I>ACSNano. </I>,<b>5</b>, 1395-1400 (2011)\n",
      "<BR>\n",
      "</LI>\n",
      "</OL>\n",
      " \n",
      " \n",
      " \n",
      "<OL START=229>\n",
      "<LI>\n",
      "<A HREF=\"Papers/ActaMater_59_44-52_2011.pdf\" target=\"paper229\">\n",
      "&quot;Stiffening of organosilicate glasses by organic cross-linking&quot;</A>\n",
      "<BR> H. Li, J.M. Knaup, E. Kaxiras and J.J. Vlassak,\n",
      "<I>Acta Mater. </I>,\n",
      "<B>59</B>, 44-52 (2011).\n",
      "<BR>\n",
      "</LI>\n",
      "</OL>\n",
      " \n",
      "<OL START=228>\n",
      "<LI>\n",
      "<A HREF=\"Papers/NewJPhys_12_125012_2010.pdf\" target=\"paper228\">\n",
      "&quot;Graphene hydrate: theoretical prediction of a new insulating \n",
      "form of graphene&quot;</A>\n",
      "<BR> W.L. Wang and E. Kaxiras,\n",
      "<I>New J. Phys. </I>,\n",
      "<B>12</B>, 125012 (2010).\n",
      "<BR>\n",
      "</LI>\n",
      "</OL>\n",
      "\n",
      "<OL START=227>\n",
      "<LI>\n",
      "<A HREF=\"Papers/PhysRevB_82_201411_2010.pdf\" target=\"paper227\">\n",
      "&quot;Electric-field control of magnetism in graphene quantum dots:\n",
      " Ab initio calculations&quot;</A>\n",
      "<BR> L.A. Agapito, N. Kioussis and E. Kaxiras,\n",
      "<I>Phys. Rev. B </I>,\n",
      "<B>82</B>, 201411 (2010).\n",
      "<BR>\n",
      "</LI>\n",
      "</OL>\n",
      "\n",
      "<OL START=226>\n",
      "<LI>\n",
      "<A HREF=\"Papers/IEEE-SC10_2010.pdf\" target=\"paper226\">\n",
      "&quot;Multiscale simulation of cardiovascular flows on the IBM Bluegene/P: \n",
      "full heart-circulation system at near red-blood cell resolution&quot;</A>\n",
      "<BR> A. Peters, S. Melchionna, E. Kaxiras, J. Latt, J. Sircar, S. Succi, \n",
      "<I>2010 ACM/IEEE International Conference for High Performance </I>,\n",
      " doi: 10.1109/SC.2010.33 (2010).\n",
      "<BR>\n",
      "</LI>\n",
      "</OL>\n",
      "\n",
      "<OL START=225>\n",
      "<LI>\n",
      "<A HREF=\"Papers/MolPhys_108_1829-1844_2010.pdf\" target=\"paper225\">\n",
      "&quot;Optical properties of clusters and molecules from real-time time-dependent\n",
      "density functional theory using a self-consistent field&quot;\n",
      "</A>\n",
      "<BR> J. Ren, E. Kaxiras and S. Meng, \n",
      "<I>Molec. Phys. </I> <B>108</B>, 1829-1844 (2010).\n",
      "<BR>\n",
      "</LI>\n",
      "</OL>\n",
      "\n",
      "<OL START=224>\n",
      "<LI>\n",
      "<A HREF=\"Papers/TopicsCatal_53_365-377_2010.pdf\" target=\"paper224\">\n",
      "&quot;Insights from Theory on the Relationship Between Surface Reactivity\n",
      "and Gold Atom Release&quot;\n",
      "</A>\n",
      "<BR> T.A. Baker, E. Kaxiras and C.M. Friend, \n",
      "<I>Top. Catal. </I> <B>53</B>, 365-377 (2010).\n",
      "<BR>\n",
      "</LI>\n",
      "</OL>\n",
      "\n",
      "<OL START=223>\n",
      "<LI>\n",
      "<A HREF=\"Papers/PhysRevLett_104_155502_2010.pdf\" target=\"paper223\">\n",
      "&quot;Embrittlement of Metal by Solute Segregation-Induced Amorphization&quot;\n",
      "</A>\n",
      "<BR> H.P. Chen, R.K. Kalia, E. Kaxiras, G. Lu, A. Nakano, K. Nomura,\n",
      "<I>Phys. Rev. Lett. </I> <B>104</B>, 155502 (2010).\n",
      "<BR>\n",
      "</LI>\n",
      "</OL>\n",
      "\n",
      "<OL START=222>\n",
      "<LI>\n",
      "<A HREF=\"Papers/NanoLett_10_1238-1247_2010.pdf\" target=\"paper222\">\n",
      "&quot;Electron and Hole Dynamics in Dye-Sensitized Solar Cells:\n",
      "Influencing Factors and Systematic Trends&quot;\n",
      "</A>\n",
      "<BR> S. Meng and E. Kaxiras,\n",
      "<I>NanoLett. </I> <B>10</B>, 1238-1247 (2010).\n",
      "<BR>\n",
      "</LI>\n",
      "</OL>\n",
      "\n",
      "<OL START=221>\n",
      "<LI>\n",
      "<A HREF=\"Papers/PhysRevB_81_085406_2010.pdf\" target=\"paper221\">\n",
      "&quot;Compositional tuning of ultrathin surface oxides on metal and alloy\n",
      "substrates using photons: Dynamic simulations and experiments&quot;\n",
      "</A>\n",
      "<BR> C.L. Chang, S.K.R.S. Sankaranarayanan, D. Ruzmetov, M.H. Engelhard, E. Kaxiras and S. Ramanathan, \n",
      "<I>Phys. Rev. B </I> <B>81</B>, 085406 (2010).\n",
      "<BR>\n",
      "</LI>\n",
      "</OL>\n",
      "\n",
      "<OL START=220>\n",
      "<LI>\n",
      "<A HREF=\"Papers/JChemTheComp_6_279-287_2010.pdf\" target=\"paper220\">\n",
      "&quot;Local Bonding Effects in the Oxidation of CO on Oxygen-Covered\n",
      "Au(111) from Ab Initio Molecular Dynamics Simulations&quot;\n",
      "</A>\n",
      "<BR> T.A. Baker, C.M. Friend and E. Kaxiras, \n",
      "<I>J. Chem. Theory Comput. </I> <B>6</B>, 279-287 (2010).\n",
      "<BR>\n",
      "</LI>\n",
      "</OL>\n",
      "\n",
      "<OL START=219>\n",
      "<LI>\n",
      "<A HREF=\"Papers/CompPhysComm_181_462-472_2010.pdf\" target=\"paper219\">\n",
      "&quot;Hydrokinetic approach to large-scale cardiovascular blood flow&quot;\n",
      "</A>\n",
      "<BR> S. Melchionna, M. Bernaschi, S. Succi, E. Kaxiras, F.J. Rybicki, D. Mitsouras, A.U. Coskun and C.L. Feldman, \n",
      "<I>Comp. Phys. Comm. </I> <B>181</B>, 462-472 (2010).\n",
      "<BR>\n",
      "</LI>\n",
      "</OL>\n",
      "\n",
      "<OL START=218>\n",
      "<LI>\n",
      "<A HREF=\"Papers/ConcComp_22_1-14_2010.pdf\" target=\"paper218\">\n",
      "&quot;A flexible high-performance Lattice Boltzmann GPU code for the\n",
      "simulations of fluid flows in complex geometries&quot;\n",
      "</A>\n",
      "<BR> M. Bernaschi, M. Fatica, S. Melchionna, S. Succi and E. Kaxiras, \n",
      "<I>Concurrency Computat.: Pract. Exper. </I> \n",
      "<B>22</B>, 1-14 (2010).\n",
      "<BR>\n",
      "</LI>\n",
      "</OL>\n",
      "\n",
      "<OL START=217>\n",
      "<LI>\n",
      "<A HREF=\"Papers/SolStComm_150_62-65_2010.pdf\" target=\"paper217\">\n",
      "&quot;Is the nature of magnetic order in copper-oxides and iron-pnictides \n",
      "different?&quot;\n",
      "</A>\n",
      "<BR> E. Manousakis, J. Ren, S. Meng and E. Kaxiras, \n",
      "<I>Sol. St. Comm. </I> <B>150</B>, 62-65 (2010).\n",
      "<BR>\n",
      "</LI>\n",
      "</OL>\n",
      " \n",
      "<OL START=216>\n",
      "<LI>\n",
      "<A HREF=\"Papers/PhysRevLett_103_186404_2009.pdf\" target=\"paper216\">\n",
      "&quot;Theory of Spin-Conserving Excitation of the N-V Center in Diamond&quot;\n",
      "</A>\n",
      "<BR> A. Gali, E. Janzen, P. Deak, G. Kresse and E. Kaxiras, \n",
      "<I>Phys. Rev. Lett. </I> <B>103</B>, 186404 (2009).\n",
      "<BR>\n",
      "</LI>\n",
      "</OL>\n",
      "\n",
      "<OL START=215>\n",
      "<LI>\n",
      "<A HREF=\"Papers/EnEnviSci_2_1196-1204_2009.pdf\" target=\"paper215\">\n",
      "&quot;Electric field tuning of oxygen stoichiometry at oxide surfaces:\n",
      "molecular dynamics isimulations studies iof zirconia&quot;\n",
      "</A>\n",
      "<BR> S.K.R.S. Sankaranarayanan, E. Kaxiras and S. Ramanathan, \n",
      "<I>Energy & Environmental Sci. </I> <B>2</B>, 1196-1204 (2009).\n",
      "<BR>\n",
      "</LI>\n",
      "</OL>\n",
      "\n",
      "<OL START=214>\n",
      "<LI>\n",
      "<A HREF=\"Papers/CompPhysComm_180_1495-1502_2009.pdf\" target=\"paper214\">\n",
      "&quot;MUPHY: A parallel MUlti PHYsics/scale code for high performance \n",
      "bio-fluidic simulations&quot;\n",
      "</A>\n",
      "<BR> M. Bernaschi, S. Melchionna, S. Succi, M. Fyta, E. Kaxiras \n",
      "<I>Comp. Phys. Comm. </I> <B>180</B>, 1495-1502 (2009).\n",
      "<BR>\n",
      "</LI>\n",
      "</OL>\n",
      "\n",
      "<OL START=213>\n",
      "<LI>\n",
      "<A HREF=\"Papers/JPhysChemC_113_16561-16564_2009.pdf\" target=\"paper213\">\n",
      "&quot;Nature of Oxidation of the Au(111) Surface: Experiment and\n",
      "Theoretical Investigation&quot;\n",
      "</A>\n",
      "<BR> T.A. Baker, B.J. Xu, X.Y. Liu, E. Kaxiras and C.M. Friend, \n",
      "<I>J. Phys. Chem. C </I> <B>113</B>, 16561-16564 (2009).\n",
      "<BR>\n",
      "</LI>\n",
      "</OL>\n",
      "\n",
      "<OL START=212>\n",
      "<LI>\n",
      "<A HREF=\"Papers/IntJCardImag_25_289-299_2009.pdf\" target=\"paper212\">\n",
      "&quot;Prediction of coronary artery plaque progression and potential rupture\n",
      "from 320-detector row prospectively ECG-gated single heart beat CT angiography: \n",
      "Lattice Boltzmann evaluation of endothelial shear stress&quot;\n",
      "</A>\n",
      "<BR> F.J. Rybicki, S. Melchionna, D. Mitsouras, A.U. Coskun, A.G. Whitmore, E. Kaxiras, S. Succi, P.H. Stone and C.L. Feldman,  \n",
      "<I>Int. J. Cardiovasc. Imaging </I> <B>25</B>, 289-299 (2009).\n",
      "<BR>\n",
      "</LI>\n",
      "</OL>\n",
      "\n",
      "<OL START=211>\n",
      "<LI>\n",
      "<A HREF=\"Papers/PhysRevB_79_235202_2009.pdf\" target=\"paper211\">\n",
      "&quot;Optimization of Mn doping in group-IV-based dilute magnetic semiconductors\n",
      "by electronic codopants&quot;\n",
      "</A>\n",
      "<BR> H. Chen, W.G. Zhu, E. Kaxiras, and Z.Y. Zhang,\n",
      "<I>Phys. Rev. B </I> <B>79</B>, 235202 (2009).\n",
      "<BR>\n",
      "</LI>\n",
      "</OL>\n",
      "\n",
      "<OL START=210>\n",
      "<LI>\n",
      "<A HREF=\"Papers/JStatMech_2009.pdf\" target=\"paper210\">\n",
      "&quot;Numerical simulation of conformational variability in biopolymer translocation \n",
      "through wide nanopores&quot;\n",
      "</A>\n",
      "<BR> M. Fyta, S. Melchionna, M. Bernaschi, E. Kaxiras and S. Succi,\n",
      "<I>J. Stat. Mech: Th. and Exper. </I> <B>06</B>, P06009 (2009).\n",
      "<BR>\n",
      "</LI>\n",
      "</OL>\n",
      "\n",
      "<OL START=209>\n",
      "<LI>\n",
      "<A HREF=\"Papers/PhysRevE_79_045701RC_2009.pdf\" target=\"paper209\">\n",
      "&quot;Control algorithm for multiscale flow simulations of water&quot;\n",
      "</A>\n",
      "<BR> E.M. Kotsalis, J.H. Walther, E. Kaxiras and P. Koumoutsakos,  \n",
      "<I>Phys. Rev. E - Rap. Comm. </I> <B>79</B>, 045701 (2009).\n",
      "<BR>\n",
      "</LI>\n",
      "</OL>\n",
      "\n",
      "<OL START=208>\n",
      "<LI>\n",
      "<A HREF=\"Papers/JPhysChemB_113_6478_2009.pdf\" target=\"paper208\">\n",
      "&quot;Structural, Electronic, and Optical Properties of Representative Cu-Flavonoid Complexes&quot;\n",
      "</A>\n",
      "<BR>C.E. Lekka, J. Ren, S. Meng and E. Kaxiras,\n",
      "<I>J. Phys. Chem. B </I> <B>113</B>, 6478-6483 (2009).\n",
      "<BR>\n",
      "</LI>\n",
      "</OL>\n",
      "\n",
      "<OL START=207>\n",
      "<LI>\n",
      "<A HREF=\"Papers/PhysRevLett_102_157201_2009.pdf\" target=\"paper207\">\n",
      "&quot;Topological Frustration in Graphene Nanoflakes: Magnetic Order and Spin Logic Devices&quot;\n",
      "</A>\n",
      "<BR> W.L. Wang, O.V. Yazyev, S. Meng and E. Kaxiras, \n",
      "<I>Phys. Rev. Lett. </I> <B>102</B>, 157201 (2009).\n",
      "<BR>\n",
      "</LI>\n",
      "</OL>\n",
      "\n",
      "<OL START=206>\n",
      "<LI>\n",
      "<A HREF=\"Papers/PhysRevLett_102_149703_2009.pdf\" target=\"paper206\">\n",
      "&quot;Comment on '<I>Ab initio</I> Electronic and Optical Properties of the N-V-Center in Diamond'&quot;\n",
      "</A>\n",
      "<BR> A. Gali and E. Kaxiras, \n",
      "<I>Phys. Rev. Lett. </I> <B>102</B>, 149703 (2009).\n",
      "<BR>\n",
      "</LI>\n",
      "</OL>\n",
      "\n",
      "<OL START=205>\n",
      "<LI>\n",
      "<A HREF=\"Papers/PhysRevE_79_030901RC_2009.pdf\" target=\"paper205\">\n",
      "&quot;Quantized biopolymer translocation through nanopores: Departure from simple scaling&quot;\n",
      "</A>\n",
      "<BR> S. Melchionna, M. Bernaschi, M. Fyta, E. Kaxiras and S. Succi,  \n",
      "<I>Phys. Rev. E - Rap. Comm. </I> <B>79</B>, 030901 (2009).\n",
      "<BR>\n",
      "</LI>\n",
      "</OL>\n",
      "\n",
      "<OL START=204>\n",
      "<LI>\n",
      "<A HREF=\"Papers/PhysRevLett_102_095504_2009.pdf\" target=\"paper204\">\n",
      "&quot;Atomistic Simulation of Field Enhanced Oxidation of Al(1000) Beyond the Mott Potential&quot;\n",
      "</A>\n",
      "<BR>S.K.R.S. Sankaranarayanan, E. Kaxiras, S. Ramanathan,\n",
      "<I>Phys. Rev. Lett. </I> <B>102</B>, 095504 (2009).\n",
      "<BR>\n",
      "</LI>\n",
      "</OL>\n",
      "\n",
      "<OL START=203>\n",
      "<LI>\n",
      "<A HREF=\"Papers/JChemPhys_130_084701_2009.pdf\" target=\"paper203\">\n",
      "&quot;Effects of chlorine and oxygen coverage on the structure of the Au(111) surface&quot;\n",
      "</A>\n",
      "<BR>T.A. Baker, C.M. Friend and E. Kaxiras,\n",
      "<I>J. Chem. Phys. </I> <B>130</B>, 084701 (2009).\n",
      "<BR>\n",
      "</LI>\n",
      "</OL>\n",
      "\n",
      "<OL START=202>\n",
      "<LI>\n",
      "<A HREF=\"Papers/JPhysChemC_113_3232_2009.pdf\" target=\"paper202\">\n",
      "&quot;Atomic Oxygen Adsorption on Au(111) Surfaces with Defects&quot;\n",
      "</A>\n",
      "<BR>T.A. Baker, C.M. Friend and E. Kaxiras,\n",
      "<I>J. Phys. Chem. C </I> <B>113</B>, 3232-3238 (2009).\n",
      "<BR>\n",
      "</LI>\n",
      "</OL>\n",
      "\n",
      "<OL START=201>\n",
      "<LI>\n",
      "<A HREF=\"Papers/SciModSim_15_59_2008.pdf\" target=\"paper201\">\n",
      "&quot;Multiscale simulations of complex systems: computation meets reality&quot;\n",
      "</A>\n",
      "<BR>E. Kaxiras and S. Succi, \n",
      "<I>Sci. Model. Simul. </I> <B>15</B>, 59-65 (2008).\n",
      "<BR>\n",
      "</LI>\n",
      "</OL>\n",
      "\n",
      "<OL START=200>\n",
      "<LI>\n",
      "<A HREF=\"Papers/PhysRevB_78_205112_2008.pdf\" target=\"paper200\">\n",
      "&quot;Effective Hamiltonian for FeAs-based superconductors&quot;\n",
      "</A>\n",
      "<BR>E. Manousakis, J. Ren, S. Meng and E. Kaxiras, \n",
      "<I>Phys. Rev. B </I> <B>78</B>, 205112 (2008).\n",
      "<BR>\n",
      "</LI>\n",
      "</OL>\n",
      "</BODY>\n",
      "</HTML>\n",
      "\n"
     ]
    }
   ],
   "source": [
    "# check your code\n",
    "prof_pubs = get_pubs(pub_filename)\n",
    "print (prof_pubs)"
   ]
  },
  {
   "cell_type": "markdown",
   "metadata": {
    "button": false,
    "new_sheet": false,
    "run_control": {
     "read_only": false
    }
   },
   "source": [
    "You should see an HTML page\n",
    "```html\n",
    "<LI>\n",
    "<A HREF=\"Papers/2011/PhysRevB_84_125411_2011.pdf\" target=\"paper244\">\n",
    "&quot;Approaching the intrinsic band gap in suspended high-mobility graphene nanoribbons&quot;</A>\n",
    "<BR>Ming-Wei Lin, Cheng Ling, Luis A. Agapito, Nicholas Kioussis, Yiyang Zhang, Mark Ming-Cheng Cheng,\n",
    "<I>PHYSICAL REVIEW B </I> <b>84</b>,  125411 (2011)\n",
    "<BR>\n",
    "</LI>\n",
    "</OL>\n",
    "\n",
    "<OL START=243>\n",
    "<LI>\n",
    "<A HREF=\"Papers/2011/PhysRevB_84_035325_2011.pdf\" target=\"paper243\">\n",
    "&quot;Effect of symmetry breaking on the optical absorption of semiconductor nanoparticles&quot;</A>\n",
    "<BR>JAdam Gali, Efthimios Kaxiras, Gergely T. Zimanyi, Sheng Meng,\n",
    "<I>PHYSICAL REVIEW B </I> <b>84</b>,  035325 (2011)\n",
    "<BR>\n",
    "</LI>\n",
    "</OL>\n",
    "\n",
    "<OL START=242>\n",
    "<LI>\n",
    "<A HREF=\"Papers/2011/PhysRevB_83_054204_2011.pdf\" target=\"paper242\">\n",
    "&quot;Influence of CH2 content and network defects on the elastic properties of organosilicate glasses&quot;</A>\n",
    "<BR>Jan M. Knaup, Han Li, Joost J. Vlassak, and Efthimios Kaxiras,\n",
    "<I>PHYSICAL REVIEW B </I> <b>83</b>,  054204 (2011)\n",
    "<BR>\n",
    "</LI>\n",
    "</OL>\n",
    "    ```"
   ]
  },
  {
   "cell_type": "markdown",
   "metadata": {},
   "source": [
    "#### 1.2"
   ]
  },
  {
   "cell_type": "code",
   "execution_count": 36,
   "metadata": {
    "button": false,
    "new_sheet": false,
    "run_control": {
     "read_only": false
    }
   },
   "outputs": [
    {
     "data": {
      "text/plain": [
       "8"
      ]
     },
     "execution_count": 36,
     "metadata": {},
     "output_type": "execute_result"
    }
   ],
   "source": [
    "# Ask about list only taking C.M or Cynthia M., not the whole name\n",
    "\n",
    "\n",
    "len(re.findall('(Cynthia M. |C.M. )Friend',prof_pubs))"
   ]
  },
  {
   "cell_type": "markdown",
   "metadata": {},
   "source": [
    "#### 1.3"
   ]
  },
  {
   "cell_type": "code",
   "execution_count": 53,
   "metadata": {
    "button": false,
    "new_sheet": false,
    "run_control": {
     "read_only": false
    }
   },
   "outputs": [],
   "source": [
    "journals = list(set(re.findall('<I>(.+)</I>', prof_pubs)))"
   ]
  },
  {
   "cell_type": "code",
   "execution_count": 80,
   "metadata": {
    "button": false,
    "new_sheet": false,
    "run_control": {
     "read_only": false
    }
   },
   "outputs": [
    {
     "data": {
      "text/plain": [
       "['Concurrency Computat.: Pract. Exper. ',\n",
       " 'Catal. Sci. Technol. ',\n",
       " 'Sci. Model. Simul. ',\n",
       " 'ACSNano. ',\n",
       " 'NanoLett. ',\n",
       " 'J. Phys. Chem. B ',\n",
       " 'Energy & Environmental Sci. ',\n",
       " 'J. Stat. Mech: Th. and Exper. ',\n",
       " 'Int. J. Cardiovasc. Imaging ',\n",
       " 'Acta Mater. ',\n",
       " '2010 ACM/IEEE International Conference for High Performance ',\n",
       " 'Phil. Trans. R. Soc. A ',\n",
       " 'New Journal of Physics ',\n",
       " 'J. Phys. Chem. C ',\n",
       " 'J. Phys. Chem. Lett. ',\n",
       " 'J. Chem. Phys. ',\n",
       " 'Chem. Eur. J. ',\n",
       " 'New J. Phys. ',\n",
       " 'Phys. Rev. Lett. ',\n",
       " 'Top. Catal. ',\n",
       " 'Molec. Phys. ',\n",
       " 'Phys. Rev. B ',\n",
       " 'Ab initio',\n",
       " 'PHYSICAL REVIEW B ',\n",
       " 'Comp. Phys. Comm. ',\n",
       " 'Langmuir ',\n",
       " 'Sol. St. Comm. ',\n",
       " 'Phys. Rev. E - Rap. Comm. ',\n",
       " 'J. Chem. Theory Comput. ',\n",
       " 'Nano Lett. ']"
      ]
     },
     "execution_count": 80,
     "metadata": {},
     "output_type": "execute_result"
    }
   ],
   "source": [
    "# check your code: print journals\n",
    "journals"
   ]
  },
  {
   "cell_type": "markdown",
   "metadata": {
    "button": false,
    "new_sheet": false,
    "run_control": {
     "read_only": false
    }
   },
   "source": [
    "Your output should look like this (remember, no duplicates):\n",
    "```\n",
    "'ACSNano.',\n",
    " 'Ab initio',\n",
    " 'Ab-initio',\n",
    " 'Acta Mater.',\n",
    " 'Acta Materialia',\n",
    " 'Appl. Phys. Lett.',\n",
    " 'Applied Surface Science',\n",
    " 'Biophysical J.',\n",
    " 'Biosensing Using Nanomaterials',\n",
    "\n",
    " ...\n",
    "\n",
    " 'Solid State Physics',\n",
    " 'Superlattices and Microstructures',\n",
    " 'Surf. Sci.',\n",
    " 'Surf. Sci. Lett.',\n",
    " 'Surface  Science',\n",
    " 'Surface Review and Letters',\n",
    " 'Surface Sci. Lett.',\n",
    " 'Surface Science Lett.',\n",
    " 'Thin Solid Films',\n",
    " 'Top. Catal.',\n",
    " 'Z'}\n",
    "```"
   ]
  },
  {
   "cell_type": "markdown",
   "metadata": {},
   "source": [
    "#### 1.4"
   ]
  },
  {
   "cell_type": "code",
   "execution_count": 86,
   "metadata": {
    "button": false,
    "new_sheet": false,
    "run_control": {
     "read_only": false
    }
   },
   "outputs": [
    {
     "data": {
      "text/plain": [
       "['Ming-Wei Lin, Cheng Ling, Luis A. Agapito, Nicholas Kioussis, Yiyang Zhang, Mark Ming-Cheng Cheng,',\n",
       " 'JAdam Gali, Efthimios Kaxiras, Gergely T. Zimanyi, Sheng Meng,',\n",
       " 'Jan M. Knaup, Han Li, Joost J. Vlassak, and Efthimios Kaxiras,',\n",
       " 'Martin Heiss, Sonia Conesa-Boj, Jun Ren, Hsiang-Han Tseng, Adam Gali,',\n",
       " 'Simone Melchionna, Efthimios Kaxiras, Massimo Bernaschi and Sauro Succi, ',\n",
       " 'J R Maze, A Gali, E Togan, Y Chu, A Trifonov,',\n",
       " 'Kejie Zhao, Wei L. Wang, John Gregoire, Matt Pharr, Zhigang Suo,',\n",
       " ' Masataka Katono, Takeru Bessho, Sheng Meng, Robin Humphry-Baker, Guido Rothenberger,',\n",
       " ' Thomas D. Kuhne, Tod A. Pascal, Efthimios Kaxiras, and Yousung Jung,',\n",
       " ' Sheng Meng, Efthimios Kaxiras, Md. K. Nazeeruddin, and Michael Gratzel,',\n",
       " ' Bingjun Xu, Jan Haubrich, Thomas A. Baker, Efthimios Kaxiras, and Cynthia M. Friend,',\n",
       " ' Jun Ren, Sheng Meng, Yi-Lin Wang, Xu-Cun Ma, Qi-Kun Xue, Efthimios Kaxiras,',\n",
       " ' Jan Haubrich, Efthimios Kaxiras, and Cynthia M. Friend,',\n",
       " ' Thomas A. Baker, Bingjun Xu, Stephen C. Jensen, Cynthia M. Friend and Efthimios Kaxiras,',\n",
       " ' Youdong Mao, Wei L. Wang, Dongguang Wei, Efthimios Kaxiras, and Joseph G. Sodroski,',\n",
       " ' H. Li, J.M. Knaup, E. Kaxiras and J.J. Vlassak,',\n",
       " ' W.L. Wang and E. Kaxiras,',\n",
       " ' L.A. Agapito, N. Kioussis and E. Kaxiras,',\n",
       " ' A. Peters, S. Melchionna, E. Kaxiras, J. Latt, J. Sircar, S. Succi, ',\n",
       " ' J. Ren, E. Kaxiras and S. Meng, ',\n",
       " ' T.A. Baker, E. Kaxiras and C.M. Friend, ',\n",
       " ' H.P. Chen, R.K. Kalia, E. Kaxiras, G. Lu, A. Nakano, K. Nomura,',\n",
       " ' S. Meng and E. Kaxiras,',\n",
       " ' C.L. Chang, S.K.R.S. Sankaranarayanan, D. Ruzmetov, M.H. Engelhard, E. Kaxiras and S. Ramanathan, ',\n",
       " ' T.A. Baker, C.M. Friend and E. Kaxiras, ',\n",
       " ' S. Melchionna, M. Bernaschi, S. Succi, E. Kaxiras, F.J. Rybicki, D. Mitsouras, A.U. Coskun and C.L. Feldman, ',\n",
       " ' M. Bernaschi, M. Fatica, S. Melchionna, S. Succi and E. Kaxiras, ',\n",
       " ' E. Manousakis, J. Ren, S. Meng and E. Kaxiras, ',\n",
       " ' A. Gali, E. Janzen, P. Deak, G. Kresse and E. Kaxiras, ',\n",
       " ' S.K.R.S. Sankaranarayanan, E. Kaxiras and S. Ramanathan, ',\n",
       " ' M. Bernaschi, S. Melchionna, S. Succi, M. Fyta, E. Kaxiras ',\n",
       " ' T.A. Baker, B.J. Xu, X.Y. Liu, E. Kaxiras and C.M. Friend, ',\n",
       " ' F.J. Rybicki, S. Melchionna, D. Mitsouras, A.U. Coskun, A.G. Whitmore, E. Kaxiras, S. Succi, P.H. Stone and C.L. Feldman,  ',\n",
       " ' H. Chen, W.G. Zhu, E. Kaxiras, and Z.Y. Zhang,',\n",
       " ' M. Fyta, S. Melchionna, M. Bernaschi, E. Kaxiras and S. Succi,',\n",
       " ' E.M. Kotsalis, J.H. Walther, E. Kaxiras and P. Koumoutsakos,  ',\n",
       " 'C.E. Lekka, J. Ren, S. Meng and E. Kaxiras,',\n",
       " ' W.L. Wang, O.V. Yazyev, S. Meng and E. Kaxiras, ',\n",
       " ' A. Gali and E. Kaxiras, ',\n",
       " ' S. Melchionna, M. Bernaschi, M. Fyta, E. Kaxiras and S. Succi,  ',\n",
       " 'S.K.R.S. Sankaranarayanan, E. Kaxiras, S. Ramanathan,',\n",
       " 'T.A. Baker, C.M. Friend and E. Kaxiras,',\n",
       " 'T.A. Baker, C.M. Friend and E. Kaxiras,',\n",
       " 'E. Kaxiras and S. Succi, ',\n",
       " 'E. Manousakis, J. Ren, S. Meng and E. Kaxiras, ']"
      ]
     },
     "execution_count": 86,
     "metadata": {},
     "output_type": "execute_result"
    }
   ],
   "source": [
    "# our code here\n",
    "pub_authors = re.findall('<BR>(.+)', prof_pubs)"
   ]
  },
  {
   "cell_type": "code",
   "execution_count": 87,
   "metadata": {
    "button": false,
    "new_sheet": false,
    "run_control": {
     "read_only": false
    }
   },
   "outputs": [
    {
     "name": "stdout",
     "output_type": "stream",
     "text": [
      "Ming-Wei Lin, Cheng Ling, Luis A. Agapito, Nicholas Kioussis, Yiyang Zhang, Mark Ming-Cheng Cheng,\n",
      "JAdam Gali, Efthimios Kaxiras, Gergely T. Zimanyi, Sheng Meng,\n",
      "Jan M. Knaup, Han Li, Joost J. Vlassak, and Efthimios Kaxiras,\n",
      "Martin Heiss, Sonia Conesa-Boj, Jun Ren, Hsiang-Han Tseng, Adam Gali,\n",
      "Simone Melchionna, Efthimios Kaxiras, Massimo Bernaschi and Sauro Succi, \n",
      "J R Maze, A Gali, E Togan, Y Chu, A Trifonov,\n",
      "Kejie Zhao, Wei L. Wang, John Gregoire, Matt Pharr, Zhigang Suo,\n",
      " Masataka Katono, Takeru Bessho, Sheng Meng, Robin Humphry-Baker, Guido Rothenberger,\n",
      " Thomas D. Kuhne, Tod A. Pascal, Efthimios Kaxiras, and Yousung Jung,\n",
      " Sheng Meng, Efthimios Kaxiras, Md. K. Nazeeruddin, and Michael Gratzel,\n",
      " Bingjun Xu, Jan Haubrich, Thomas A. Baker, Efthimios Kaxiras, and Cynthia M. Friend,\n",
      " Jun Ren, Sheng Meng, Yi-Lin Wang, Xu-Cun Ma, Qi-Kun Xue, Efthimios Kaxiras,\n",
      " Jan Haubrich, Efthimios Kaxiras, and Cynthia M. Friend,\n",
      " Thomas A. Baker, Bingjun Xu, Stephen C. Jensen, Cynthia M. Friend and Efthimios Kaxiras,\n",
      " Youdong Mao, Wei L. Wang, Dongguang Wei, Efthimios Kaxiras, and Joseph G. Sodroski,\n",
      " H. Li, J.M. Knaup, E. Kaxiras and J.J. Vlassak,\n",
      " W.L. Wang and E. Kaxiras,\n",
      " L.A. Agapito, N. Kioussis and E. Kaxiras,\n",
      " A. Peters, S. Melchionna, E. Kaxiras, J. Latt, J. Sircar, S. Succi, \n",
      " J. Ren, E. Kaxiras and S. Meng, \n",
      " T.A. Baker, E. Kaxiras and C.M. Friend, \n",
      " H.P. Chen, R.K. Kalia, E. Kaxiras, G. Lu, A. Nakano, K. Nomura,\n",
      " S. Meng and E. Kaxiras,\n",
      " C.L. Chang, S.K.R.S. Sankaranarayanan, D. Ruzmetov, M.H. Engelhard, E. Kaxiras and S. Ramanathan, \n",
      " T.A. Baker, C.M. Friend and E. Kaxiras, \n",
      " S. Melchionna, M. Bernaschi, S. Succi, E. Kaxiras, F.J. Rybicki, D. Mitsouras, A.U. Coskun and C.L. Feldman, \n",
      " M. Bernaschi, M. Fatica, S. Melchionna, S. Succi and E. Kaxiras, \n",
      " E. Manousakis, J. Ren, S. Meng and E. Kaxiras, \n",
      " A. Gali, E. Janzen, P. Deak, G. Kresse and E. Kaxiras, \n",
      " S.K.R.S. Sankaranarayanan, E. Kaxiras and S. Ramanathan, \n",
      " M. Bernaschi, S. Melchionna, S. Succi, M. Fyta, E. Kaxiras \n",
      " T.A. Baker, B.J. Xu, X.Y. Liu, E. Kaxiras and C.M. Friend, \n",
      " F.J. Rybicki, S. Melchionna, D. Mitsouras, A.U. Coskun, A.G. Whitmore, E. Kaxiras, S. Succi, P.H. Stone and C.L. Feldman,  \n",
      " H. Chen, W.G. Zhu, E. Kaxiras, and Z.Y. Zhang,\n",
      " M. Fyta, S. Melchionna, M. Bernaschi, E. Kaxiras and S. Succi,\n",
      " E.M. Kotsalis, J.H. Walther, E. Kaxiras and P. Koumoutsakos,  \n",
      "C.E. Lekka, J. Ren, S. Meng and E. Kaxiras,\n",
      " W.L. Wang, O.V. Yazyev, S. Meng and E. Kaxiras, \n",
      " A. Gali and E. Kaxiras, \n",
      " S. Melchionna, M. Bernaschi, M. Fyta, E. Kaxiras and S. Succi,  \n",
      "S.K.R.S. Sankaranarayanan, E. Kaxiras, S. Ramanathan,\n",
      "T.A. Baker, C.M. Friend and E. Kaxiras,\n",
      "T.A. Baker, C.M. Friend and E. Kaxiras,\n",
      "E. Kaxiras and S. Succi, \n",
      "E. Manousakis, J. Ren, S. Meng and E. Kaxiras, \n"
     ]
    }
   ],
   "source": [
    "# check your code: print the list of strings containing the author(s)' names\n",
    "for item in pub_authors:\n",
    "    print (item)"
   ]
  },
  {
   "cell_type": "markdown",
   "metadata": {
    "button": false,
    "new_sheet": false,
    "run_control": {
     "read_only": false
    }
   },
   "source": [
    "Your output should look like this (a line for each paper's author(s) string, with or without the comma)<BR><br>\n",
    "S. Meng and E. Kaxiras,<br>\n",
    "G. Lu and E. Kaxiras,<br>\n",
    "E. Kaxiras and S. Yip,<br>\n",
    "...<BR>\n",
    "Simone Melchionna, Efthimios Kaxiras, Massimo Bernaschi and Sauro Succi,<BR>\n",
    "J R Maze, A Gali, E Togan, Y Chu, A Trifonov,<BR>\n",
    "E Kaxiras, and M D Lukin,<BR>"
   ]
  },
  {
   "cell_type": "markdown",
   "metadata": {
    "button": false,
    "new_sheet": false,
    "run_control": {
     "read_only": false
    }
   },
   "source": [
    "<hr style=\"height:1px\">\n",
    "\n",
    "### Question 2: Parsing and Converting to bibTex using Beautiful Soup\n",
    "\n",
    "A lot of the bibliographic and publication information is displayed in various websites in a not-so-structured HTML files. Some publishers prefer to store and transmit this information in a .bibTex file which has the following format:\n",
    "```\n",
    "@article { _number_\n",
    "     author = John Doyle\n",
    "     title = Interaction between atoms\n",
    "     URL = Papers/PhysRevB_81_085406_2010.pdf\n",
    "     journal = Phys. Rev. B\n",
    "     volume = 81\n",
    "}\n",
    "```\n",
    "\n",
    "```\n",
    "@article\n",
    "{    author = Ming-Wei Lin, Cheng Ling, Luis A. Agapito, Nicholas Kioussis, Yiyang Zhang, Mark Ming-Cheng Cheng\n",
    "     title = \"Approaching the intrinsic band gap in suspended high-mobility graphene nanoribbons\"\n",
    "     URL = Papers/2011/PhysRevB_84_125411_2011.pdf\n",
    "     journal = PHYSICAL REVIEW B\n",
    "     volume = 84\n",
    "}\n",
    "```\n",
    "About the [bibTex format](http://www.bibtex.org).\n",
    "\n",
    "In Question 2 you are given an .html file containing a list of papers scraped from the author's website and you are to write the information into .bibTex format. We used regular expressions for parsing HTML in the previous question but just regular expressions are hard to use in parsing real-life websites. A useful tool is [BeautifulSoup]  (http://www.crummy.com/software/BeautifulSoup/) (BS). You will parse the same file, this time using BS, which makes parsing HTML a lot easier.\n",
    "\n",
    "**2.1** Write a function called `make_soup` that accepts a filename for an HTML file and returns a BS object.\n",
    "    \n",
    "**2.2** Write a function that reads in the BS object, parses it, converts it into the .bibTex format using python string manipulation and regular expressions, and writes the data into `publist.bib`. You will need to create that file in your folder.  \n",
    "\n",
    "    \n",
    "#### HINT\n",
    "- Inspect the HTML code for tags that indicate information chunks such as `title` of the paper. You had already done this in Part 1 when you figured out how to get the name of the journal from the HTML code. The `find_all` method of BeautifulSoup might be useful.\n",
    "- Question 2.2 is better handled if you break the code into functions, each performing a small task such as finding the author(s) for each paper.\n",
    "- Make sure you catch exceptions when needed.\n",
    "- Regular expressions are a great tool for string manipulation. \n",
    "\n",
    "\n",
    "#### Resources\n",
    "- [BeautifulSoup Tutorial](https://www.dataquest.io/blog/web-scraping-tutorial-python/).\n",
    "- More about the [BibTex format](http://www.bibtex.org).<BR>"
   ]
  },
  {
   "cell_type": "code",
   "execution_count": 8,
   "metadata": {
    "button": false,
    "collapsed": true,
    "new_sheet": false,
    "run_control": {
     "read_only": false
    }
   },
   "outputs": [],
   "source": [
    "# import the necessary libraries \n",
    "from bs4 import BeautifulSoup\n",
    "from sys import argv\n",
    "from urllib.request import urlopen\n",
    "from urllib.error import HTTPError"
   ]
  },
  {
   "cell_type": "markdown",
   "metadata": {},
   "source": [
    "#### 2.1"
   ]
  },
  {
   "cell_type": "code",
   "execution_count": null,
   "metadata": {
    "button": false,
    "collapsed": true,
    "new_sheet": false,
    "run_control": {
     "read_only": false
    }
   },
   "outputs": [],
   "source": [
    "# your code here\n",
    "\n",
    "# definition of make_soup\n",
    "def make_soup(filename: str) -> BeautifulSoup:      \n",
    "    '''Open the file and convert into a BS object. \n",
    "       \n",
    "       Args:\n",
    "           filename: A string name of the file.\n",
    "       \n",
    "       Returns:\n",
    "           A BS object containing the HTML page.\n",
    "    '''"
   ]
  },
  {
   "cell_type": "code",
   "execution_count": null,
   "metadata": {
    "button": false,
    "collapsed": true,
    "new_sheet": false,
    "run_control": {
     "read_only": false
    }
   },
   "outputs": [],
   "source": [
    "# check your code: print the Beautiful Soup object, you should see an HTML page\n",
    "print (soup)"
   ]
  },
  {
   "cell_type": "markdown",
   "metadata": {},
   "source": [
    "Your output should look like this:\n",
    "```\n",
    "<!DOCTYPE HTML PUBLIC \"-//W3C//DTD HTML 4.01 Transitional//EN\"\n",
    "   \"http://www.w3.org/TR/html4/loose.dtd\">\n",
    "\n",
    "<title>Kaxiras E journal publications</title>\n",
    "<head>\n",
    "<meta content=\"text/html;charset=utf-8\" http-equiv=\"Content-Type\"/>\n",
    "<link href=\"../styles/style_pubs.css\" rel=\"stylesheet\" type=\"text/css\"/>\n",
    "<meta content=\"\" name=\"description\"/>\n",
    "<meta content=\"Kaxiras E, Multiscale Methods, Computational Materials\" name=\"keywords\"/>\n",
    "</head>\n",
    "<body>\n",
    "<ol start=\"244\">\n",
    "<li>\n",
    "<a href=\"Papers/2011/PhysRevB_84_125411_2011.pdf\" target=\"paper244\">\n",
    "\"Approaching the intrinsic band gap in suspended high-mobility graphene nanoribbons\"</a>\n",
    "<br/>Ming-Wei Lin, Cheng Ling, Luis A. Agapito, Nicholas Kioussis, Yiyang Zhang, Mark Ming-Cheng Cheng,\n",
    "<i>PHYSICAL REVIEW B </i> <b>84</b>,  125411 (2011)\n",
    "<br/>\n",
    "</li>\n",
    "</ol>\n",
    "<ol start=\"243\">\n",
    "<li>\n",
    "<a href=\"Papers/2011/PhysRevB_84_035325_2011.pdf\" target=\"paper243\">\n",
    "\"Effect of symmetry breaking on the optical absorption of semiconductor nanoparticles\"</a>\n",
    "<br/>JAdam Gali, Efthimios Kaxiras, Gergely T. Zimanyi, Sheng Meng,\n",
    "<i>PHYSICAL REVIEW B </i> <b>84</b>,  035325 (2011)\n",
    "<br/>\n",
    "</li>\n",
    "</ol>\n",
    "\n",
    "...\n",
    "\n",
    "```"
   ]
  },
  {
   "cell_type": "markdown",
   "metadata": {},
   "source": [
    "#### 2.2"
   ]
  },
  {
   "cell_type": "code",
   "execution_count": 20,
   "metadata": {
    "button": false,
    "collapsed": true,
    "new_sheet": false,
    "run_control": {
     "read_only": false
    }
   },
   "outputs": [],
   "source": [
    "# your code here \n"
   ]
  },
  {
   "cell_type": "code",
   "execution_count": null,
   "metadata": {
    "button": false,
    "collapsed": true,
    "new_sheet": false,
    "run_control": {
     "read_only": false
    }
   },
   "outputs": [],
   "source": [
    "# check your code: print the BibTex file\n",
    "f = open('publist.bib','r')\n",
    "print (f.read())"
   ]
  },
  {
   "cell_type": "markdown",
   "metadata": {
    "button": false,
    "new_sheet": false,
    "run_control": {
     "read_only": false
    }
   },
   "source": [
    "Your output should look like this\n",
    "```\n",
    "@article\n",
    "{    author = Ming-Wei Lin, Cheng Ling, Luis A. Agapito, Nicholas Kioussis, Yiyang Zhang, Mark Ming-Cheng Cheng\n",
    "     title = \"Approaching the intrinsic band gap in suspended high-mobility graphene nanoribbons\"\n",
    "     URL = Papers/2011/PhysRevB_84_125411_2011.pdf\n",
    "     journal = PHYSICAL REVIEW B\n",
    "     volume = 84\n",
    "}\n",
    "\n",
    "...\n",
    "\n",
    "@article\n",
    "{    author = E. Kaxiras and S. Succi\n",
    "     title = \"Multiscale simulations of complex systems: computation meets reality\"\n",
    "     URL = Papers/SciModSim_15_59_2008.pdf\n",
    "     journal = Sci. Model. Simul.\n",
    "     volume = 15\n",
    "}\n",
    "@article\n",
    "{    author = E. Manousakis, J. Ren, S. Meng and E. Kaxiras\n",
    "     title = \"Effective Hamiltonian for FeAs-based superconductors\"\n",
    "     URL = Papers/PhysRevB_78_205112_2008.pdf\n",
    "     journal = Phys. Rev. B\n",
    "     volume = 78\n",
    "}\n",
    "```"
   ]
  },
  {
   "cell_type": "markdown",
   "metadata": {
    "button": false,
    "new_sheet": false,
    "run_control": {
     "read_only": false
    }
   },
   "source": [
    "---"
   ]
  },
  {
   "cell_type": "markdown",
   "metadata": {
    "button": false,
    "new_sheet": false,
    "run_control": {
     "read_only": false
    }
   },
   "source": [
    "## Part B [50 pts]:  Follow the stars in IMDb's list of \"The Top 100 Stars for 2017\" \n",
    "\n",
    "### Overview\n",
    "\n",
    "In Part 3 your goal is to extract information from IMDb's Top 100 Stars for 2017 (https://www.imdb.com/list/ls025814950/) and perform some analysis on each star in the list. In particular we are interested to know: a) how many performers made their first movie at 17? b) how many performers started as child actors? c) who is the most proliferate actress or actor in IMDb's list of the Top 100 Stars for 2017? . These questions are addressed in more details in the Questions below. \n",
    "\n",
    "When data is **not** given to us in a file, we need to fetch them using one of the following ways:\n",
    "- download a file from a source URL\n",
    "- query a database \n",
    "- query a web API \n",
    "- scrape data from the web page\n",
    "\n",
    "### Question 1: Web Scraping Using Beautiful Soup\n",
    "**1.1** Download the webpage of the \"Top 100 Stars for 2017\" (https://www.imdb.com/list/ls025814950/) into a `requests` object and name it `my_page`. Explain what the following attributes are:\n",
    "\n",
    "- `my_page.text`, \n",
    "- `my_page.status_code`,\n",
    "- `my_page.content`.\n",
    "\n",
    "**1.2** Create a Beautiful Soup object named `star_soup` giving `my_page` as input.\n",
    "\n",
    "**1.3** Write a function called `parse_stars` that accepts `star_soup` as its input and generates a list of dictionaries named `starlist` (see definition below). One of the fields of this dictionary is the `url` of each star's individual page, which you need to scrape and save the contents in the `page` field. Note that there is a ton of information about each star on these webpages. \n",
    "\n",
    "**1.4** Write a function called `create_star_table` to extract information about each star (see function definition for the exact information to extract). **Only extract information from the first box on each star's page. If the first box is acting, consider only acting credits and the star's acting debut, if the first box is Directing, consider only directing credits and directorial debut.**\n",
    "\n",
    "**1.5** Now that you have scraped all the info you need, it's a good practice to save the last data structure you created to disk. That way if you need to re-run from here, you don't need to redo all these requests and parsing. Save this information to a JSON file and **submit** this JSON file in Canvas with your notebook. \n",
    "\n",
    "**1.6** Import the contents of the teaching staff's JSON file (`data/staff_starinfo.json`) into a pandas dataframe. Check the types of variables in each column and clean these variables if needed. Add a new column to your dataframe with the age of each actor when they made first movie (name this column `age_at_first_movie`).\n",
    "\n",
    "**1.7** You are now ready to answer the following intriguing questions: \n",
    "- How many performers made their first movie at 17?\n",
    "- How many performers started as child actors? Define child actor as a person less than 12 years old. \n",
    "- Who is the most prolific actress or actor in IMDb's list of the Top 100 Stars for 2017? \n",
    "\n",
    "**1.8** Make a plot of the number of credits versus the name of actor/actress. \n",
    " \n",
    "\n",
    "\n",
    "### Hints\n",
    "- Create a variable that groups actors/actresses by the age of their first movie. Use pandas' `.groupby` to divide the dataframe into groups of performers that for example started performing as children (age $<$ 12). The grouped variable is a `GroupBy` pandas object and this object has all of the information needed to then apply some operation to each of the groups.\n",
    "- When cleaning the data make sure the variables with which you are performing calculations are in numerical format.\n",
    "- The column with the year has some values that are double, e.g. **'2000-2001'** and the column with age has some empty cells. You need to deal with these before performing calculations on the data! \n",
    "- You should include both movies and TV shows.\n",
    "    \n",
    "### Resources\n",
    "- The `requests` library makes working with HTTP requests powerful and easy. For more on the `requests` library see http://docs.python-requests.org/"
   ]
  },
  {
   "cell_type": "code",
   "execution_count": 24,
   "metadata": {
    "button": false,
    "collapsed": true,
    "new_sheet": false,
    "run_control": {
     "read_only": false
    }
   },
   "outputs": [],
   "source": [
    "import requests"
   ]
  },
  {
   "cell_type": "markdown",
   "metadata": {},
   "source": [
    "#### 1.1"
   ]
  },
  {
   "cell_type": "code",
   "execution_count": null,
   "metadata": {
    "button": false,
    "collapsed": true,
    "new_sheet": false,
    "run_control": {
     "read_only": false
    }
   },
   "outputs": [],
   "source": [
    "# your code here\n"
   ]
  },
  {
   "cell_type": "markdown",
   "metadata": {
    "button": false,
    "new_sheet": false,
    "run_control": {
     "read_only": false
    }
   },
   "source": [
    "<HR> Your answers here\n",
    "\n",
    "<HR>"
   ]
  },
  {
   "cell_type": "markdown",
   "metadata": {},
   "source": [
    "#### 1.2"
   ]
  },
  {
   "cell_type": "code",
   "execution_count": 28,
   "metadata": {
    "button": false,
    "collapsed": true,
    "new_sheet": false,
    "run_control": {
     "read_only": false
    }
   },
   "outputs": [],
   "source": [
    "# your code here\n"
   ]
  },
  {
   "cell_type": "code",
   "execution_count": null,
   "metadata": {
    "button": false,
    "collapsed": true,
    "new_sheet": false,
    "run_control": {
     "read_only": false
    }
   },
   "outputs": [],
   "source": [
    "# check your code - you should see an HTML page\n",
    "print (star_soup.prettify()[:])"
   ]
  },
  {
   "cell_type": "markdown",
   "metadata": {},
   "source": [
    "#### 1.3"
   ]
  },
  {
   "cell_type": "markdown",
   "metadata": {
    "button": false,
    "collapsed": true,
    "new_sheet": false,
    "run_control": {
     "read_only": false
    }
   },
   "source": [
    "```\n",
    "Function\n",
    "--------\n",
    "parse_stars\n",
    "\n",
    "Input\n",
    "------\n",
    "star_soup: the soup object with the scraped page\n",
    "   \n",
    "Returns\n",
    "-------\n",
    "a list of dictionaries; each dictionary corresponds to a star profile and has the following data:\n",
    "\n",
    "    name: the name of the actor/actress as it appears at the top\n",
    "    gender: 0 or 1: translate the word 'actress' into 1 and 'actor' into '0'\n",
    "    url: the url of the link under their name that leads to a page with details\n",
    "    page: the string containing the soup of the text in their individual info page (from url)\n",
    "\n",
    "Example:\n",
    "--------\n",
    "{'name': Tom Hardy,\n",
    "  'gender': 0,\n",
    "  'url': https://www.imdb.com/name/nm0362766/?ref_=nmls_hd,\n",
    "  'page': BS object with 'html text acquired by scraping the 'url' page'\n",
    "}\n",
    "\n",
    "```"
   ]
  },
  {
   "cell_type": "code",
   "execution_count": null,
   "metadata": {
    "collapsed": true
   },
   "outputs": [],
   "source": [
    "# your code here\n"
   ]
  },
  {
   "cell_type": "code",
   "execution_count": null,
   "metadata": {
    "button": false,
    "collapsed": true,
    "new_sheet": false,
    "run_control": {
     "read_only": false
    }
   },
   "outputs": [],
   "source": [
    "# this list is large because of the html code into the `page` field\n",
    "# to get a better picture, print only the first element\n",
    "starlist[0]"
   ]
  },
  {
   "cell_type": "markdown",
   "metadata": {
    "button": false,
    "new_sheet": false,
    "run_control": {
     "read_only": false
    }
   },
   "source": [
    "Your output should look like this:\n",
    "```\n",
    "{'name': 'Gal Gadot',\n",
    " 'gender': 1,\n",
    " 'url': 'https://www.imdb.com/name/nm2933757?ref_=nmls_hd',\n",
    " 'page': \n",
    " <!DOCTYPE html>\n",
    " \n",
    " <html xmlns:fb=\"http://www.facebook.com/2008/fbml\" xmlns:og=\"http://ogp.me/ns#\">\n",
    " <head>\n",
    " <meta charset=\"utf-8\"/>\n",
    " <meta content=\"IE=edge\" http-equiv=\"X-UA-Compatible\"/>\n",
    " <meta content=\"app-id=342792525, app-argument=imdb:///name/nm2933757?src=mdot\" name=\"apple-itunes-app\"/>\n",
    " <script type=\"text/javascript\">var IMDbTimer={starttime: new Date().getTime(),pt:'java'};</script>\n",
    " <script>\n",
    "     if (typeof uet == 'function') {\n",
    "       uet(\"bb\", \"LoadTitle\", {wb: 1});\n",
    "     }\n",
    " </script>\n",
    " <script>(function(t){ (t.events = t.events || {})[\"csm_head_pre_title\"] = new Date().getTime(); })(IMDbTimer);</script>\n",
    " \n",
    "... \n",
    "\n",
    "\n",
    " ```"
   ]
  },
  {
   "cell_type": "markdown",
   "metadata": {},
   "source": [
    "#### 1.4"
   ]
  },
  {
   "cell_type": "markdown",
   "metadata": {
    "button": false,
    "collapsed": true,
    "new_sheet": false,
    "run_control": {
     "read_only": false
    }
   },
   "source": [
    "```\n",
    "Function\n",
    "--------\n",
    "create_star_table\n",
    "\n",
    "Input\n",
    "------\n",
    "the starlist\n",
    "   \n",
    "Returns\n",
    "-------\n",
    "\n",
    "a list of dictionaries; each dictionary corresponds to a star profile and has the following data:\n",
    "\n",
    "    star_name: the name of the actor/actress as it appears at the top\n",
    "    gender: 0 or 1 (1 for 'actress' and 0 for 'actor')  \n",
    "    year_born : year they were born\n",
    "    first_movie: title of their first movie or TV show\n",
    "    year_first_movie: the year they made their first movie or TV show\n",
    "    credits: number of movies or TV shows they have made in their career.\n",
    "    \n",
    "--------\n",
    "Example:\n",
    "\n",
    "{'star_name': Tom Hardy,\n",
    "  'gender': 0,\n",
    "  'year_born': 1997,\n",
    "  'first_movie' : 'Batman',\n",
    "  'year_first_movie' : 2017,\n",
    "  'credits' : 24}\n",
    "  \n",
    "```"
   ]
  },
  {
   "cell_type": "code",
   "execution_count": null,
   "metadata": {
    "collapsed": true
   },
   "outputs": [],
   "source": [
    "# your code here\n",
    "\n",
    "def create_star_table(starlist: list) -> list:\n",
    "    "
   ]
  },
  {
   "cell_type": "code",
   "execution_count": 43,
   "metadata": {
    "button": false,
    "collapsed": true,
    "new_sheet": false,
    "run_control": {
     "read_only": false
    }
   },
   "outputs": [],
   "source": [
    "# RUN THIS CELL ONLY ONCE - IT WILL TAKE SOME TIME TO RUN\n",
    "star_table = []\n",
    "star_table = create_star_table(starlist)"
   ]
  },
  {
   "cell_type": "code",
   "execution_count": null,
   "metadata": {
    "button": false,
    "collapsed": true,
    "new_sheet": false,
    "run_control": {
     "read_only": false
    }
   },
   "outputs": [],
   "source": [
    "# check your code\n",
    "star_table"
   ]
  },
  {
   "cell_type": "markdown",
   "metadata": {
    "button": false,
    "new_sheet": false,
    "run_control": {
     "read_only": false
    }
   },
   "source": [
    "Your output should look like this:\n",
    "```\n",
    "[{'name': 'Gal Gadot',\n",
    "  'gender': 1,\n",
    "  'year_born': '1985',\n",
    "  'first_movie': 'Bubot',\n",
    "  'year_first_movie': '2007',\n",
    "  'credits': '25'},\n",
    " {'name': 'Tom Hardy',\n",
    "  'gender': 0,\n",
    "  'year_born': '1977',\n",
    "  'first_movie': 'Tommaso',\n",
    "  'year_first_movie': '2001',\n",
    "  'credits': '55'},\n",
    "  \n",
    "...\n",
    "```"
   ]
  },
  {
   "cell_type": "markdown",
   "metadata": {},
   "source": [
    "#### 1.5"
   ]
  },
  {
   "cell_type": "code",
   "execution_count": 46,
   "metadata": {
    "button": false,
    "collapsed": true,
    "new_sheet": false,
    "run_control": {
     "read_only": false
    }
   },
   "outputs": [],
   "source": [
    "# your code here\n",
    "\n",
    "import json"
   ]
  },
  {
   "cell_type": "markdown",
   "metadata": {},
   "source": [
    "#### 1.6"
   ]
  },
  {
   "cell_type": "code",
   "execution_count": null,
   "metadata": {
    "button": false,
    "collapsed": true,
    "new_sheet": false,
    "run_control": {
     "read_only": false
    }
   },
   "outputs": [],
   "source": [
    "# your code here\n"
   ]
  },
  {
   "cell_type": "markdown",
   "metadata": {},
   "source": [
    "#### 1.7.1"
   ]
  },
  {
   "cell_type": "code",
   "execution_count": null,
   "metadata": {
    "button": false,
    "collapsed": true,
    "new_sheet": false,
    "run_control": {
     "read_only": false
    }
   },
   "outputs": [],
   "source": [
    "# your code here\n"
   ]
  },
  {
   "cell_type": "markdown",
   "metadata": {},
   "source": [
    "Your output should look like this:<BR>\n",
    "8 performers made their first movie at 17"
   ]
  },
  {
   "cell_type": "markdown",
   "metadata": {},
   "source": [
    "#### 1.7.2"
   ]
  },
  {
   "cell_type": "code",
   "execution_count": null,
   "metadata": {
    "button": false,
    "collapsed": true,
    "new_sheet": false,
    "run_control": {
     "read_only": false
    }
   },
   "outputs": [],
   "source": [
    "# your code here\n"
   ]
  },
  {
   "cell_type": "markdown",
   "metadata": {},
   "source": [
    "#### 1.8"
   ]
  },
  {
   "cell_type": "code",
   "execution_count": 2,
   "metadata": {
    "button": false,
    "collapsed": true,
    "new_sheet": false,
    "run_control": {
     "read_only": false
    }
   },
   "outputs": [],
   "source": [
    "# your code here\n"
   ]
  },
  {
   "cell_type": "markdown",
   "metadata": {},
   "source": [
    "<HR>\n",
    "\n",
    "Your answer here\n",
    "\n",
    "<HR>"
   ]
  },
  {
   "cell_type": "code",
   "execution_count": 1,
   "metadata": {},
   "outputs": [
    {
     "data": {
      "text/html": [
       "<style>\n",
       "h1 { \n",
       "    padding-top: 25px;\n",
       "    padding-bottom: 25px;\n",
       "    text-align: left; \n",
       "    padding-left: 10px;\n",
       "    background-color: #DDDDDD; \n",
       "    color: black;\n",
       "}\n",
       "p.q1 { \n",
       "    padding-top: 5px;\n",
       "    padding-bottom: 5px;\n",
       "    text-align: left; \n",
       "    padding-left: 5px;\n",
       "    background-color: #EEEEEE; \n",
       "    color: black;\n",
       "}\n",
       "header {\n",
       "   padding-top: 35px;\n",
       "    padding-bottom: 35px;\n",
       "    text-align: left; \n",
       "    padding-left: 10px;\n",
       "    background-color: #DDDDDD; \n",
       "    color: black;\n",
       "}\n",
       "\n"
      ],
      "text/plain": [
       "<IPython.core.display.HTML object>"
      ]
     },
     "execution_count": 1,
     "metadata": {},
     "output_type": "execute_result"
    }
   ],
   "source": [
    "from IPython.core.display import HTML\n",
    "def css_styling(): styles = open(\"styles/cs109.css\", \"r\").read(); return HTML(styles)\n",
    "css_styling()"
   ]
  },
  {
   "cell_type": "code",
   "execution_count": null,
   "metadata": {
    "collapsed": true
   },
   "outputs": [],
   "source": []
  }
 ],
 "metadata": {
  "kernelspec": {
   "display_name": "Python 3",
   "language": "python",
   "name": "python3"
  },
  "language_info": {
   "codemirror_mode": {
    "name": "ipython",
    "version": 3
   },
   "file_extension": ".py",
   "mimetype": "text/x-python",
   "name": "python",
   "nbconvert_exporter": "python",
   "pygments_lexer": "ipython3",
   "version": "3.6.2"
  }
 },
 "nbformat": 4,
 "nbformat_minor": 2
}
