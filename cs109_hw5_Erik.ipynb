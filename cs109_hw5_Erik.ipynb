{
 "cells": [
  {
   "cell_type": "markdown",
   "metadata": {},
   "source": [
    "# <img style=\"float: left; padding-right: 10px; width: 45px\" src=\"iacs.png\"> S-109A Introduction to Data Science: \n",
    "\n",
    "## Homework 5: Logistic Regression, High Dimensionality and PCA, LDA/QDA\n",
    "\n",
    "\n",
    "**Harvard University**<br/>\n",
    "**Summer 2018**<br/>\n",
    "**Instructors**: Pavlos Protopapas, Kevin Rader\n",
    "\n",
    "<hr style=\"height:2pt\">\n",
    "\n"
   ]
  },
  {
   "cell_type": "markdown",
   "metadata": {},
   "source": [
    "### INSTRUCTIONS\n",
    "\n",
    "- To submit your assignment follow the instructions given in canvas.\n",
    "- Restart the kernel and run the whole notebook again before you submit. \n",
    "- If you submit individually and you have worked with someone, please include the name of your [one] partner below. \n",
    "\n",
    "Names of people you have worked with goes here: \n",
    "\n",
    "Erik Johnsson, Nathan Goldberg"
   ]
  },
  {
   "cell_type": "markdown",
   "metadata": {},
   "source": [
    "<hr style=\"height:2pt\">"
   ]
  },
  {
   "cell_type": "code",
   "execution_count": 1,
   "metadata": {},
   "outputs": [
    {
     "name": "stderr",
     "output_type": "stream",
     "text": [
      "C:\\Users\\ejohn\\Anaconda3\\lib\\site-packages\\statsmodels\\compat\\pandas.py:56: FutureWarning: The pandas.core.datetools module is deprecated and will be removed in a future version. Please use the pandas.tseries module instead.\n",
      "  from pandas.core import datetools\n"
     ]
    }
   ],
   "source": [
    "import numpy as np\n",
    "import pandas as pd\n",
    "\n",
    "import statsmodels.api as sm\n",
    "from statsmodels.api import OLS\n",
    "\n",
    "from sklearn.decomposition import PCA\n",
    "from sklearn.linear_model import LogisticRegression\n",
    "from sklearn.linear_model import LogisticRegressionCV\n",
    "from sklearn.discriminant_analysis import LinearDiscriminantAnalysis\n",
    "from sklearn.discriminant_analysis import QuadraticDiscriminantAnalysis\n",
    "from sklearn.preprocessing import PolynomialFeatures\n",
    "from sklearn.neighbors import KNeighborsClassifier\n",
    "from sklearn.model_selection import cross_val_score\n",
    "from sklearn.metrics import accuracy_score\n",
    "from sklearn.model_selection import KFold\n",
    "from sklearn.metrics import r2_score\n",
    "\n",
    "import math\n",
    "from scipy.special import gamma\n",
    "\n",
    "import matplotlib\n",
    "import matplotlib.pyplot as plt\n",
    "%matplotlib inline\n",
    "\n",
    "import seaborn as sns\n",
    "sns.set()\n",
    "\n",
    "alpha = 0.5"
   ]
  },
  {
   "cell_type": "markdown",
   "metadata": {},
   "source": [
    "## Cancer Classification from Gene Expressions\n",
    "\n",
    "In this problem, we will build a classification model to distinguish between two related classes of cancer, acute lymphoblastic leukemia (ALL) and acute myeloid leukemia (AML), using gene expression measurements. The data set is provided in the file `dataset_hw5_1.csv`. Each row in this file corresponds to a tumor tissue sample from a patient with one of the two forms of Leukemia. The first column contains the cancer type, with 0 indicating the ALL class and 1 indicating the AML class. Columns 2-7130 contain expression levels of 7129 genes recorded from each tissue sample. \n",
    "\n",
    "In the following questions, we will use linear and logistic regression to build a classification models for this data set. We will also use Principal Components Analysis (PCA) to visualize the data and to reduce its dimensions. \n",
    "\n"
   ]
  },
  {
   "cell_type": "markdown",
   "metadata": {},
   "source": [
    "## Question 1: Data Exploration\n",
    "\n",
    "1. First step is to  split  the observations into an approximate 50-50 train-test split.  Below is some code to do this for you (we want to make sure everyone has the same splits).\n",
    "\n",
    "2. Take a peek at your training set: you should notice the severe differences in the measurements from one gene to the next (some are negative, some hover around zero, and some are well into the thousands).  To account for these differences in scale and variability, normalize each predictor to vary between 0 and 1.\n",
    "\n",
    "3. Notice that the results training set contains more predictors than observations. Do you foresee a problem in fitting a classification model to such a data set?\n",
    "\n",
    "4. Lets explore a few of the genes and see how well they discriminate between cancer classes. Create a single figure with four subplots arranged in a 2x2 grid. Consider the following four genes: `D29963_at`, `M23161_at`, `hum_alu_at`, and `AFFX-PheX-5_at`. For each gene overlay two histograms of the gene expression values on one of the subplots, one histogram for each cancer type. Does it appear that any of these genes discriminate between the two classes well? How are you able to tell?\n",
    "\n",
    "5. Since our data has dimensions that are not easily visualizable, we want to reduce the dimensionality of the data to make it easier to visualize. Using PCA, find the top two principal components for the gene expression data. Generate a scatter plot using these principal components, highlighting the two cancer types in different colors. How well do the top two principal components discriminate between the two classes? How much of the variance within the data do these two principal components explain?"
   ]
  },
  {
   "cell_type": "markdown",
   "metadata": {},
   "source": [
    "#### Answers:\n",
    "**1.1:** First step is to split the observations into an approximate 50-50 train-test split. Below is some code to do this for you (we want to make sure everyone has the same splits)."
   ]
  },
  {
   "cell_type": "code",
   "execution_count": 103,
   "metadata": {
    "collapsed": true
   },
   "outputs": [],
   "source": [
    "np.random.seed(9002)\n",
    "df = pd.read_csv('data/dataset_hw5_1.csv')\n",
    "msk = np.random.rand(len(df)) < 0.5\n",
    "data_train = df[msk]\n",
    "data_test = df[~msk]"
   ]
  },
  {
   "cell_type": "code",
   "execution_count": 104,
   "metadata": {},
   "outputs": [
    {
     "name": "stdout",
     "output_type": "stream",
     "text": [
      "Split is 40 train observations and 33 test observations.\n"
     ]
    }
   ],
   "source": [
    "print(\"Split is {} train observations and {} test observations.\"\n",
    "     .format(len(data_train), len(data_test)))"
   ]
  },
  {
   "cell_type": "markdown",
   "metadata": {},
   "source": [
    "**1.2:** Take a peek at your training set: you should notice the severe differences in the measurements from one gene to the next (some are negative, some hover around zero, and some are well into the thousands).  To account for these differences in scale and variability, normalize each predictor to vary between 0 and 1.\n"
   ]
  },
  {
   "cell_type": "code",
   "execution_count": 105,
   "metadata": {},
   "outputs": [
    {
     "data": {
      "text/html": [
       "<div>\n",
       "<style scoped>\n",
       "    .dataframe tbody tr th:only-of-type {\n",
       "        vertical-align: middle;\n",
       "    }\n",
       "\n",
       "    .dataframe tbody tr th {\n",
       "        vertical-align: top;\n",
       "    }\n",
       "\n",
       "    .dataframe thead th {\n",
       "        text-align: right;\n",
       "    }\n",
       "</style>\n",
       "<table border=\"1\" class=\"dataframe\">\n",
       "  <thead>\n",
       "    <tr style=\"text-align: right;\">\n",
       "      <th></th>\n",
       "      <th>Cancer_type</th>\n",
       "      <th>AFFX-BioB-5_at</th>\n",
       "      <th>AFFX-BioB-M_at</th>\n",
       "      <th>AFFX-BioB-3_at</th>\n",
       "      <th>AFFX-BioC-5_at</th>\n",
       "      <th>AFFX-BioC-3_at</th>\n",
       "      <th>AFFX-BioDn-5_at</th>\n",
       "      <th>AFFX-BioDn-3_at</th>\n",
       "      <th>AFFX-CreX-5_at</th>\n",
       "      <th>AFFX-CreX-3_at</th>\n",
       "      <th>...</th>\n",
       "      <th>U48730_at</th>\n",
       "      <th>U58516_at</th>\n",
       "      <th>U73738_at</th>\n",
       "      <th>X06956_at</th>\n",
       "      <th>X16699_at</th>\n",
       "      <th>X83863_at</th>\n",
       "      <th>Z17240_at</th>\n",
       "      <th>L49218_f_at</th>\n",
       "      <th>M71243_f_at</th>\n",
       "      <th>Z78285_f_at</th>\n",
       "    </tr>\n",
       "  </thead>\n",
       "  <tbody>\n",
       "    <tr>\n",
       "      <th>0</th>\n",
       "      <td>0</td>\n",
       "      <td>-214</td>\n",
       "      <td>-153</td>\n",
       "      <td>-58</td>\n",
       "      <td>88</td>\n",
       "      <td>-295</td>\n",
       "      <td>-558</td>\n",
       "      <td>199</td>\n",
       "      <td>-176</td>\n",
       "      <td>252</td>\n",
       "      <td>...</td>\n",
       "      <td>185</td>\n",
       "      <td>511</td>\n",
       "      <td>-125</td>\n",
       "      <td>389</td>\n",
       "      <td>-37</td>\n",
       "      <td>793</td>\n",
       "      <td>329</td>\n",
       "      <td>36</td>\n",
       "      <td>191</td>\n",
       "      <td>-37</td>\n",
       "    </tr>\n",
       "    <tr>\n",
       "      <th>2</th>\n",
       "      <td>0</td>\n",
       "      <td>-106</td>\n",
       "      <td>-125</td>\n",
       "      <td>-76</td>\n",
       "      <td>168</td>\n",
       "      <td>-230</td>\n",
       "      <td>-284</td>\n",
       "      <td>4</td>\n",
       "      <td>-122</td>\n",
       "      <td>70</td>\n",
       "      <td>...</td>\n",
       "      <td>156</td>\n",
       "      <td>649</td>\n",
       "      <td>57</td>\n",
       "      <td>504</td>\n",
       "      <td>-26</td>\n",
       "      <td>250</td>\n",
       "      <td>314</td>\n",
       "      <td>14</td>\n",
       "      <td>56</td>\n",
       "      <td>-25</td>\n",
       "    </tr>\n",
       "    <tr>\n",
       "      <th>5</th>\n",
       "      <td>0</td>\n",
       "      <td>-67</td>\n",
       "      <td>-93</td>\n",
       "      <td>84</td>\n",
       "      <td>25</td>\n",
       "      <td>-179</td>\n",
       "      <td>-323</td>\n",
       "      <td>-135</td>\n",
       "      <td>-127</td>\n",
       "      <td>-2</td>\n",
       "      <td>...</td>\n",
       "      <td>48</td>\n",
       "      <td>224</td>\n",
       "      <td>60</td>\n",
       "      <td>194</td>\n",
       "      <td>-10</td>\n",
       "      <td>291</td>\n",
       "      <td>41</td>\n",
       "      <td>8</td>\n",
       "      <td>-2</td>\n",
       "      <td>-80</td>\n",
       "    </tr>\n",
       "    <tr>\n",
       "      <th>9</th>\n",
       "      <td>0</td>\n",
       "      <td>-476</td>\n",
       "      <td>-213</td>\n",
       "      <td>-18</td>\n",
       "      <td>301</td>\n",
       "      <td>-403</td>\n",
       "      <td>-394</td>\n",
       "      <td>-42</td>\n",
       "      <td>-144</td>\n",
       "      <td>98</td>\n",
       "      <td>...</td>\n",
       "      <td>241</td>\n",
       "      <td>1214</td>\n",
       "      <td>127</td>\n",
       "      <td>255</td>\n",
       "      <td>50</td>\n",
       "      <td>1701</td>\n",
       "      <td>1108</td>\n",
       "      <td>61</td>\n",
       "      <td>525</td>\n",
       "      <td>-83</td>\n",
       "    </tr>\n",
       "    <tr>\n",
       "      <th>10</th>\n",
       "      <td>0</td>\n",
       "      <td>-81</td>\n",
       "      <td>-150</td>\n",
       "      <td>-119</td>\n",
       "      <td>78</td>\n",
       "      <td>-152</td>\n",
       "      <td>-340</td>\n",
       "      <td>-36</td>\n",
       "      <td>-141</td>\n",
       "      <td>96</td>\n",
       "      <td>...</td>\n",
       "      <td>186</td>\n",
       "      <td>573</td>\n",
       "      <td>-57</td>\n",
       "      <td>694</td>\n",
       "      <td>-19</td>\n",
       "      <td>636</td>\n",
       "      <td>205</td>\n",
       "      <td>17</td>\n",
       "      <td>127</td>\n",
       "      <td>-13</td>\n",
       "    </tr>\n",
       "  </tbody>\n",
       "</table>\n",
       "<p>5 rows × 7130 columns</p>\n",
       "</div>"
      ],
      "text/plain": [
       "    Cancer_type  AFFX-BioB-5_at  AFFX-BioB-M_at  AFFX-BioB-3_at  \\\n",
       "0             0            -214            -153             -58   \n",
       "2             0            -106            -125             -76   \n",
       "5             0             -67             -93              84   \n",
       "9             0            -476            -213             -18   \n",
       "10            0             -81            -150            -119   \n",
       "\n",
       "    AFFX-BioC-5_at  AFFX-BioC-3_at  AFFX-BioDn-5_at  AFFX-BioDn-3_at  \\\n",
       "0               88            -295             -558              199   \n",
       "2              168            -230             -284                4   \n",
       "5               25            -179             -323             -135   \n",
       "9              301            -403             -394              -42   \n",
       "10              78            -152             -340              -36   \n",
       "\n",
       "    AFFX-CreX-5_at  AFFX-CreX-3_at     ...       U48730_at  U58516_at  \\\n",
       "0             -176             252     ...             185        511   \n",
       "2             -122              70     ...             156        649   \n",
       "5             -127              -2     ...              48        224   \n",
       "9             -144              98     ...             241       1214   \n",
       "10            -141              96     ...             186        573   \n",
       "\n",
       "    U73738_at  X06956_at  X16699_at  X83863_at  Z17240_at  L49218_f_at  \\\n",
       "0        -125        389        -37        793        329           36   \n",
       "2          57        504        -26        250        314           14   \n",
       "5          60        194        -10        291         41            8   \n",
       "9         127        255         50       1701       1108           61   \n",
       "10        -57        694        -19        636        205           17   \n",
       "\n",
       "    M71243_f_at  Z78285_f_at  \n",
       "0           191          -37  \n",
       "2            56          -25  \n",
       "5            -2          -80  \n",
       "9           525          -83  \n",
       "10          127          -13  \n",
       "\n",
       "[5 rows x 7130 columns]"
      ]
     },
     "execution_count": 105,
     "metadata": {},
     "output_type": "execute_result"
    }
   ],
   "source": [
    "# View training set\n",
    "data_train.head()"
   ]
  },
  {
   "cell_type": "code",
   "execution_count": 106,
   "metadata": {
    "collapsed": true
   },
   "outputs": [],
   "source": [
    "# https://stackoverflow.com/questions/26414913/normalize-columns-of-pandas-data-frame\n",
    "from sklearn import preprocessing\n",
    "min_max_scaler = preprocessing.MinMaxScaler()"
   ]
  },
  {
   "cell_type": "code",
   "execution_count": 107,
   "metadata": {
    "collapsed": true
   },
   "outputs": [],
   "source": [
    "# Separate responses from predictors\n",
    "y_train = data_train['Cancer_type']\n",
    "y_test = data_test['Cancer_type']\n",
    "\n",
    "# Reset indexes\n",
    "y_train = y_train.reset_index()\n",
    "y_test = y_test.reset_index()\n",
    "del y_train['index']\n",
    "del y_test['index']\n",
    "\n",
    "x_train = data_train.drop(columns=['Cancer_type'])\n",
    "x_test = data_test.drop(columns=['Cancer_type'])"
   ]
  },
  {
   "cell_type": "code",
   "execution_count": 108,
   "metadata": {},
   "outputs": [
    {
     "name": "stderr",
     "output_type": "stream",
     "text": [
      "C:\\Users\\ejohn\\Anaconda3\\lib\\site-packages\\sklearn\\utils\\validation.py:429: DataConversionWarning: Data with input dtype int64 was converted to float64 by MinMaxScaler.\n",
      "  warnings.warn(msg, _DataConversionWarning)\n"
     ]
    }
   ],
   "source": [
    "# Normalize predictors\n",
    "x_train = x_train.values\n",
    "x_scaled_train = min_max_scaler.fit_transform(x_train)\n",
    "x_train = pd.DataFrame(x_scaled_train, columns=data_train.columns[1:])\n",
    "\n",
    "# Repeat for test\n",
    "x_test = x_test.values\n",
    "x_scaled_test = min_max_scaler.fit_transform(x_test)\n",
    "x_test = pd.DataFrame(x_scaled_test, columns=data_test.columns[1:])"
   ]
  },
  {
   "cell_type": "code",
   "execution_count": 109,
   "metadata": {},
   "outputs": [
    {
     "data": {
      "text/html": [
       "<div>\n",
       "<style scoped>\n",
       "    .dataframe tbody tr th:only-of-type {\n",
       "        vertical-align: middle;\n",
       "    }\n",
       "\n",
       "    .dataframe tbody tr th {\n",
       "        vertical-align: top;\n",
       "    }\n",
       "\n",
       "    .dataframe thead th {\n",
       "        text-align: right;\n",
       "    }\n",
       "</style>\n",
       "<table border=\"1\" class=\"dataframe\">\n",
       "  <thead>\n",
       "    <tr style=\"text-align: right;\">\n",
       "      <th></th>\n",
       "      <th>AFFX-BioB-5_at</th>\n",
       "      <th>AFFX-BioB-M_at</th>\n",
       "      <th>AFFX-BioB-3_at</th>\n",
       "      <th>AFFX-BioC-5_at</th>\n",
       "      <th>AFFX-BioC-3_at</th>\n",
       "      <th>AFFX-BioDn-5_at</th>\n",
       "      <th>AFFX-BioDn-3_at</th>\n",
       "      <th>AFFX-CreX-5_at</th>\n",
       "      <th>AFFX-CreX-3_at</th>\n",
       "      <th>AFFX-BioB-5_st</th>\n",
       "      <th>...</th>\n",
       "      <th>U48730_at</th>\n",
       "      <th>U58516_at</th>\n",
       "      <th>U73738_at</th>\n",
       "      <th>X06956_at</th>\n",
       "      <th>X16699_at</th>\n",
       "      <th>X83863_at</th>\n",
       "      <th>Z17240_at</th>\n",
       "      <th>L49218_f_at</th>\n",
       "      <th>M71243_f_at</th>\n",
       "      <th>Z78285_f_at</th>\n",
       "    </tr>\n",
       "  </thead>\n",
       "  <tbody>\n",
       "    <tr>\n",
       "      <th>0</th>\n",
       "      <td>0.466192</td>\n",
       "      <td>0.739726</td>\n",
       "      <td>0.255814</td>\n",
       "      <td>0.246154</td>\n",
       "      <td>0.433190</td>\n",
       "      <td>0.240418</td>\n",
       "      <td>0.880427</td>\n",
       "      <td>0.625850</td>\n",
       "      <td>0.928074</td>\n",
       "      <td>0.696281</td>\n",
       "      <td>...</td>\n",
       "      <td>0.385445</td>\n",
       "      <td>0.268542</td>\n",
       "      <td>0.398126</td>\n",
       "      <td>0.161897</td>\n",
       "      <td>0.677778</td>\n",
       "      <td>0.323241</td>\n",
       "      <td>0.322609</td>\n",
       "      <td>0.751381</td>\n",
       "      <td>0.069457</td>\n",
       "      <td>0.381720</td>\n",
       "    </tr>\n",
       "    <tr>\n",
       "      <th>1</th>\n",
       "      <td>0.658363</td>\n",
       "      <td>0.794521</td>\n",
       "      <td>0.213953</td>\n",
       "      <td>0.421978</td>\n",
       "      <td>0.573276</td>\n",
       "      <td>0.717770</td>\n",
       "      <td>0.741637</td>\n",
       "      <td>0.748299</td>\n",
       "      <td>0.505800</td>\n",
       "      <td>0.743802</td>\n",
       "      <td>...</td>\n",
       "      <td>0.307278</td>\n",
       "      <td>0.356777</td>\n",
       "      <td>0.824356</td>\n",
       "      <td>0.206978</td>\n",
       "      <td>0.718519</td>\n",
       "      <td>0.081478</td>\n",
       "      <td>0.309565</td>\n",
       "      <td>0.629834</td>\n",
       "      <td>0.027597</td>\n",
       "      <td>0.446237</td>\n",
       "    </tr>\n",
       "    <tr>\n",
       "      <th>2</th>\n",
       "      <td>0.727758</td>\n",
       "      <td>0.857143</td>\n",
       "      <td>0.586047</td>\n",
       "      <td>0.107692</td>\n",
       "      <td>0.683190</td>\n",
       "      <td>0.649826</td>\n",
       "      <td>0.642705</td>\n",
       "      <td>0.736961</td>\n",
       "      <td>0.338747</td>\n",
       "      <td>0.415289</td>\n",
       "      <td>...</td>\n",
       "      <td>0.016173</td>\n",
       "      <td>0.085038</td>\n",
       "      <td>0.831382</td>\n",
       "      <td>0.085457</td>\n",
       "      <td>0.777778</td>\n",
       "      <td>0.099733</td>\n",
       "      <td>0.072174</td>\n",
       "      <td>0.596685</td>\n",
       "      <td>0.009612</td>\n",
       "      <td>0.150538</td>\n",
       "    </tr>\n",
       "    <tr>\n",
       "      <th>3</th>\n",
       "      <td>0.000000</td>\n",
       "      <td>0.622309</td>\n",
       "      <td>0.348837</td>\n",
       "      <td>0.714286</td>\n",
       "      <td>0.200431</td>\n",
       "      <td>0.526132</td>\n",
       "      <td>0.708897</td>\n",
       "      <td>0.698413</td>\n",
       "      <td>0.570766</td>\n",
       "      <td>0.662190</td>\n",
       "      <td>...</td>\n",
       "      <td>0.536388</td>\n",
       "      <td>0.718031</td>\n",
       "      <td>0.988290</td>\n",
       "      <td>0.109369</td>\n",
       "      <td>1.000000</td>\n",
       "      <td>0.727516</td>\n",
       "      <td>1.000000</td>\n",
       "      <td>0.889503</td>\n",
       "      <td>0.173023</td>\n",
       "      <td>0.134409</td>\n",
       "    </tr>\n",
       "    <tr>\n",
       "      <th>4</th>\n",
       "      <td>0.702847</td>\n",
       "      <td>0.745597</td>\n",
       "      <td>0.113953</td>\n",
       "      <td>0.224176</td>\n",
       "      <td>0.741379</td>\n",
       "      <td>0.620209</td>\n",
       "      <td>0.713167</td>\n",
       "      <td>0.705215</td>\n",
       "      <td>0.566125</td>\n",
       "      <td>0.426653</td>\n",
       "      <td>...</td>\n",
       "      <td>0.388140</td>\n",
       "      <td>0.308184</td>\n",
       "      <td>0.557377</td>\n",
       "      <td>0.281458</td>\n",
       "      <td>0.744444</td>\n",
       "      <td>0.253339</td>\n",
       "      <td>0.214783</td>\n",
       "      <td>0.646409</td>\n",
       "      <td>0.049612</td>\n",
       "      <td>0.510753</td>\n",
       "    </tr>\n",
       "  </tbody>\n",
       "</table>\n",
       "<p>5 rows × 7129 columns</p>\n",
       "</div>"
      ],
      "text/plain": [
       "   AFFX-BioB-5_at  AFFX-BioB-M_at  AFFX-BioB-3_at  AFFX-BioC-5_at  \\\n",
       "0        0.466192        0.739726        0.255814        0.246154   \n",
       "1        0.658363        0.794521        0.213953        0.421978   \n",
       "2        0.727758        0.857143        0.586047        0.107692   \n",
       "3        0.000000        0.622309        0.348837        0.714286   \n",
       "4        0.702847        0.745597        0.113953        0.224176   \n",
       "\n",
       "   AFFX-BioC-3_at  AFFX-BioDn-5_at  AFFX-BioDn-3_at  AFFX-CreX-5_at  \\\n",
       "0        0.433190         0.240418         0.880427        0.625850   \n",
       "1        0.573276         0.717770         0.741637        0.748299   \n",
       "2        0.683190         0.649826         0.642705        0.736961   \n",
       "3        0.200431         0.526132         0.708897        0.698413   \n",
       "4        0.741379         0.620209         0.713167        0.705215   \n",
       "\n",
       "   AFFX-CreX-3_at  AFFX-BioB-5_st     ...       U48730_at  U58516_at  \\\n",
       "0        0.928074        0.696281     ...        0.385445   0.268542   \n",
       "1        0.505800        0.743802     ...        0.307278   0.356777   \n",
       "2        0.338747        0.415289     ...        0.016173   0.085038   \n",
       "3        0.570766        0.662190     ...        0.536388   0.718031   \n",
       "4        0.566125        0.426653     ...        0.388140   0.308184   \n",
       "\n",
       "   U73738_at  X06956_at  X16699_at  X83863_at  Z17240_at  L49218_f_at  \\\n",
       "0   0.398126   0.161897   0.677778   0.323241   0.322609     0.751381   \n",
       "1   0.824356   0.206978   0.718519   0.081478   0.309565     0.629834   \n",
       "2   0.831382   0.085457   0.777778   0.099733   0.072174     0.596685   \n",
       "3   0.988290   0.109369   1.000000   0.727516   1.000000     0.889503   \n",
       "4   0.557377   0.281458   0.744444   0.253339   0.214783     0.646409   \n",
       "\n",
       "   M71243_f_at  Z78285_f_at  \n",
       "0     0.069457     0.381720  \n",
       "1     0.027597     0.446237  \n",
       "2     0.009612     0.150538  \n",
       "3     0.173023     0.134409  \n",
       "4     0.049612     0.510753  \n",
       "\n",
       "[5 rows x 7129 columns]"
      ]
     },
     "execution_count": 109,
     "metadata": {},
     "output_type": "execute_result"
    }
   ],
   "source": [
    "# Check values are in range 0, 1\n",
    "x_train.head()"
   ]
  },
  {
   "cell_type": "code",
   "execution_count": 110,
   "metadata": {},
   "outputs": [
    {
     "data": {
      "text/plain": [
       "(0.0, 1.0)"
      ]
     },
     "execution_count": 110,
     "metadata": {},
     "output_type": "execute_result"
    }
   ],
   "source": [
    "# Check a column to see range is exactly 0, 1\n",
    "min(x_train.A28102_at), max(x_train.A28102_at)"
   ]
  },
  {
   "cell_type": "markdown",
   "metadata": {},
   "source": [
    "**1.3:** Notice that the results training set contains more predictors than observations. Do you foresee a problem in fitting a classification model to such a data set?\n"
   ]
  },
  {
   "cell_type": "markdown",
   "metadata": {},
   "source": [
    "----\n",
    "As we talked about in class, high dimensionality carries with it several issues. The biggest is perhaps overfitting – when we have more predictors than observations, we can create a \"perfect\" model with an $R^2$ of 1, but that would be because we have so many predictors that we can find arbitrary combinations of them that yield the right prediction by accident.\n",
    "\n",
    "----"
   ]
  },
  {
   "cell_type": "markdown",
   "metadata": {},
   "source": [
    "**1.4:** Lets explore a few of the genes and see how well they discriminate between cancer classes. Create a single figure with four subplots arranged in a 2x2 grid. Consider the following four genes: `D29963_at`, `M23161_at`, `hum_alu_at`, and `AFFX-PheX-5_at`. For each gene overlay two histograms of the gene expression values on one of the subplots, one histogram for each cancer type. Does it appear that any of these genes discriminate between the two classes well? How are you able to tell?"
   ]
  },
  {
   "cell_type": "code",
   "execution_count": 111,
   "metadata": {
    "collapsed": true
   },
   "outputs": [],
   "source": [
    "# Separate Cancer types into separate DataFrames\n",
    "x_train['Cancer_type'] = y_train.values\n",
    "\n",
    "cancer0 = x_train[x_train['Cancer_type'] == 0]\n",
    "cancer1 = x_train[x_train['Cancer_type'] == 1]"
   ]
  },
  {
   "cell_type": "code",
   "execution_count": 112,
   "metadata": {},
   "outputs": [
    {
     "data": {
      "image/png": "[encoded data removed]",
      "text/plain": [
       "<Figure size 720x720 with 4 Axes>"
      ]
     },
     "metadata": {},
     "output_type": "display_data"
    }
   ],
   "source": [
    "# Declare Plots\n",
    "fig, axes = plt.subplots(2,2, figsize=(10,10))\n",
    "labels= [\"0\", \"1\"]\n",
    "\n",
    "\n",
    "axes[0,0].hist(cancer0['D29963_at'], alpha = 0.5, histtype='stepfilled', edgecolor='none')\n",
    "axes[0,0].hist(cancer1['D29963_at'], alpha = 0.5, histtype='stepfilled', edgecolor='none')\n",
    "\n",
    "axes[0,1].hist(cancer0['M23161_at'], alpha = 0.5, histtype='stepfilled', edgecolor='none')\n",
    "axes[0,1].hist(cancer1['M23161_at'], alpha = 0.5, histtype='stepfilled', edgecolor='none')\n",
    "\n",
    "axes[1,0].hist(cancer0['AFFX-PheX-5_at'], alpha = 0.5, histtype='stepfilled', edgecolor='none')\n",
    "axes[1,0].hist(cancer1['AFFX-PheX-5_at'], alpha = 0.5, histtype='stepfilled', edgecolor='none')\n",
    "\n",
    "axes[1,1].hist(cancer0['hum_alu_at'], alpha = 0.5, histtype='stepfilled', edgecolor='none')\n",
    "axes[1,1].hist(cancer1['hum_alu_at'], alpha = 0.5, histtype='stepfilled', edgecolor='none')\n",
    "\n",
    "fig.legend(labels, title=\"Cancer Type\", fontsize=16)\n",
    "\n",
    "fig.suptitle('Gene Expression by Cancer Type', fontsize=24);"
   ]
  },
  {
   "cell_type": "markdown",
   "metadata": {},
   "source": [
    "----\n",
    "Only one that is able to discriminate relatively well is `D29963_at` (top left).\n",
    "\n",
    "----"
   ]
  },
  {
   "cell_type": "markdown",
   "metadata": {},
   "source": [
    "**1.5:** Since our data has dimensions that are not easily visualizable, we want to reduce the dimensionality of the data to make it easier to visualize. Using PCA, find the top two principal components for the gene expression data. Generate a scatter plot using these principal components, highlighting the two cancer types in different colors. How well do the top two principal components discriminate between the two classes? How much of the variance within the data do these two principal components explain?"
   ]
  },
  {
   "cell_type": "code",
   "execution_count": 113,
   "metadata": {
    "collapsed": true
   },
   "outputs": [],
   "source": [
    "# Drop response again for PCA\n",
    "x_train = x_train.drop(columns=['Cancer_type'])"
   ]
  },
  {
   "cell_type": "code",
   "execution_count": 114,
   "metadata": {
    "collapsed": true
   },
   "outputs": [],
   "source": [
    "# Fit PCA\n",
    "pca = PCA(n_components=2)\n",
    "comps = pca.fit_transform(x_train)"
   ]
  },
  {
   "cell_type": "code",
   "execution_count": 115,
   "metadata": {
    "collapsed": true
   },
   "outputs": [],
   "source": [
    "# Generate PCA DataFrame\n",
    "pca_df = pd.DataFrame(data = comps,\n",
    "                      columns = ['PC 1', 'PC 2'])\n",
    "pca_df['Cancer_type'] = y_train.values\n",
    "\n",
    "# Split by Type\n",
    "cancer0_pca = pca_df[pca_df.Cancer_type == 0]\n",
    "cancer1_pca = pca_df[pca_df.Cancer_type == 1]"
   ]
  },
  {
   "cell_type": "code",
   "execution_count": 116,
   "metadata": {},
   "outputs": [
    {
     "data": {
      "image/png": "[encoded data removed]",
      "text/plain": [
       "<Figure size 576x396 with 1 Axes>"
      ]
     },
     "metadata": {},
     "output_type": "display_data"
    }
   ],
   "source": [
    "# Plot\n",
    "plt.plot(cancer0_pca['PC 1'], cancer0_pca['PC 2'], 'bo', label='Type 0', alpha=.7)\n",
    "plt.plot(cancer1_pca['PC 1'], cancer1_pca['PC 2'], 'go', label='Type 1', alpha=.7)\n",
    "\n",
    "# Label\n",
    "plt.title('Principal Component Scatterplot by Type', fontsize=16)\n",
    "plt.xlabel('Principal Component 1', fontsize=14)\n",
    "plt.ylabel('Principal Component 2', fontsize=14)\n",
    "plt.legend(title='Cancer Type', loc=2)\n",
    "plt.grid(False)\n",
    "\n",
    "plt.show()"
   ]
  },
  {
   "cell_type": "code",
   "execution_count": 117,
   "metadata": {},
   "outputs": [
    {
     "name": "stdout",
     "output_type": "stream",
     "text": [
      "PC1 contains 15.889035% of the explained variance.\n",
      "PC2 contains 11.428795% of the explained variance.\n",
      "Together, they contain 27.317829% of the explained variance.\n"
     ]
    }
   ],
   "source": [
    "# Report Explained Variance\n",
    "print(\"PC1 contains {:f}% of the explained variance.\"\n",
    "      .format(pca.explained_variance_ratio_[0]*100))\n",
    "print(\"PC2 contains {:f}% of the explained variance.\"\n",
    "      .format(pca.explained_variance_ratio_[1]*100))\n",
    "print(\"Together, they contain {:f}% of the explained variance.\"\n",
    "      .format(pca.explained_variance_ratio_[0]*100 + pca.explained_variance_ratio_[1]*100))"
   ]
  },
  {
   "cell_type": "markdown",
   "metadata": {},
   "source": [
    "## Question 2: Linear Regression vs. Logistic Regression\n",
    "\n",
    "In class we discussed how to use both linear regression and logistic regression for classification. For this question, you will work with a single gene predictor, `D29963_at`, to explore these two methods.\n",
    "\n",
    "1. Fit a simple linear regression model to the training set using the single gene predictor `D29963_at`. We could interpret the scores predicted by the regression model interpreted for a patient as an estimate of the probability that the patient has `Cancer_type`=1. Is there a problem with this interpretation?\n",
    "\n",
    "2. The fitted linear regression model can be converted to a classification model (i.e. a model that predicts one of two binary labels 0 or 1) by classifying patients with predicted score greater than 0.5 into `Cancer_type`=1, and the others into the `Cancer_type`=0. Evaluate the classification accuracy (1 - misclassification rate) of the obtained classification model on both the training and test sets.\n",
    "\n",
    "3. Next, fit a simple logistic regression model to the training set. How do the training and test classification accuracies of this model compare with the linear regression model? Remember, you need to set the regularization parameter for sklearn's logistic regression function to be a very large value in order to not regularize (use 'C=100000').\n",
    "\n",
    "4. Plot the quantitative output from the linear regression model and the probabilistic output from the logistic regression model (on the training set points) as a function of the gene predictor. Also, display the true binary response for the training set points in the same plot. Based on these plots, does one of the models appear better suited for binary classification than the other? Explain."
   ]
  },
  {
   "cell_type": "markdown",
   "metadata": {},
   "source": [
    "#### Answers: \n",
    "\n",
    "**2.1:** Fit a simple linear regression model to the training set using the single gene predictor `D29963_at`. We could interpret the scores predicted by the regression model interpreted for a patient as an estimate of the probability that the patient has `Cancer_type`=1. Is there a problem with this interpretation?\n"
   ]
  },
  {
   "cell_type": "code",
   "execution_count": 118,
   "metadata": {},
   "outputs": [
    {
     "name": "stdout",
     "output_type": "stream",
     "text": [
      "Train R^2: 0.578\n",
      "Test  R^2: 0.142\n"
     ]
    }
   ],
   "source": [
    "## Fit OLS Regression\n",
    "\n",
    "# Isolate predictors\n",
    "x_train_Dgene = x_train['D29963_at']\n",
    "x_test_Dgene = x_test['D29963_at']\n",
    "\n",
    "# Fit Model\n",
    "gene_regression = sm.OLS(y_train, x_train_Dgene)\n",
    "fit_sm = gene_regression.fit()\n",
    "\n",
    "# Generate Predictions\n",
    "pred_test = fit_sm.predict(x_test_Dgene)\n",
    "\n",
    "# Report R Squared\n",
    "print(\"Train R^2:\", round(fit_sm.rsquared, 3))\n",
    "print(\"Test  R^2:\", round(r2_score(y_test, pred_test), 3))"
   ]
  },
  {
   "cell_type": "markdown",
   "metadata": {},
   "source": [
    "----\n",
    "Linear regression is meant to be used for continuous numeric predictions. In this case, although the types of cancer are coded as 0 and 1, they are not really numeric; those are just the designations for two different _classes_ of cancer. Therefore, we should use a _classification_ model, not a regression model. The big drop in $R^2$ between the train and the test set shows that this is a poor model choice.\n",
    "\n",
    "----\n"
   ]
  },
  {
   "cell_type": "markdown",
   "metadata": {},
   "source": [
    "**2.2:** The fitted linear regression model can be converted to a classification model (i.e. a model that predicts one of two binary labels 0 or 1) by classifying patients with predicted score greater than 0.5 into `Cancer_type`=1, and the others into the `Cancer_type`=0. Evaluate the classification accuracy (1 - misclassification rate) of the obtained classification model on both the training and test sets.\n"
   ]
  },
  {
   "cell_type": "code",
   "execution_count": 119,
   "metadata": {},
   "outputs": [
    {
     "name": "stdout",
     "output_type": "stream",
     "text": [
      "Classification Accuracy (Train): 0.575\n",
      "Classification Accuracy  (Test): 0.578\n"
     ]
    }
   ],
   "source": [
    "# Classification Predictors\n",
    "class_train = round(fit_sm.fittedvalues)\n",
    "class_test = round(pred_test)\n",
    "\n",
    "# Calculate error\n",
    "error_train = np.mean(class_train.values != y_train.values)\n",
    "error_test = np.mean(class_test.values != y_test.values)\n",
    "\n",
    "# Report Rates\n",
    "print(\"Classification Accuracy (Train):\", 1-error_train)\n",
    "print(\"Classification Accuracy  (Test):\", round(1-error_test, 3))"
   ]
  },
  {
   "cell_type": "markdown",
   "metadata": {},
   "source": [
    "**2.3:** Next, fit a simple logistic regression model to the training set. How do the training and test classification accuracies of this model compare with the linear regression model? Remember, you need to set the regularization parameter for sklearn's logistic regression function to be a very large value in order to not regularize (use 'C=100000')."
   ]
  },
  {
   "cell_type": "code",
   "execution_count": 120,
   "metadata": {
    "collapsed": true
   },
   "outputs": [],
   "source": [
    "# Reshape Data\n",
    "x_train_Dgene = x_train_Dgene.values.reshape(-1,1)\n",
    "x_test_Dgene = x_test_Dgene.values.reshape(-1,1)"
   ]
  },
  {
   "cell_type": "code",
   "execution_count": 121,
   "metadata": {},
   "outputs": [
    {
     "name": "stdout",
     "output_type": "stream",
     "text": [
      "Logistic Classification Accuracy (Train): 0.8\n",
      "Logistic Classification Accuracy  (Test): 0.697\n"
     ]
    }
   ],
   "source": [
    "# Fit Logistic Regression\n",
    "logit_class = LogisticRegression(C=100000)\n",
    "logit_class.fit(x_train_Dgene, data_train['Cancer_type'])\n",
    "\n",
    "# Get Classification Accuracy\n",
    "acc_train = logit_class.score(x_train_Dgene, y_train)\n",
    "acc_test = logit_class.score(x_test_Dgene, y_test)\n",
    "\n",
    "# Report Accuracy\n",
    "print(\"Logistic Classification Accuracy (Train):\", round(acc_train, 3))\n",
    "print(\"Logistic Classification Accuracy  (Test):\", round(acc_test, 3))"
   ]
  },
  {
   "cell_type": "markdown",
   "metadata": {},
   "source": [
    "**2.4:** Plot the quantitative output from the linear regression model and the probabilistic output from the logistic regression model (on the training set points) as a function of the gene predictor. Also, display the true binary response for the training set points in the same plot. Based on these plots, does one of the models appear better suited for binary classification than the other? Explain."
   ]
  },
  {
   "cell_type": "code",
   "execution_count": 122,
   "metadata": {
    "collapsed": true
   },
   "outputs": [],
   "source": [
    "pred_logit_train = logit_class.predict_proba(x_train_Dgene)[:,1]\n",
    "pred_ols_train = fit_sm.predict(np.linspace(0, 1, 2))"
   ]
  },
  {
   "cell_type": "code",
   "execution_count": 123,
   "metadata": {},
   "outputs": [
    {
     "data": {
      "text/plain": [
       "<matplotlib.legend.Legend at 0x1cbab4c0b38>"
      ]
     },
     "execution_count": 123,
     "metadata": {},
     "output_type": "execute_result"
    },
    {
     "data": {
      "image/png": "[encoded data removed]",
      "text/plain": [
       "<Figure size 432x432 with 1 Axes>"
      ]
     },
     "metadata": {},
     "output_type": "display_data"
    }
   ],
   "source": [
    "fig, ax = plt.subplots(1,1, figsize=(6,6))\n",
    "\n",
    "ax.axhline(linewidth=2, color='black', alpha=0.2)\n",
    "ax.axhline(y=1, linewidth=2, color='black', alpha=0.2)\n",
    "\n",
    "ax.plot(sorted(x_train_Dgene), sorted(pred_logit_train), label='Logistic')\n",
    "ax.plot(pred_ols_train, label='OLS')\n",
    "ax.plot(x_train_Dgene, y_train, 'o', label='Training Data')\n",
    "\n",
    "ax.set_facecolor('xkcd:white')\n",
    "ax.grid(False)\n",
    "ax.legend()"
   ]
  },
  {
   "cell_type": "markdown",
   "metadata": {},
   "source": [
    "----------------\n",
    "From these plots, it appears that the logistic model is better suited for binary classification than the linear model is. In the top-right corner of the plot, notice that the linear model can make predictions greater than 1. This makes it difficult to interpret the model as the probability of a point being 1 given X. Oppositely, the logistic model is bound by 0 and 1, making this interpretation more plausible.\n",
    "\n",
    "----------------"
   ]
  },
  {
   "cell_type": "markdown",
   "metadata": {},
   "source": [
    "## Question 3: Multiple Logistic Regression\n",
    "\n",
    "1. Next, fit a multiple logistic regression model with all the gene predictors from the data set.  How does the classification accuracy of this model compare with the models fitted in question 2 with a single gene (on both the training and test sets)?  \n",
    "\n",
    "2. Use the `visualize_prob` function provided below to visualize the probabilties predicted by the fitted multiple logistic regression model on both the training and test data sets. The function creates a visualization that places the data points on a vertical line based on the predicted probabilities, with the different cancer classes shown in different colors, and with the 0.5 threshold highlighted using a dotted horizontal line. Is there a difference in the spread of probabilities in the training and test plots? Are there data points for which the predicted probability is close to 0.5? If so, what can you say about these points?"
   ]
  },
  {
   "cell_type": "code",
   "execution_count": 124,
   "metadata": {
    "collapsed": true
   },
   "outputs": [],
   "source": [
    "#--------  visualize_prob\n",
    "# A function to visualize the probabilities predicted by a Logistic Regression model\n",
    "# Input: \n",
    "#      model (Logistic regression model)\n",
    "#      x (n x d array of predictors in training data)\n",
    "#      y (n x 1 array of response variable vals in training data: 0 or 1)\n",
    "#      ax (an axis object to generate the plot)\n",
    "\n",
    "def visualize_prob(model, x, y, ax):\n",
    "    # Use the model to predict probabilities for\n",
    "    y_pred = model.predict_proba(x)\n",
    "    \n",
    "    # Separate the predictions on the label 1 and label 0 points\n",
    "    ypos = y_pred[y==1]\n",
    "    yneg = y_pred[y==0]\n",
    "    \n",
    "    # Count the number of label 1 and label 0 points\n",
    "    npos = ypos.shape[0]\n",
    "    nneg = yneg.shape[0]\n",
    "    \n",
    "    # Plot the probabilities on a vertical line at x = 0, \n",
    "    # with the positive points in blue and negative points in red\n",
    "    pos_handle = ax.plot(np.zeros((npos,1)), ypos[:,1], 'go', label = 'Cancer Type 1', alpha=0.5)\n",
    "    neg_handle = ax.plot(np.zeros((nneg,1)), yneg[:,1], 'bo', label = 'Cancer Type 0', alpha=0.5)\n",
    "\n",
    "    # Line to mark prob 0.5\n",
    "    ax.axhline(y = 0.5, color = 'k', linestyle = '--')\n",
    "    \n",
    "    # Add y-label and legend, do not display x-axis, set y-axis limit\n",
    "    ax.set_ylabel('Probability of AML class', fontsize=13)\n",
    "    ax.legend(loc = 'best')\n",
    "    ax.get_xaxis().set_visible(False)\n",
    "    ax.set_ylim([-.1,1.1])"
   ]
  },
  {
   "cell_type": "markdown",
   "metadata": {},
   "source": [
    "#### Answers \n",
    "**3.1:** Next, fit a multiple logistic regression model with all the gene predictors from the data set.  How does the classification accuracy of this model compare with the models fitted in question 2 with a single gene (on both the training and test sets)?  "
   ]
  },
  {
   "cell_type": "code",
   "execution_count": 125,
   "metadata": {},
   "outputs": [
    {
     "name": "stdout",
     "output_type": "stream",
     "text": [
      "Logistic Classification Accuracy (Train): 0.8\n",
      "Logistic Classification Accuracy  (Test): 0.697\n",
      "Multiple Logistic Classification Accuracy (Train): 1.0\n",
      "Multiple Logistic Classification Accuracy  (Test): 0.97\n"
     ]
    }
   ],
   "source": [
    "# Fit Multiple Logistic Regression\n",
    "multi_log = LogisticRegression(C=100000)\n",
    "multi_log.fit(x_train, data_train['Cancer_type'])\n",
    "\n",
    "# Get Classification Accuracy\n",
    "acc_train_mult = multi_log.score(x_train, y_train)\n",
    "acc_test_mult = multi_log.score(x_test, y_test)\n",
    "\n",
    "# Report Accuracy\n",
    "print(\"Logistic Classification Accuracy (Train):\", round(acc_train, 3))\n",
    "print(\"Logistic Classification Accuracy  (Test):\", round(acc_test, 3))\n",
    "print(\"Multiple Logistic Classification Accuracy (Train):\", round(acc_train_mult, 3))\n",
    "print(\"Multiple Logistic Classification Accuracy  (Test):\", round(acc_test_mult, 3))"
   ]
  },
  {
   "cell_type": "markdown",
   "metadata": {},
   "source": [
    "----\n",
    "The classification accuracies of the multiple logistic regression model are much higher than those of the single-variable logistic regression model. The train set has an accuracy of 1.0, which is unsurprising given the sheer number of predictors available. The test set also has a very high classification accuracy, which is good news for the ability of this model to make correct out of sample predictions.\n",
    "\n",
    "----"
   ]
  },
  {
   "cell_type": "markdown",
   "metadata": {},
   "source": [
    "**3.2:** Use the `visualize_prob` function provided below to visualize the probabilties predicted by the fitted multiple logistic regression model on both the training and test data sets. The function creates a visualization that places the data points on a vertical line based on the predicted probabilities, with the different cancer classes shown in different colors, and with the 0.5 threshold highlighted using a dotted horizontal line. Is there a difference in the spread of probabilities in the training and test plots? Are there data points for which the predicted probability is close to 0.5? If so, what can you say about these points?"
   ]
  },
  {
   "cell_type": "code",
   "execution_count": 126,
   "metadata": {},
   "outputs": [
    {
     "data": {
      "image/png": "[encoded data removed]",
      "text/plain": [
       "<Figure size 576x396 with 1 Axes>"
      ]
     },
     "metadata": {},
     "output_type": "display_data"
    }
   ],
   "source": [
    "## Visualize Train Preds\n",
    "\n",
    "# Declare Plot\n",
    "fig, axis = plt.subplots(1,1)\n",
    "\n",
    "# Plot Data\n",
    "visualize_prob(multi_log, x_train, data_train['Cancer_type'], axis)\n",
    "\n",
    "# Label\n",
    "plt.title('Multiple Logistic Regression Plot (Train)', fontsize=15)\n",
    "plt.legend(loc=10, fontsize=12)\n",
    "\n",
    "plt.show()"
   ]
  },
  {
   "cell_type": "code",
   "execution_count": 127,
   "metadata": {},
   "outputs": [
    {
     "data": {
      "image/png": "[encoded data removed]",
      "text/plain": [
       "<Figure size 576x396 with 1 Axes>"
      ]
     },
     "metadata": {},
     "output_type": "display_data"
    }
   ],
   "source": [
    "## Visualize Test Preds\n",
    "\n",
    "# Declare Plot\n",
    "fig, axis = plt.subplots(1,1)\n",
    "\n",
    "# Plot Data\n",
    "visualize_prob(multi_log, x_test, data_test['Cancer_type'], axis)\n",
    "\n",
    "# Label\n",
    "plt.title('Multiple Logistic Regression Plot (Test)', fontsize=15)\n",
    "plt.legend(loc=2, fontsize=11)\n",
    "\n",
    "plt.show()"
   ]
  },
  {
   "cell_type": "markdown",
   "metadata": {},
   "source": [
    "----\n",
    "The train predictions are all bunched at either 0 or 1, indicating that the model is very certain (correctly) of their classifications. The test predictions are more spread out, indicating the model is less certain of their classification, like the point close to 0.4. However, most of them are correctly classified. We see one misclassification with a value close to 0.9 that should actually be 0. Interestingly enough, if we moved our classification boundary upward, so that all values under 0.9 are classified as zeroes, the test model could also have a perfect classification rate.\n",
    "\n",
    "----"
   ]
  },
  {
   "cell_type": "markdown",
   "metadata": {},
   "source": [
    "## Question 4: Analyzing Significance of Coefficients\n",
    "\n",
    "How many of the coefficients estimated by the multiple logistic regression in the previous problem are significantly different from zero at a *significance level of 95%*? \n",
    "\n",
    "Hint: To answer this question, use *bootstrapping* with 1000 boostrap samples/iterations.  "
   ]
  },
  {
   "cell_type": "code",
   "execution_count": 128,
   "metadata": {
    "collapsed": true
   },
   "outputs": [],
   "source": [
    "## accepts dataset inputs as numpy arrays\n",
    "def make_bootstrap_sample(dataset_X, dataset_y, size = None):\n",
    "    \n",
    "    # by default return a bootstrap sample of the same size as the original dataset\n",
    "    if not size: size = len(dataset_X)\n",
    "    \n",
    "    # Make sure indexes are standard\n",
    "    dataset_X = dataset_X.reset_index()\n",
    "    dataset_y = dataset_y.reset_index()\n",
    "    del dataset_X['index']\n",
    "    del dataset_y['index']\n",
    "    \n",
    "    # Start datasets\n",
    "    bootstrap_dataset_X = dataset_X[0:0]\n",
    "    bootstrap_dataset_y = dataset_y[0:0]\n",
    "    \n",
    "    # Generate Random Numbers\n",
    "    random_indices = np.random.choice(size, size)\n",
    "    \n",
    "    # Add Rows to Bootstrap Sample\n",
    "    bootstrap_dataset_X = dataset_X.loc[random_indices]\n",
    "    bootstrap_dataset_y = dataset_y.loc[random_indices]\n",
    "    \n",
    "    # if the X and y datasets aren't the same size, raise an exception\n",
    "    if len(dataset_X) != len(dataset_y):\n",
    "        raise Exception(\"Data size must match between dataset_X and dataset_y\")\n",
    "    \n",
    "    return (bootstrap_dataset_X, bootstrap_dataset_y)\n",
    "    \n",
    "\n",
    "def calculate_coefficients(dataset_X, dataset_y, model):\n",
    "    \n",
    "    model = model.fit(dataset_X, dataset_y)\n",
    "    \n",
    "    coefficients_dictionary = dict()\n",
    "    \n",
    "    for i, col in enumerate(dataset_X.columns):\n",
    "        coefficients_dictionary[col] = model.coef_.ravel()[i]\n",
    "\n",
    "    return coefficients_dictionary\n",
    "\n",
    "\n",
    "def get_significant_predictors(regression_coefficients, p = 0.05):\n",
    "    \n",
    "    significant_coefficients = []\n",
    "    \n",
    "    # make dataframe of coefficients\n",
    "    coeffs_df = pd.DataFrame(regression_coefficients)\n",
    "    \n",
    "    # for every feature in the dataframe\n",
    "    for col in coeffs_df.columns:\n",
    "        \n",
    "        if (coeffs_df[col].quantile(p/2) > 0 or \n",
    "            coeffs_df[col].quantile(1-(p/2)) < 0):\n",
    "            \n",
    "            significant_coefficients.append(col)\n",
    "            \n",
    "    # return the significant coefficients as a list of strings\n",
    "    return significant_coefficients"
   ]
  },
  {
   "cell_type": "code",
   "execution_count": 129,
   "metadata": {
    "collapsed": true
   },
   "outputs": [],
   "source": [
    "# List of Dicts w/ Coefficients\n",
    "c_dict = []\n",
    "\n",
    "# For 1000 iterations\n",
    "for n in range(1000):\n",
    "    \n",
    "    # Make Samples\n",
    "    x, y = make_bootstrap_sample(x_train, y_train)\n",
    "    \n",
    "    # Calculate Coefficients\n",
    "    c_dict.append(calculate_coefficients(x, y.values.ravel(), multi_log))"
   ]
  },
  {
   "cell_type": "code",
   "execution_count": 130,
   "metadata": {},
   "outputs": [
    {
     "name": "stdout",
     "output_type": "stream",
     "text": [
      "Significant Predictors:  1865\n"
     ]
    }
   ],
   "source": [
    "# Find Significant Predictors\n",
    "log_significant_bootstrap = get_significant_predictors(c_dict, p = 0.05)\n",
    "print('Significant Predictors: ', len(log_significant_bootstrap))"
   ]
  },
  {
   "cell_type": "markdown",
   "metadata": {},
   "source": [
    "#### Answer: At the 95% significance level, using 1,000 bootstrap samples, we find that 1,865 of the 7,129 predictors are significant."
   ]
  },
  {
   "cell_type": "markdown",
   "metadata": {},
   "source": [
    "## Question 5: High Dimensionality\n",
    "\n",
    "One of the issues you may run into when dealing with high dimensional data is that your 2D and 3D intuition may fail breakdown. For example, distance metrics in high dimensions can have properties that may feel counterintuitive.\n",
    "\n",
    "Consider the following: You have a hypersphere with a radius of $1$, inside of a hypercube centered at $0$, with edges of length $2$.\n",
    "\n",
    "1. As a function of $d$, the number of dimensions, how much of the hypercube's volume is contained within the hypersphere?\n",
    "2. What happens as $d$ gets very large?\n",
    "3. Using the functions provided below, create a plot of how the volume ratio changes as a function of $d$.\n",
    "4. What does this tell you about where the majority of the volume of the hypercube resides in higher dimensions? \n",
    "\n",
    "*HINTS:* \n",
    "- The volume of a hypercube with edges of length $2$ is $V_c(d) = 2^d$.\n",
    "- The volume of a hyperphere with a radius of $1$ is $V_s(d) = \\frac{\\pi^{\\frac{d}{2}}} {\\Gamma(\\frac{d}{2}+1)}$, where $\\Gamma$ is Euler's Gamma Function.\n",
    "- $\\Gamma$ is increasing for all $d \\geq 1$."
   ]
  },
  {
   "cell_type": "code",
   "execution_count": 131,
   "metadata": {
    "collapsed": true
   },
   "outputs": [],
   "source": [
    "def V_c(d):\n",
    "    \"\"\"\n",
    "    Calculate the volume of a hypercube of dimension d.\n",
    "    \"\"\"\n",
    "    return 2**d\n",
    "\n",
    "def V_s(d):\n",
    "    \"\"\"\n",
    "    Calculate the volume of a hypersphere of dimension d.\n",
    "    \"\"\"\n",
    "    return math.pi**(d/2)/gamma((d/2)+1)"
   ]
  },
  {
   "cell_type": "markdown",
   "metadata": {},
   "source": [
    "#### Answers:"
   ]
  },
  {
   "cell_type": "markdown",
   "metadata": {},
   "source": [
    "#### 5.1\n",
    "Since the hypersphere is always entirely contained _within_ the hypercube, the ratio of the volume of the hypercube within the hypersphere and the total volume of the hypercube is equal to the ratio of the hypersphere's volume to the hypercube's volume. As d increases, this ratio approaches zero. (See function below.)"
   ]
  },
  {
   "cell_type": "code",
   "execution_count": 132,
   "metadata": {
    "collapsed": true
   },
   "outputs": [],
   "source": [
    "def V_ratio(d):\n",
    "    \n",
    "    \"\"\"\n",
    "    Calculate the percentage of a hypercube's volume within\n",
    "    a hypersphere of the same dimension d.\n",
    "    \"\"\"\n",
    "    \n",
    "    return V_s(d) / V_c(d)"
   ]
  },
  {
   "cell_type": "markdown",
   "metadata": {},
   "source": [
    "#### 5.2\n",
    "As d increases, the volume ratio goes to zero, meaning the hypercube's volume is much higher than the hypersphere's at higher dimensions."
   ]
  },
  {
   "cell_type": "code",
   "execution_count": 133,
   "metadata": {},
   "outputs": [
    {
     "name": "stdout",
     "output_type": "stream",
     "text": [
      "Circle Area: 3.14\n",
      "Square Area: 4\n",
      "\n",
      "Sphere Vol: 4.19\n",
      "Cube   Vol: 8\n",
      "\n",
      "2D Ratio: 0.785\n",
      "3D Ratio: 0.524\n"
     ]
    }
   ],
   "source": [
    "## See how ratio changes in dimensions we understand\n",
    "\n",
    "# 2D\n",
    "print(\"Circle Area:\", round(V_s(2), 2))\n",
    "print(\"Square Area:\", V_c(2))\n",
    "\n",
    "# 3D\n",
    "print(\"\\nSphere Vol:\", round(V_s(3), 2))\n",
    "print(\"Cube   Vol:\", V_c(3))\n",
    "\n",
    "# Change from 2D to 3D\n",
    "print(\"\\n2D Ratio:\", round(V_s(2)/V_c(2), 3))\n",
    "print(\"3D Ratio:\", round(V_s(3)/V_c(3), 3))"
   ]
  },
  {
   "cell_type": "code",
   "execution_count": 134,
   "metadata": {},
   "outputs": [
    {
     "name": "stdout",
     "output_type": "stream",
     "text": [
      "0.5236\n",
      "0.3084\n",
      "0.1645\n",
      "0.0807\n",
      "0.0369\n",
      "0.0159\n",
      "0.0064\n",
      "0.0025\n",
      "0.0009\n",
      "0.0003\n",
      "0.0001\n",
      "0.0\n"
     ]
    }
   ],
   "source": [
    "# See how ratio changes as d increases past dimensions we can understand\n",
    "ratios = []\n",
    "for d in range(3, 15):\n",
    "    ratios.append(V_ratio(d))\n",
    "    dim\n",
    "    print(round(V_ratio(d), 4))"
   ]
  },
  {
   "cell_type": "markdown",
   "metadata": {},
   "source": [
    "#### 5.3"
   ]
  },
  {
   "cell_type": "code",
   "execution_count": 135,
   "metadata": {},
   "outputs": [
    {
     "data": {
      "image/png": "[encoded data removed]",
      "text/plain": [
       "<Figure size 576x396 with 1 Axes>"
      ]
     },
     "metadata": {},
     "output_type": "display_data"
    }
   ],
   "source": [
    "## Visualize Ratio Change\n",
    "\n",
    "# Plot\n",
    "dim = range(3, 15, 1)\n",
    "plt.plot(dim, ratios, 'co')\n",
    "\n",
    "# Label\n",
    "plt.title('Volume Ratio of Hypersphere to Hypercube\\nby Dimension', fontsize=16)\n",
    "plt.xlabel('Dimensions', fontsize=14)\n",
    "plt.ylabel('$V_s$   over   $V_c$', fontsize=14)\n",
    "plt.xticks(range(3, 15, 1))\n",
    "\n",
    "plt.show()"
   ]
  },
  {
   "cell_type": "markdown",
   "metadata": {},
   "source": [
    "#### 5.4\n",
    "\n",
    "The fact that the volume of a hypercube contained within a hypersphere decreases as the dimension increases tells us that, in higher dimensions, most of a hypercube's volume resides in the \"corners\", or the higher-dimension equivalent of corners that lie outside the hypersphere."
   ]
  },
  {
   "cell_type": "markdown",
   "metadata": {},
   "source": [
    "## Question 6: PCA and Dimensionality Reduction\n",
    "\n",
    "As we saw above, high dimensional problems can have counterintuitive behavior, thus we often want to try to reduce the dimensionality of our problems. A reasonable approach to reduce the dimensionality of the data is to use PCA and fit a logistic regression model on the smallest set of principal components that explain at least 90% of the variance in the predictors.\n",
    "\n",
    "1. Using the gene data from Problem 1, how many principal components do we need to capture at least 90% of the variance? How much of the variance do they actually capture? Fit a Logistic Regression model using these principal components. How do the classification accuracy values on both the training and tests sets compare with the models fit in question 3.1?  \n",
    "\n",
    "2. Use the code provided in question 3 to visualize the probabilities predicted by the fitted model on both the training and test sets. How does the spread of probabilities in these plots compare to those for the model in question 3.2? If the lower dimensional representation yields comparable predictive power, what advantage does the lower dimensional representation provide?"
   ]
  },
  {
   "cell_type": "markdown",
   "metadata": {},
   "source": [
    "#### Answers:\n",
    "\n",
    "**6.1:** Using the gene data from Problem 1, how many principal components do we need to capture at least 90% of the variance? How much of the variance do they actually capture? Fit a Logistic Regression model using these principal components. How do the classification accuracy values on both the training and tests sets compare with the models fit in question 3.1?  "
   ]
  },
  {
   "cell_type": "code",
   "execution_count": 136,
   "metadata": {},
   "outputs": [
    {
     "name": "stdout",
     "output_type": "stream",
     "text": [
      "Components: 29\n",
      "Explained Variance: 0.903\n"
     ]
    }
   ],
   "source": [
    "# Find components to reach 90% explained variance\n",
    "\n",
    "# For each additional component\n",
    "for comp in range(len(data_train)):\n",
    "\n",
    "    # Fit PCA\n",
    "    pca = PCA(n_components=comp)\n",
    "    pca.fit(x_train)\n",
    "    \n",
    "    # Get total sum of explained variance\n",
    "    variance = sum(pca.explained_variance_ratio_)\n",
    "    \n",
    "    # Stop when we get to 90%\n",
    "    if variance > 0.9:\n",
    "        break\n",
    "        \n",
    "print(\"Components:\", comp)\n",
    "print(\"Explained Variance:\", round(variance, 3))"
   ]
  },
  {
   "cell_type": "code",
   "execution_count": 137,
   "metadata": {},
   "outputs": [
    {
     "name": "stdout",
     "output_type": "stream",
     "text": [
      "Logistic Classification Accuracy (Train): 0.8\n",
      "Logistic Classification Accuracy  (Test): 0.697\n",
      "\n",
      "Multiple Logistic Classification Accuracy (Train): 1.0\n",
      "Multiple Logistic Classification Accuracy  (Test): 0.97\n",
      "\n",
      "PCA Logistic Classification Accuracy (Train): 1.0\n",
      "PCA Logistic Classification Accuracy  (Test): 0.818\n"
     ]
    }
   ],
   "source": [
    "# Transform predictors to Principal Components\n",
    "pca_train = pca.transform(x_train)\n",
    "pca_test = pca.transform(x_test)\n",
    "\n",
    "# Fit Logistic Regression on Principal Components\n",
    "pca_reg = LogisticRegression(C=100000)\n",
    "pca_reg.fit(pca_train, data_train['Cancer_type'])\n",
    "\n",
    "# Get Classification Accuracy\n",
    "acc_train_pca = pca_reg.score(pca_train, y_train)\n",
    "acc_test_pca = pca_reg.score(pca_test, y_test)\n",
    "\n",
    "# Report Accuracy\n",
    "print(\"Logistic Classification Accuracy (Train):\", round(acc_train, 3))\n",
    "print(\"Logistic Classification Accuracy  (Test):\", round(acc_test, 3))\n",
    "print(\"\\nMultiple Logistic Classification Accuracy (Train):\", round(acc_train_mult, 3))\n",
    "print(\"Multiple Logistic Classification Accuracy  (Test):\", round(acc_test_mult, 3))\n",
    "print(\"\\nPCA Logistic Classification Accuracy (Train):\", round(acc_train_pca, 3))\n",
    "print(\"PCA Logistic Classification Accuracy  (Test):\", round(acc_test_pca, 3))"
   ]
  },
  {
   "cell_type": "markdown",
   "metadata": {},
   "source": [
    "----\n",
    "Our model fit on 29 PCA components has a perfect classification rate for the train set, just like the Multiple Logistic Regression model. However, the accuracy of the test set drops from 0.97 to 0.82\n",
    "\n",
    "----"
   ]
  },
  {
   "cell_type": "markdown",
   "metadata": {},
   "source": [
    "**6.2:** Use the code provided in question 3 to visualize the probabilities predicted by the fitted model on both the training and test sets. How does the spread of probabilities in these plots compare to those for the model in question 3.2? If the lower dimensional representation yields comparable predictive power, what advantage does the lower dimensional representation provide?"
   ]
  },
  {
   "cell_type": "code",
   "execution_count": 138,
   "metadata": {},
   "outputs": [
    {
     "data": {
      "image/png": "[encoded data removed]",
      "text/plain": [
       "<Figure size 576x396 with 1 Axes>"
      ]
     },
     "metadata": {},
     "output_type": "display_data"
    }
   ],
   "source": [
    "## Visualize PCA Train Preds\n",
    "\n",
    "# Declare Plot\n",
    "fig, axis = plt.subplots(1,1)\n",
    "\n",
    "# Plot Data\n",
    "visualize_prob(pca_reg, pca_train, data_train['Cancer_type'], axis)\n",
    "\n",
    "# Label\n",
    "plt.title('PCA Logistic Regression Plot (Train)', fontsize=15)\n",
    "plt.legend(loc=10, fontsize=12)\n",
    "\n",
    "plt.show()"
   ]
  },
  {
   "cell_type": "code",
   "execution_count": 139,
   "metadata": {},
   "outputs": [
    {
     "data": {
      "image/png": "[encoded data removed]",
      "text/plain": [
       "<Figure size 576x396 with 1 Axes>"
      ]
     },
     "metadata": {},
     "output_type": "display_data"
    }
   ],
   "source": [
    "## Visualize Test Preds\n",
    "\n",
    "# Declare Plot\n",
    "fig, axis = plt.subplots(1,1)\n",
    "\n",
    "# Plot Data\n",
    "visualize_prob(pca_reg, pca_test, data_test['Cancer_type'], axis)\n",
    "\n",
    "# Label\n",
    "plt.title('PCA Logistic Regression Plot (Train)', fontsize=15)\n",
    "plt.legend(loc=2, fontsize=12)\n",
    "\n",
    "plt.show()"
   ]
  },
  {
   "cell_type": "markdown",
   "metadata": {},
   "source": [
    "----\n",
    "The PCA and Multiple Logistic Regression training plots are comparable: values correctly bunched at 0 and 1. However, the PCA test plot shows a higher spread than the MLR test plot; all test values of Cancer Type 1 are correctly bunched around 1, but the model gives several cases of Type 0 a high probability of being Type 1, where the MLR misclassified only one observation.\n",
    "\n",
    "Advantages of lower dimenstionality inclues lower risk of overfitting and lower computational requirements.\n",
    "\n",
    "----"
   ]
  },
  {
   "cell_type": "markdown",
   "metadata": {},
   "source": [
    "\n",
    "## Multiclass Thyroid Classification\n",
    "\n",
    "In this problem, you will build a model for diagnosing disorders in a patient's thyroid gland. Given the results of medical tests on a patient, the task is to classify the patient either as:\n",
    "- *normal* (class 1)\n",
    "- having *hyperthyroidism* (class 2)\n",
    "- or having *hypothyroidism* (class 3). \n",
    "\n",
    "The data set is provided in the file `dataset_hw5_2.csv`. Columns 1-2 contain biomarkers for a patient (predictors):\n",
    "- Biomarker 1: (Logarithm of) level of basal thyroid-stimulating hormone (TSH) as measured by radioimmuno assay\n",
    "- Biomarker 2: (Logarithm of) maximal absolute difference of TSH value after injection of 200 micro grams of thyrotropin-releasing hormone as compared to the basal value.\n",
    "\n",
    "The last column contains the diagnosis for the patient from a medical expert. This data set was obtained from the UCI Machine Learning Repository.\n",
    "\n",
    "Notice that unlike previous exercises, the task at hand is a 3-class classification problem. We will explore the use of different methods for multiclass classification.\n",
    "\n",
    "First task: split the data using the code provided below."
   ]
  },
  {
   "cell_type": "markdown",
   "metadata": {},
   "source": [
    "## Question 7: Fit Classification Models\n",
    "\n",
    "1. Generate a 2D scatter plot of the training set, denoting each class with a different color. Does it appear that the data points can be separated well by a linear classifier?\n",
    "\n",
    "2. Briefly explain the difference between multinomial logistic regression and one-vs-rest (OvR) logistic regression methods for fitting a multiclass classifier (in 2-3 sentences).\n",
    "\n",
    "3. Fit linear classification models on the thyroid data set using both the methods.  You should use $L_2$ regularization in both cases, tuning the regularization parameter using cross-validation.  Is there a difference in the overall classification accuracy of the two methods on the test set?\n",
    "\n",
    "4. Also, compare the training and test accuracies of these models with the following classification methods:\n",
    "    - Multiclass Logistic Regression with quadratic terms \n",
    "    - Linear Discriminant Analysis\n",
    "    - Quadratic Discriminant Analysis\n",
    "    - k-Nearest Neighbors\n",
    " <br>\n",
    "*Note:* you may use either the OvR or multinomial variant for the multiclass logistic regression (with $L_2$ regularization). Do not forget to use cross-validation to choose the regularization parameter, and also the number of neighbors in k-NN. \n",
    "\n",
    "5. Does the inclusion of the polynomial terms in logistic regression yield better test accuracy compared to the model with only linear terms? \n",
    "\n",
    "\n",
    "*Hint:* You may use the `KNeighborsClassifier` class to fit a k-NN classification model."
   ]
  },
  {
   "cell_type": "markdown",
   "metadata": {},
   "source": [
    "#### Answers:\n",
    "\n",
    "**7.0:** First task: split the data using the code provided below. "
   ]
  },
  {
   "cell_type": "code",
   "execution_count": 140,
   "metadata": {
    "collapsed": true
   },
   "outputs": [],
   "source": [
    "np.random.seed(9001)\n",
    "df = pd.read_csv('data/dataset_hw5_2.csv')\n",
    "msk = np.random.rand(len(df)) < 0.5\n",
    "data_train = df[msk]\n",
    "data_test = df[~msk]"
   ]
  },
  {
   "cell_type": "code",
   "execution_count": 141,
   "metadata": {},
   "outputs": [
    {
     "name": "stdout",
     "output_type": "stream",
     "text": [
      "Split is 102 train observations and 113 test observations.\n"
     ]
    }
   ],
   "source": [
    "print(\"Split is {} train observations and {} test observations.\"\n",
    "     .format(len(data_train), len(data_test)))"
   ]
  },
  {
   "cell_type": "markdown",
   "metadata": {},
   "source": [
    "**7.1:** Generate a 2D scatter plot of the training set, denoting each class with a different color. Does it appear that the data points can be separated well by a linear classifier?\n"
   ]
  },
  {
   "cell_type": "code",
   "execution_count": 142,
   "metadata": {},
   "outputs": [
    {
     "data": {
      "text/html": [
       "<div>\n",
       "<style scoped>\n",
       "    .dataframe tbody tr th:only-of-type {\n",
       "        vertical-align: middle;\n",
       "    }\n",
       "\n",
       "    .dataframe tbody tr th {\n",
       "        vertical-align: top;\n",
       "    }\n",
       "\n",
       "    .dataframe thead th {\n",
       "        text-align: right;\n",
       "    }\n",
       "</style>\n",
       "<table border=\"1\" class=\"dataframe\">\n",
       "  <thead>\n",
       "    <tr style=\"text-align: right;\">\n",
       "      <th></th>\n",
       "      <th>Biomarker 1</th>\n",
       "      <th>Biomarker 2</th>\n",
       "      <th>Diagnosis</th>\n",
       "    </tr>\n",
       "  </thead>\n",
       "  <tbody>\n",
       "    <tr>\n",
       "      <th>0</th>\n",
       "      <td>0.262372</td>\n",
       "      <td>0.875473</td>\n",
       "      <td>1.0</td>\n",
       "    </tr>\n",
       "    <tr>\n",
       "      <th>5</th>\n",
       "      <td>0.336479</td>\n",
       "      <td>1.098616</td>\n",
       "      <td>1.0</td>\n",
       "    </tr>\n",
       "    <tr>\n",
       "      <th>9</th>\n",
       "      <td>0.182330</td>\n",
       "      <td>-1.609488</td>\n",
       "      <td>2.0</td>\n",
       "    </tr>\n",
       "    <tr>\n",
       "      <th>12</th>\n",
       "      <td>-0.223131</td>\n",
       "      <td>0.788462</td>\n",
       "      <td>1.0</td>\n",
       "    </tr>\n",
       "    <tr>\n",
       "      <th>13</th>\n",
       "      <td>0.587792</td>\n",
       "      <td>1.458617</td>\n",
       "      <td>1.0</td>\n",
       "    </tr>\n",
       "  </tbody>\n",
       "</table>\n",
       "</div>"
      ],
      "text/plain": [
       "    Biomarker 1  Biomarker 2  Diagnosis\n",
       "0      0.262372     0.875473        1.0\n",
       "5      0.336479     1.098616        1.0\n",
       "9      0.182330    -1.609488        2.0\n",
       "12    -0.223131     0.788462        1.0\n",
       "13     0.587792     1.458617        1.0"
      ]
     },
     "execution_count": 142,
     "metadata": {},
     "output_type": "execute_result"
    }
   ],
   "source": [
    "# View Dataframe\n",
    "data_train.head()"
   ]
  },
  {
   "cell_type": "code",
   "execution_count": 143,
   "metadata": {
    "collapsed": true
   },
   "outputs": [],
   "source": [
    "# Separate Data by Classes\n",
    "class1 = data_train[data_train.Diagnosis == 1]\n",
    "class2 = data_train[data_train.Diagnosis == 2]\n",
    "class3 = data_train[data_train.Diagnosis == 3]"
   ]
  },
  {
   "cell_type": "code",
   "execution_count": 144,
   "metadata": {},
   "outputs": [
    {
     "data": {
      "image/png": "[encoded data removed]",
      "text/plain": [
       "<Figure size 576x396 with 1 Axes>"
      ]
     },
     "metadata": {},
     "output_type": "display_data"
    }
   ],
   "source": [
    "# Scatter Plot\n",
    "plt.plot(class1['Biomarker 1'], class1['Biomarker 2'],\n",
    "         'ro', alpha=.7, label='Normal')\n",
    "plt.plot(class2['Biomarker 1'], class2['Biomarker 2'],\n",
    "         'bo', alpha=.7, label='Hyper')\n",
    "plt.plot(class3['Biomarker 1'], class3['Biomarker 2'],\n",
    "         'go', alpha=.8, label='Hypo')\n",
    "\n",
    "# Label\n",
    "plt.title('Scatterplots of Biomarkers by Class (Train Set)', fontsize=14)\n",
    "plt.xlabel('Biomarker 1', fontsize=14)\n",
    "plt.ylabel('Biomarker 2', fontsize=14)\n",
    "plt.grid(False)\n",
    "plt.legend(fontsize=12, loc=4)\n",
    "\n",
    "plt.show()"
   ]
  },
  {
   "cell_type": "markdown",
   "metadata": {},
   "source": [
    "----\n",
    "It does seem like this would be a good problem for linear classifiers. The three classes seem to be easily distinguishable in well-defined clusters except for a few cases.\n",
    "\n",
    "----"
   ]
  },
  {
   "cell_type": "markdown",
   "metadata": {},
   "source": [
    "**7.2:** Briefly explain the difference between multinomial logistic regression and one-vs-rest (OvR) logistic regression methods for fitting a multiclass classifier (in 2-3 sentences).\n"
   ]
  },
  {
   "cell_type": "markdown",
   "metadata": {},
   "source": [
    "----\n",
    "OvR logistic regression assumes that for each class, there is an independent classification problem. For each class, it tries to find the major distinctions between that class and the combination of all of the others. Multinomial logistic regression, on the other hand, attempts to fit a model using only only one class as a reference group.\n",
    "\n",
    "----"
   ]
  },
  {
   "cell_type": "markdown",
   "metadata": {},
   "source": [
    "**7.3:** Fit linear classification models on the thyroid data set using both the methods.  You should use $L_2$ regularization in both cases, tuning the regularization parameter using cross-validation.  Is there a difference in the overall classification accuracy of the two methods on the test set?"
   ]
  },
  {
   "cell_type": "code",
   "execution_count": 145,
   "metadata": {
    "collapsed": true
   },
   "outputs": [],
   "source": [
    "# Separate Predictors and Response\n",
    "y_train = data_train['Diagnosis']\n",
    "y_test = data_test['Diagnosis']\n",
    "\n",
    "x_train = data_train.drop(columns='Diagnosis')\n",
    "x_test = data_test.drop(columns='Diagnosis')"
   ]
  },
  {
   "cell_type": "code",
   "execution_count": 146,
   "metadata": {},
   "outputs": [
    {
     "data": {
      "text/html": [
       "<div>\n",
       "<style scoped>\n",
       "    .dataframe tbody tr th:only-of-type {\n",
       "        vertical-align: middle;\n",
       "    }\n",
       "\n",
       "    .dataframe tbody tr th {\n",
       "        vertical-align: top;\n",
       "    }\n",
       "\n",
       "    .dataframe thead th {\n",
       "        text-align: right;\n",
       "    }\n",
       "</style>\n",
       "<table border=\"1\" class=\"dataframe\">\n",
       "  <thead>\n",
       "    <tr style=\"text-align: right;\">\n",
       "      <th></th>\n",
       "      <th>Biomarker 1</th>\n",
       "      <th>Biomarker 2</th>\n",
       "    </tr>\n",
       "  </thead>\n",
       "  <tbody>\n",
       "    <tr>\n",
       "      <th>0</th>\n",
       "      <td>0.262372</td>\n",
       "      <td>0.875473</td>\n",
       "    </tr>\n",
       "    <tr>\n",
       "      <th>5</th>\n",
       "      <td>0.336479</td>\n",
       "      <td>1.098616</td>\n",
       "    </tr>\n",
       "    <tr>\n",
       "      <th>9</th>\n",
       "      <td>0.182330</td>\n",
       "      <td>-1.609488</td>\n",
       "    </tr>\n",
       "    <tr>\n",
       "      <th>12</th>\n",
       "      <td>-0.223131</td>\n",
       "      <td>0.788462</td>\n",
       "    </tr>\n",
       "    <tr>\n",
       "      <th>13</th>\n",
       "      <td>0.587792</td>\n",
       "      <td>1.458617</td>\n",
       "    </tr>\n",
       "  </tbody>\n",
       "</table>\n",
       "</div>"
      ],
      "text/plain": [
       "    Biomarker 1  Biomarker 2\n",
       "0      0.262372     0.875473\n",
       "5      0.336479     1.098616\n",
       "9      0.182330    -1.609488\n",
       "12    -0.223131     0.788462\n",
       "13     0.587792     1.458617"
      ]
     },
     "execution_count": 146,
     "metadata": {},
     "output_type": "execute_result"
    }
   ],
   "source": [
    "x_train.head()"
   ]
  },
  {
   "cell_type": "code",
   "execution_count": 147,
   "metadata": {},
   "outputs": [
    {
     "data": {
      "text/plain": [
       "0     1.0\n",
       "5     1.0\n",
       "9     2.0\n",
       "12    1.0\n",
       "13    1.0\n",
       "Name: Diagnosis, dtype: float64"
      ]
     },
     "execution_count": 147,
     "metadata": {},
     "output_type": "execute_result"
    }
   ],
   "source": [
    "y_train.head()"
   ]
  },
  {
   "cell_type": "code",
   "execution_count": 148,
   "metadata": {},
   "outputs": [
    {
     "name": "stdout",
     "output_type": "stream",
     "text": [
      "Multinomial Classification Accuracy (Train): 0.892\n",
      "Multinomial Classification Accuracy  (Test): 0.885\n"
     ]
    }
   ],
   "source": [
    "## Multinomial Logistic Regression\n",
    "\n",
    "# Fit Model\n",
    "mult_reg = LogisticRegressionCV(multi_class='multinomial', penalty='l2', cv=5)\n",
    "mult_reg.fit(x_train, y_train.values.ravel())\n",
    "\n",
    "# Get Classification Accuracy\n",
    "acc_train_mlr = mult_reg.score(x_train, y_train.values.ravel())\n",
    "acc_test_mlr = mult_reg.score(x_test, y_test.values.ravel())\n",
    "\n",
    "# Report Accuracy\n",
    "print(\"Multinomial Classification Accuracy (Train):\", round(acc_train_mlr, 3))\n",
    "print(\"Multinomial Classification Accuracy  (Test):\", round(acc_test_mlr, 3))"
   ]
  },
  {
   "cell_type": "code",
   "execution_count": 149,
   "metadata": {},
   "outputs": [
    {
     "name": "stdout",
     "output_type": "stream",
     "text": [
      "One-vs-Rest Classification Accuracy (Train): 0.863\n",
      "One-vs-Rest Classification Accuracy  (Test): 0.867\n"
     ]
    }
   ],
   "source": [
    "## One-vs-Rest Logistic Regression\n",
    "\n",
    "# Fit Model\n",
    "ovr_reg = LogisticRegressionCV(multi_class='ovr', penalty='l2', cv=5)\n",
    "ovr_reg.fit(x_train, y_train.values.ravel())\n",
    "\n",
    "# Get Classification Accuracy\n",
    "acc_train_ovr = ovr_reg.score(x_train, y_train.values.ravel())\n",
    "acc_test_ovr = ovr_reg.score(x_test, y_test.values.ravel())\n",
    "\n",
    "# Report Accuracy\n",
    "print(\"One-vs-Rest Classification Accuracy (Train):\", round(acc_train_ovr, 3))\n",
    "print(\"One-vs-Rest Classification Accuracy  (Test):\", round(acc_test_ovr, 3))"
   ]
  },
  {
   "cell_type": "markdown",
   "metadata": {},
   "source": [
    "----\n",
    "The One-vs-Rest model is slightly less accurate than the Multinomial model is at predicting the test set.\n",
    "\n",
    "----"
   ]
  },
  {
   "cell_type": "markdown",
   "metadata": {},
   "source": [
    "**7.4:** Also, compare the training and test accuracies of these models with the following classification methods:\n",
    "    - Multiclass Logistic Regression with quadratic terms \n",
    "    - Linear Discriminant Analysis\n",
    "    - Quadratic Discriminant Analysis\n",
    "    - k-Nearest Neighbors\n",
    "\n",
    "*Note:* you may use either the OvR or multinomial variant for the multiclass logistic regression (with $L_2$ regularization). Do not forget to use cross-validation to choose the regularization parameter, and also the number of neighbors in k-NN. \n"
   ]
  },
  {
   "cell_type": "code",
   "execution_count": 150,
   "metadata": {
    "collapsed": true
   },
   "outputs": [],
   "source": [
    "def get_poly_dataset(df, n=2):\n",
    "        \n",
    "    poly = PolynomialFeatures(n,include_bias = False)\n",
    "    design_df = poly.fit_transform(df)\n",
    "        \n",
    "    return design_df"
   ]
  },
  {
   "cell_type": "code",
   "execution_count": 151,
   "metadata": {},
   "outputs": [
    {
     "name": "stdout",
     "output_type": "stream",
     "text": [
      "Multinomial Classification Accuracy (Poly-Train): 0.892\n",
      "Multinomial Classification Accuracy  (Poly-Test): 0.903\n"
     ]
    }
   ],
   "source": [
    "## Multinomial Logistic Regression\n",
    "\n",
    "# Get Quadratic Terms\n",
    "x_poly_train = get_poly_dataset(x_train)\n",
    "x_poly_test = get_poly_dataset(x_test)\n",
    "\n",
    "# Fit Model  --------  does it matter that the observations aren't shuffled?\n",
    "mult_poly_reg = LogisticRegressionCV(multi_class='multinomial', penalty='l2', cv=5)\n",
    "mult_poly_reg.fit(x_poly_train, y_train)\n",
    "\n",
    "# Get Classification Accuracy\n",
    "mult_train_score = mult_poly_reg.score(x_poly_train, y_train.values.ravel())\n",
    "mult_test_score = mult_poly_reg.score(x_poly_test, y_test.values.ravel())\n",
    "\n",
    "# Report Accuracy\n",
    "print(\"Multinomial Classification Accuracy (Poly-Train):\", round(mult_train_score, 3))\n",
    "print(\"Multinomial Classification Accuracy  (Poly-Test):\", round(mult_test_score, 3))"
   ]
  },
  {
   "cell_type": "code",
   "execution_count": 152,
   "metadata": {},
   "outputs": [
    {
     "name": "stdout",
     "output_type": "stream",
     "text": [
      "LDA Training Set Score: 0.873\n",
      "QDA Training Set Score: 0.873\n",
      "\n",
      "LDA Test Set Score: 0.832\n",
      "QDA Test Set Score: 0.85\n"
     ]
    }
   ],
   "source": [
    "lda = LinearDiscriminantAnalysis()\n",
    "qda = QuadraticDiscriminantAnalysis()\n",
    "\n",
    "fitted_lda = LinearDiscriminantAnalysis().fit(x_train, y_train)\n",
    "fitted_qda = QuadraticDiscriminantAnalysis().fit(x_train, y_train)\n",
    "\n",
    "lda_train_score = fitted_lda.score(x_train, y_train)\n",
    "qda_train_score = fitted_qda.score(x_train, y_train)\n",
    "\n",
    "lda_test_score = fitted_lda.score(x_test, y_test)\n",
    "qda_test_score = fitted_qda.score(x_test, y_test)\n",
    "\n",
    "print('LDA Training Set Score:', round(lda_train_score,3))\n",
    "print('QDA Training Set Score:', round(qda_train_score,3))\n",
    "print()\n",
    "\n",
    "print('LDA Test Set Score:', round(lda_test_score,3))\n",
    "print('QDA Test Set Score:', round(qda_test_score,3))"
   ]
  },
  {
   "cell_type": "code",
   "execution_count": 153,
   "metadata": {},
   "outputs": [
    {
     "name": "stdout",
     "output_type": "stream",
     "text": [
      "By cross validation, we should use 3 nieghbors to classify the data\n",
      "3-NN Training Set Score: 0.931\n",
      "3-NN Test Set Score: 0.867\n"
     ]
    }
   ],
   "source": [
    "# declare and pass a KFold object to properly shuffle the training data, and/or set the random state\n",
    "splitter = KFold(5, random_state=42, shuffle=True)\n",
    "\n",
    "neighbors = [1, 2, 3, 4, 5, 7, 10, 15]\n",
    "\n",
    "# List of Validation Scores\n",
    "avg_knn_scores = [0] * len(neighbors)\n",
    "\n",
    "for i, n in enumerate(neighbors):\n",
    "    knn = KNeighborsClassifier(n_neighbors = n)\n",
    "    avg_knn_scores[i] = np.mean(cross_val_score(knn, x_train, y_train, cv=splitter))\n",
    "\n",
    "best_n = neighbors[np.argmax(avg_knn_scores)]\n",
    "    \n",
    "print('By cross validation, we should use', best_n, 'nieghbors to classify the data')\n",
    "\n",
    "knn = KNeighborsClassifier(n_neighbors = best_n)\n",
    "fitted_knn = knn.fit(x_train, y_train)\n",
    "\n",
    "knn_train_score = fitted_knn.score(x_train, y_train)\n",
    "knn_test_score = fitted_knn.score(x_test, y_test)\n",
    "\n",
    "print('3-NN Training Set Score:', round(knn_train_score,3))\n",
    "print('3-NN Test Set Score:', round(knn_test_score,3))\n"
   ]
  },
  {
   "cell_type": "code",
   "execution_count": 154,
   "metadata": {},
   "outputs": [
    {
     "name": "stdout",
     "output_type": "stream",
     "text": [
      "Multinomial Classification Accuracy (Train): 0.892\n",
      "Multinomial Classification Accuracy  (Test): 0.885\n",
      "\n",
      "One-vs-Rest Classification Accuracy (Train): 0.863\n",
      "One-vs-Rest Classification Accuracy  (Test): 0.867\n",
      "\n",
      "Multinomial Classification Accuracy (Poly-Train): 0.892\n",
      "Multinomial Classification Accuracy  (Poly-Test): 0.903\n",
      "\n",
      "LDA Training Set Score: 0.873\n",
      "LDA Test Set Score: 0.832\n",
      "\n",
      "QDA Training Set Score: 0.873\n",
      "QDA Test Set Score: 0.85\n",
      "\n",
      "3-NN Training Set Score: 0.931\n",
      "3-NN Test Set Score: 0.867\n"
     ]
    }
   ],
   "source": [
    "# Putting it all Together\n",
    "\n",
    "# Multinomial Logistic Regression\n",
    "print(\"Multinomial Classification Accuracy (Train):\", round(acc_train_mlr, 3))\n",
    "print(\"Multinomial Classification Accuracy  (Test):\", round(acc_test_mlr, 3))\n",
    "print()\n",
    "# OvR Logistic Regresion\n",
    "print(\"One-vs-Rest Classification Accuracy (Train):\", round(acc_train_ovr, 3))\n",
    "print(\"One-vs-Rest Classification Accuracy  (Test):\", round(acc_test_ovr, 3))\n",
    "print()\n",
    "# Multinomial Logistic Regression on Polynomial Data Sets\n",
    "print(\"Multinomial Classification Accuracy (Poly-Train):\", round(mult_train_score, 3))\n",
    "print(\"Multinomial Classification Accuracy  (Poly-Test):\", round(mult_test_score, 3))\n",
    "print()\n",
    "# LDA\n",
    "print('LDA Training Set Score:', round(lda_train_score,3))\n",
    "print('LDA Test Set Score:', round(lda_test_score,3))\n",
    "print()\n",
    "# QDA\n",
    "print('QDA Training Set Score:', round(qda_train_score,3))\n",
    "print('QDA Test Set Score:', round(qda_test_score,3))\n",
    "print()\n",
    "# KNN (3-Neighbors)\n",
    "print('3-NN Training Set Score:', round(knn_train_score,3))\n",
    "print('3-NN Test Set Score:', round(knn_test_score,3))"
   ]
  },
  {
   "cell_type": "markdown",
   "metadata": {},
   "source": [
    "**7.5:** Does the inclusion of the polynomial terms in logistic regression yield better test accuracy compared to the model with only linear terms? "
   ]
  },
  {
   "cell_type": "markdown",
   "metadata": {},
   "source": [
    "----\n",
    "Unsurprinsgly, the inclusion of polynomial terms in logistic regression yields a better test accuracy compared to the model with only linear terms.\n",
    "\n",
    "----"
   ]
  },
  {
   "cell_type": "markdown",
   "metadata": {},
   "source": [
    "## Question 8: Visualize Decision Boundaries\n",
    "\n",
    "The following code will allow you to visualize the decision boundaries of a given classification model."
   ]
  },
  {
   "cell_type": "code",
   "execution_count": 155,
   "metadata": {
    "collapsed": true
   },
   "outputs": [],
   "source": [
    "#--------  plot_decision_boundary\n",
    "# A function that visualizes the data and the decision boundaries\n",
    "# Input: \n",
    "#      x (predictors)\n",
    "#      y (labels)\n",
    "#      model (the classifier you want to visualize)\n",
    "#      title (title for plot)\n",
    "#      ax (a set of axes to plot on)\n",
    "#      poly_degree (highest degree of polynomial terms included in the model; None by default)\n",
    "\n",
    "def plot_decision_boundary(x, y, model, title, ax, poly_degree=None):\n",
    "    # Create mesh\n",
    "    # Interval of points for biomarker 1\n",
    "    min0 = x[:,0].min()\n",
    "    max0 = x[:,0].max()\n",
    "    interval0 = np.arange(min0, max0, (max0-min0)/100)\n",
    "    n0 = np.size(interval0)\n",
    "    \n",
    "    # Interval of points for biomarker 2\n",
    "    min1 = x[:,1].min()\n",
    "    max1 = x[:,1].max()\n",
    "    interval1 = np.arange(min1, max1, (max1-min1)/100)\n",
    "    n1 = np.size(interval1)\n",
    "\n",
    "    # Create mesh grid of points\n",
    "    x1, x2 = np.meshgrid(interval0, interval1)\n",
    "    x1 = x1.reshape(-1,1)\n",
    "    x2 = x2.reshape(-1,1)\n",
    "    xx = np.concatenate((x1, x2), axis=1)\n",
    "\n",
    "    # Predict on mesh of points\n",
    "    # Check if polynomial terms need to be included\n",
    "    if(poly_degree!=None):\n",
    "        # Use PolynomialFeatures to generate polynomial terms\n",
    "        poly = PolynomialFeatures(poly_degree,include_bias = False)\n",
    "        xx_ = poly.fit_transform(xx)\n",
    "        yy = model.predict(xx_) \n",
    "        \n",
    "    else:   \n",
    "        yy = model.predict(xx)\n",
    "        \n",
    "    yy = yy.reshape((n0, n1))\n",
    "\n",
    "    # Plot decision surface\n",
    "    x1 = x1.reshape(n0, n1)\n",
    "    x2 = x2.reshape(n0, n1)\n",
    "    ax.contourf(x1, x2, yy, cmap=plt.cm.coolwarm, alpha=0.8)\n",
    "    \n",
    "    # Plot scatter plot of data\n",
    "    yy = y.reshape(-1,)\n",
    "    ax.scatter(x[yy==1,0], x[yy==1,1], c='blue', label='Normal', cmap=plt.cm.coolwarm)\n",
    "    ax.scatter(x[yy==2,0], x[yy==2,1], c='cyan', label='Hyper', cmap=plt.cm.coolwarm)\n",
    "    ax.scatter(x[yy==3,0], x[yy==3,1], c='red', label='Hypo', cmap=plt.cm.coolwarm)\n",
    "    \n",
    "    # Label axis, title\n",
    "    ax.set_title(title)\n",
    "    ax.set_xlabel('Biomarker 1')\n",
    "    ax.set_ylabel('Biomarker 2')"
   ]
  },
  {
   "cell_type": "markdown",
   "metadata": {},
   "source": [
    "**Note:** The provided code uses `sklearn`'s `PolynomialFeatures` to generate higher-order polynomial terms, with degree `poly_degree`. \n",
    "Also, if you have loaded the data sets into `pandas` data frames, you may use the `as_matrix` function to obtain a `numpy` array from the data frame objects.\n",
    "\n",
    "1. Use the above code to visualize the decision boundaries for each of the model fitted in the previous question.\n",
    "2. Comment on the difference in the decision boundaries (if any) for the OvR and multinomial logistic regression models. Is there a difference between the decision boundaries for the linear logistic regression models and LDA. What about the decision boundaries for the quadratic logistic regression and QDA? Give an explanation for your answer.\n",
    "3. QDA is a generalization of the LDA model. What's the primary difference that makes QDA more general? How does that manifest in the plots you generated?"
   ]
  },
  {
   "cell_type": "markdown",
   "metadata": {
    "collapsed": true
   },
   "source": [
    "#### Answers:\n",
    "\n",
    "**8.1:** Use the above code to visualize the decision boundaries for each of the model fitted in the previous question."
   ]
  },
  {
   "cell_type": "code",
   "execution_count": 156,
   "metadata": {
    "scrolled": false
   },
   "outputs": [
    {
     "name": "stderr",
     "output_type": "stream",
     "text": [
      "C:\\Users\\ejohn\\Anaconda3\\lib\\site-packages\\ipykernel_launcher.py:1: FutureWarning: Method .as_matrix will be removed in a future version. Use .values instead.\n",
      "  \"\"\"Entry point for launching an IPython kernel.\n"
     ]
    },
    {
     "data": {
      "image/png": "[encoded data removed]",
      "text/plain": [
       "<Figure size 864x1008 with 6 Axes>"
      ]
     },
     "metadata": {},
     "output_type": "display_data"
    }
   ],
   "source": [
    "x = data_train.drop(columns='Diagnosis').as_matrix()\n",
    "y = data_train['Diagnosis'].values.ravel()\n",
    "\n",
    "fig, axes = plt.subplots(3, 2, figsize=(12,14))\n",
    "\n",
    "plot_decision_boundary(x, y, mult_reg, 'Multinomial Logistic Regression', axes[0,0])\n",
    "plot_decision_boundary(x, y, ovr_reg, 'One-vs-Rest Logistic Regression', axes[0,1])\n",
    "plot_decision_boundary(x, y, mult_poly_reg, 'Multinomial Log-Regression (with Polynomial Terms)', axes[1,0], poly_degree=2)\n",
    "plot_decision_boundary(x, y, fitted_knn, 'KNN', axes[1,1])\n",
    "plot_decision_boundary(x, y, fitted_lda, 'LDA', axes[2,0])\n",
    "plot_decision_boundary(x, y, fitted_qda, 'QDA', axes[2,1])"
   ]
  },
  {
   "cell_type": "markdown",
   "metadata": {},
   "source": [
    "**8.2:** Comment on the difference in the decision boundaries (if any) for the OvR and multinomial logistic regression models. Is there a difference between the decision boundaries for the linear logistic regression models and LDA. What about the decision boundaries for the quadratic logistic regression and QDA? Give an explanation for your answer."
   ]
  },
  {
   "cell_type": "markdown",
   "metadata": {},
   "source": [
    "---\n",
    "The multinomial and OvR logistic regression models are nearly identical, though the multinomial model classifies a few more points correctly than the OvR one does, particularly among the Class 2 (Hyperthyroidism) points. \n",
    "\n",
    "There is a fairly significant difference in the decision boundaries of the LDA and linear logistic regression models. Instead of using two distinct lines to separate the points in to three zones, the LDA model uses a single line that splits into two branches. Though, while LDA looks more powerful than the logistic regression models do, it turns out to be less accurate than them in predicting both the training set and the test set.\n",
    "\n",
    "\n",
    "The quadratic logistic regression model (QLM) is vastly different from the QDA one. The QLM model grants much more area to Classes 1 and 2 than the QDA one does, and it correctly classifies more points in Class 3 than QDA does. Though, just by visualizing the two classification models, the QDA one feels far more intuitive than the QLM one does. This is partly because much of the area under Class 2 (blue) is far closer to a Class 3 point (cyan) than it is to a Class 2 point.\n",
    "\n",
    "---"
   ]
  },
  {
   "cell_type": "markdown",
   "metadata": {},
   "source": [
    "**8.3:** QDA is a generalization of the LDA model. What's the primary difference that makes QDA more general? How does that manifest in the plots you generated?"
   ]
  },
  {
   "cell_type": "markdown",
   "metadata": {},
   "source": [
    "---\n",
    "Unlike LDA, QDA relaxes the assumption that the variances of each class are equal. This allows us to get quadratic boundaries, like the one that surrounds the blue points in the QDA model, rather than linear ones.\n",
    "\n",
    "---"
   ]
  },
  {
   "cell_type": "code",
   "execution_count": null,
   "metadata": {
    "collapsed": true
   },
   "outputs": [],
   "source": []
  }
 ],
 "metadata": {
  "anaconda-cloud": {},
  "kernelspec": {
   "display_name": "Python 3",
   "language": "python",
   "name": "python3"
  },
  "language_info": {
   "codemirror_mode": {
    "name": "ipython",
    "version": 3
   },
   "file_extension": ".py",
   "mimetype": "text/x-python",
   "name": "python",
   "nbconvert_exporter": "python",
   "pygments_lexer": "ipython3",
   "version": "3.6.6"
  }
 },
 "nbformat": 4,
 "nbformat_minor": 2
}
