{
 "cells": [
  {
   "cell_type": "markdown",
   "metadata": {},
   "source": [
    "# <img style=\"float: left; padding-right: 10px; width: 45px\" src=\"fig/iacs.png\"> S-109A Introduction to Data Science \n",
    "## Homework 4 - Regularization \n",
    "\n",
    "\n",
    "\n",
    "**Harvard University**<br/>\n",
    "**Summer 2018**<br/>\n",
    "**Instructors**: Pavlos Protopapas, Kevin Rader\n",
    "\n",
    "<hr style=\"height:2pt\">"
   ]
  },
  {
   "cell_type": "markdown",
   "metadata": {},
   "source": [
    "### INSTRUCTIONS\n",
    "\n",
    "- To submit your assignment follow the instructions given in canvas.\n",
    "- Restart the kernel and run the whole notebook again before you submit. \n",
    "- If you submit individually and you have worked with someone, please include the name of your [one] partner below. \n",
    "\n",
    "Nathan Goldberg, Erik Johnsson\n",
    "<hr style=\"height:2pt\">"
   ]
  },
  {
   "cell_type": "code",
   "execution_count": 2,
   "metadata": {},
   "outputs": [
    {
     "data": {
      "text/html": [
       "<style>\n",
       "h1 { \n",
       "    padding-top: 25px;\n",
       "    padding-bottom: 25px;\n",
       "    text-align: left; \n",
       "    padding-left: 10px;\n",
       "    background-color: #DDDDDD; \n",
       "    color: black;\n",
       "}\n",
       "div.exercise {\n",
       "\tbackground-color: #ffcccc;\n",
       "\tborder-color: #E9967A; \t\n",
       "\tborder-left: 5px solid #800080; \n",
       "\tpadding: 0.5em;\n",
       "}\n",
       "div.theme {\n",
       "\tbackground-color: #DDDDDD;\n",
       "\tborder-color: #E9967A; \t\n",
       "\tborder-left: 5px solid #800080; \n",
       "\tpadding: 0.5em;\n",
       "\tfont-size: 18pt;\n",
       "}\n",
       "p.q1 { \n",
       "    padding-top: 5px;\n",
       "    padding-bottom: 5px;\n",
       "    text-align: left; \n",
       "    padding-left: 5px;\n",
       "    background-color: #EEEEEE; \n",
       "    color: black;\n",
       "}\n",
       "header {\n",
       "   padding-top: 35px;\n",
       "    padding-bottom: 35px;\n",
       "    text-align: left; \n",
       "    padding-left: 10px;\n",
       "    background-color: #DDDDDD; \n",
       "    color: black;\n",
       "}\n",
       "</style>\n",
       "\n"
      ],
      "text/plain": [
       "<IPython.core.display.HTML object>"
      ]
     },
     "execution_count": 2,
     "metadata": {},
     "output_type": "execute_result"
    }
   ],
   "source": [
    "from IPython.core.display import HTML\n",
    "def css_styling(): styles = open(\"cs109.css\", \"r\").read(); return HTML(styles)\n",
    "css_styling()"
   ]
  },
  {
   "cell_type": "markdown",
   "metadata": {},
   "source": [
    "import these libraries"
   ]
  },
  {
   "cell_type": "code",
   "execution_count": 3,
   "metadata": {},
   "outputs": [],
   "source": [
    "import warnings\n",
    "warnings.filterwarnings('ignore')\n",
    "import numpy as np\n",
    "import pandas as pd\n",
    "import matplotlib\n",
    "import matplotlib.pyplot as plt\n",
    "from sklearn.metrics import r2_score\n",
    "from sklearn.preprocessing import PolynomialFeatures\n",
    "from sklearn.linear_model import Ridge\n",
    "from sklearn.linear_model import Lasso\n",
    "from sklearn.linear_model import RidgeCV\n",
    "from sklearn.linear_model import LassoCV\n",
    "from sklearn.linear_model import LinearRegression\n",
    "from sklearn.preprocessing import StandardScaler\n",
    "\n",
    "from sklearn.model_selection import cross_val_score\n",
    "from sklearn.model_selection import LeaveOneOut\n",
    "from sklearn.model_selection import KFold\n",
    "\n",
    "#import statsmodels.api as sm\n",
    "\n",
    "from pandas.core import datetools\n",
    "%matplotlib inline"
   ]
  },
  {
   "cell_type": "markdown",
   "metadata": {},
   "source": [
    "# Continuing Bike Sharing Usage Data\n",
    "\n",
    "In this homework, we will focus on regularization and cross validation. We will continue to build regression models for the Capital Bikeshare program in Washington D.C.  See homework 3 for more information about the Capital Bikeshare data that we'll be using extensively. \n",
    "\n"
   ]
  },
  {
   "cell_type": "markdown",
   "metadata": {},
   "source": [
    "## Data Preparation\n",
    "\n",
    "\n",
    "\n",
    "<div class='exercise'> <b> Question 1 </b> </div> \n",
    "  In HW3 Questions 1-3, you preprocessed the data in preparation for your regression analysis. We ask you to repeat those steps (particularly those in Question 3) so that we can compare the analysis models in this HW with those you developed in HW3.  In this HW we'll be using models from sklearn exclusively (as opposed to statsmodels)\n",
    "  \n",
    "**1.1** [From HW3] Read `data/BSS_train.csv` and `data/BSS_test.csv` into dataframes `BSS_train` and `BSS_test`, respectively.  Remove the `dteday` column from both train and test dataset. We do not need it, and its format cannot be used for analysis.  Also remove the `casual` and `registered` columns for both training and test datasets as they make  `count` trivial.   \n",
    "\n",
    "**1.2** Since we'll be exploring Regularization and Polynomial Features, it will make sense to standardize our data.  Standardize the numerical features. Store the dataframes for the processed training and test predictors into the variables `X_train` and `X_test`.  Store the appropriately shaped numpy arrays for the corresponding train and test `count` columns into `y_train` and `y_test`.\n",
    "\n",
    "**1.3** Use the `LinearRegression` library from `sklearn` to fit a multiple linear regression model to the training set data in `X_train`.  Store the fitted model in the variable `BikeOLSModel`.\n",
    "\n",
    "**1.4** What are the training and test set $R^2$ scores?  Store the training and test $R^2$ scores of the `BikeOLSModel` in a dictionary `BikeOLS_r2scores` using the string 'training' and 'test' as keys.  \n",
    "\n",
    "**1.5**   We're going to use bootstrapped confidence intervals (use 500 bootstrap iterations) to determine which of the estimated coefficients for the `BikeOLSModel` are statistically significant at a significance level of 5% .  We'll do so by creating 3 different functions:\n",
    "\n",
    "1. `make_bootstrap_sample(dataset_X, dataset_y)` returns a bootstrap sample of `dataset_X` and `dataset_y`\n",
    "2. `calculate_coefficients(dataset_X, dataset_y, model)` returns in the form of a dictionary regression coefficients calculated by your model on `dataset_X` and `dataset_y`.  The keys for regression coefficients dictionary should be the names of the features.  The values should be the coefficient values of that feature calculated on your model.  An example would be {'hum': 12.3, 'windspeed': -1.2, 'Sunday': 0.6 ... }\n",
    "3. `get_significant_predictors(regression_coefficients, significance_level)` takes as input a list of regression coefficient dictionaries (each one the output of `calculate_coefficients` and  returns a python list of the feature names of the significant predictors e.g. ['Monday', 'hum', 'holiday', ... ]\n",
    "\n",
    "In the above functions `dataset_X` should always be a pandas dataframe with your features, `dataset_y` a numpy column vector with the values of the response variable and collectively they form the dataset upon which the operations take place. `model` is the `sklearn` regression model that will be used to generate the regression coefficients. `regression_coefficients` is a list of dictionaries of numpy arrays with each numpy array containing the regression coefficients (not including the intercept) calculated from one bootstrap sample.  `significance_level` represents the significance level as a floating point number.  So a 5% significance level should be represented as 0.05.  \n",
    "\n",
    "\n",
    "Store the feature names as a list of strings in the variable `BikeOLS_significant_bootstrap` and print them for your answer.\n"
   ]
  },
  {
   "cell_type": "markdown",
   "metadata": {},
   "source": [
    "### Answers"
   ]
  },
  {
   "cell_type": "markdown",
   "metadata": {},
   "source": [
    "#### 1.1 Read `data/BSS_train.csv` and `data/BSS_test.csv` into Pandas DataFrames"
   ]
  },
  {
   "cell_type": "code",
   "execution_count": 4,
   "metadata": {},
   "outputs": [],
   "source": [
    "# Read Data\n",
    "BSS_train = pd.read_csv(\"data/BSS_train.csv\")\n",
    "BSS_test = pd.read_csv(\"data/BSS_test.csv\")"
   ]
  },
  {
   "cell_type": "code",
   "execution_count": 5,
   "metadata": {},
   "outputs": [],
   "source": [
    "# Remove columns\n",
    "BSS_train = BSS_train.drop(columns=['Unnamed: 0', 'dteday', 'casual', 'registered'])\n",
    "BSS_test = BSS_test.drop(columns=['Unnamed: 0', 'dteday', 'casual', 'registered'])"
   ]
  },
  {
   "cell_type": "code",
   "execution_count": 6,
   "metadata": {},
   "outputs": [
    {
     "data": {
      "text/html": [
       "<div>\n",
       "<style scoped>\n",
       "    .dataframe tbody tr th:only-of-type {\n",
       "        vertical-align: middle;\n",
       "    }\n",
       "\n",
       "    .dataframe tbody tr th {\n",
       "        vertical-align: top;\n",
       "    }\n",
       "\n",
       "    .dataframe thead th {\n",
       "        text-align: right;\n",
       "    }\n",
       "</style>\n",
       "<table border=\"1\" class=\"dataframe\">\n",
       "  <thead>\n",
       "    <tr style=\"text-align: right;\">\n",
       "      <th></th>\n",
       "      <th>hour</th>\n",
       "      <th>holiday</th>\n",
       "      <th>year</th>\n",
       "      <th>workingday</th>\n",
       "      <th>temp</th>\n",
       "      <th>atemp</th>\n",
       "      <th>hum</th>\n",
       "      <th>windspeed</th>\n",
       "      <th>counts</th>\n",
       "      <th>spring</th>\n",
       "      <th>...</th>\n",
       "      <th>Dec</th>\n",
       "      <th>Mon</th>\n",
       "      <th>Tue</th>\n",
       "      <th>Wed</th>\n",
       "      <th>Thu</th>\n",
       "      <th>Fri</th>\n",
       "      <th>Sat</th>\n",
       "      <th>Cloudy</th>\n",
       "      <th>Snow</th>\n",
       "      <th>Storm</th>\n",
       "    </tr>\n",
       "  </thead>\n",
       "  <tbody>\n",
       "    <tr>\n",
       "      <th>0</th>\n",
       "      <td>0</td>\n",
       "      <td>0</td>\n",
       "      <td>0</td>\n",
       "      <td>0</td>\n",
       "      <td>0.24</td>\n",
       "      <td>0.2879</td>\n",
       "      <td>0.81</td>\n",
       "      <td>0.0</td>\n",
       "      <td>16</td>\n",
       "      <td>0</td>\n",
       "      <td>...</td>\n",
       "      <td>0</td>\n",
       "      <td>0</td>\n",
       "      <td>0</td>\n",
       "      <td>0</td>\n",
       "      <td>0</td>\n",
       "      <td>0</td>\n",
       "      <td>1</td>\n",
       "      <td>0</td>\n",
       "      <td>0</td>\n",
       "      <td>0</td>\n",
       "    </tr>\n",
       "    <tr>\n",
       "      <th>1</th>\n",
       "      <td>1</td>\n",
       "      <td>0</td>\n",
       "      <td>0</td>\n",
       "      <td>0</td>\n",
       "      <td>0.22</td>\n",
       "      <td>0.2727</td>\n",
       "      <td>0.80</td>\n",
       "      <td>0.0</td>\n",
       "      <td>40</td>\n",
       "      <td>0</td>\n",
       "      <td>...</td>\n",
       "      <td>0</td>\n",
       "      <td>0</td>\n",
       "      <td>0</td>\n",
       "      <td>0</td>\n",
       "      <td>0</td>\n",
       "      <td>0</td>\n",
       "      <td>1</td>\n",
       "      <td>0</td>\n",
       "      <td>0</td>\n",
       "      <td>0</td>\n",
       "    </tr>\n",
       "    <tr>\n",
       "      <th>2</th>\n",
       "      <td>2</td>\n",
       "      <td>0</td>\n",
       "      <td>0</td>\n",
       "      <td>0</td>\n",
       "      <td>0.22</td>\n",
       "      <td>0.2727</td>\n",
       "      <td>0.80</td>\n",
       "      <td>0.0</td>\n",
       "      <td>32</td>\n",
       "      <td>0</td>\n",
       "      <td>...</td>\n",
       "      <td>0</td>\n",
       "      <td>0</td>\n",
       "      <td>0</td>\n",
       "      <td>0</td>\n",
       "      <td>0</td>\n",
       "      <td>0</td>\n",
       "      <td>1</td>\n",
       "      <td>0</td>\n",
       "      <td>0</td>\n",
       "      <td>0</td>\n",
       "    </tr>\n",
       "    <tr>\n",
       "      <th>3</th>\n",
       "      <td>3</td>\n",
       "      <td>0</td>\n",
       "      <td>0</td>\n",
       "      <td>0</td>\n",
       "      <td>0.24</td>\n",
       "      <td>0.2879</td>\n",
       "      <td>0.75</td>\n",
       "      <td>0.0</td>\n",
       "      <td>13</td>\n",
       "      <td>0</td>\n",
       "      <td>...</td>\n",
       "      <td>0</td>\n",
       "      <td>0</td>\n",
       "      <td>0</td>\n",
       "      <td>0</td>\n",
       "      <td>0</td>\n",
       "      <td>0</td>\n",
       "      <td>1</td>\n",
       "      <td>0</td>\n",
       "      <td>0</td>\n",
       "      <td>0</td>\n",
       "    </tr>\n",
       "    <tr>\n",
       "      <th>4</th>\n",
       "      <td>4</td>\n",
       "      <td>0</td>\n",
       "      <td>0</td>\n",
       "      <td>0</td>\n",
       "      <td>0.24</td>\n",
       "      <td>0.2879</td>\n",
       "      <td>0.75</td>\n",
       "      <td>0.0</td>\n",
       "      <td>1</td>\n",
       "      <td>0</td>\n",
       "      <td>...</td>\n",
       "      <td>0</td>\n",
       "      <td>0</td>\n",
       "      <td>0</td>\n",
       "      <td>0</td>\n",
       "      <td>0</td>\n",
       "      <td>0</td>\n",
       "      <td>1</td>\n",
       "      <td>0</td>\n",
       "      <td>0</td>\n",
       "      <td>0</td>\n",
       "    </tr>\n",
       "  </tbody>\n",
       "</table>\n",
       "<p>5 rows × 32 columns</p>\n",
       "</div>"
      ],
      "text/plain": [
       "   hour  holiday  year  workingday  temp   atemp   hum  windspeed  counts  \\\n",
       "0     0        0     0           0  0.24  0.2879  0.81        0.0      16   \n",
       "1     1        0     0           0  0.22  0.2727  0.80        0.0      40   \n",
       "2     2        0     0           0  0.22  0.2727  0.80        0.0      32   \n",
       "3     3        0     0           0  0.24  0.2879  0.75        0.0      13   \n",
       "4     4        0     0           0  0.24  0.2879  0.75        0.0       1   \n",
       "\n",
       "   spring  ...    Dec  Mon  Tue  Wed  Thu  Fri  Sat  Cloudy  Snow  Storm  \n",
       "0       0  ...      0    0    0    0    0    0    1       0     0      0  \n",
       "1       0  ...      0    0    0    0    0    0    1       0     0      0  \n",
       "2       0  ...      0    0    0    0    0    0    1       0     0      0  \n",
       "3       0  ...      0    0    0    0    0    0    1       0     0      0  \n",
       "4       0  ...      0    0    0    0    0    0    1       0     0      0  \n",
       "\n",
       "[5 rows x 32 columns]"
      ]
     },
     "execution_count": 6,
     "metadata": {},
     "output_type": "execute_result"
    }
   ],
   "source": [
    "# View\n",
    "BSS_train.head()"
   ]
  },
  {
   "cell_type": "markdown",
   "metadata": {},
   "source": [
    "#### 1.2 Standardizing our data"
   ]
  },
  {
   "cell_type": "code",
   "execution_count": 7,
   "metadata": {},
   "outputs": [
    {
     "name": "stdout",
     "output_type": "stream",
     "text": [
      "Numeric Preds: ['temp', 'atemp', 'hum', 'windspeed']\n"
     ]
    }
   ],
   "source": [
    "# Identify numerical predictors\n",
    "numeric_preds = []\n",
    "\n",
    "for predictor in BSS_train.dtypes.index:\n",
    "    if BSS_train.dtypes[predictor] == float:\n",
    "        numeric_preds.append(predictor)\n",
    "        \n",
    "print(\"Numeric Preds:\", numeric_preds)"
   ]
  },
  {
   "cell_type": "code",
   "execution_count": 8,
   "metadata": {},
   "outputs": [],
   "source": [
    "# Standardize numeric columns\n",
    "for pred in numeric_preds:\n",
    "    BSS_train[pred] = (BSS_train[pred] - np.mean(BSS_train[pred])) / np.std(BSS_train[pred])\n",
    "    BSS_test[pred] = (BSS_test[pred] - np.mean(BSS_test[pred])) / np.std(BSS_test[pred])"
   ]
  },
  {
   "cell_type": "code",
   "execution_count": 9,
   "metadata": {},
   "outputs": [
    {
     "data": {
      "image/png": "[encoded data removed]",
      "text/plain": [
       "<Figure size 432x288 with 1 Axes>"
      ]
     },
     "metadata": {},
     "output_type": "display_data"
    }
   ],
   "source": [
    "# Check that Standardization Worked\n",
    "\n",
    "# Plot Histograms\n",
    "plt.hist(BSS_train['temp'], alpha=.6, label='temp')\n",
    "plt.hist(BSS_train['atemp'], alpha=.6, label='atemp')\n",
    "plt.hist(BSS_train['hum'], alpha=.6, label='hum')\n",
    "plt.hist(BSS_train['windspeed'], alpha=.2, label='wind')\n",
    "\n",
    "# Label\n",
    "plt.ylabel('Frequency', fontsize=14)\n",
    "plt.xlabel('Standardized Value', fontsize=14)\n",
    "plt.title('Histogram of Standardized Values (Train Set)', fontsize=14)\n",
    "plt.legend();"
   ]
  },
  {
   "cell_type": "markdown",
   "metadata": {},
   "source": [
    "It looks like the standardization worked perfectly for `temp`, `atemp`, and `hum`, but `windspeed` is not exactly distributed normally; instead it has a right skew, probably because of some extreme values."
   ]
  },
  {
   "cell_type": "code",
   "execution_count": 10,
   "metadata": {},
   "outputs": [],
   "source": [
    "# Store response and predictor arrays\n",
    "y_train = BSS_train['counts']\n",
    "y_test = BSS_test['counts']\n",
    "\n",
    "x_train = BSS_train.drop(columns=['counts'])\n",
    "x_test = BSS_test.drop(columns=['counts'])"
   ]
  },
  {
   "cell_type": "markdown",
   "metadata": {},
   "source": [
    "#### 1.3 Use the `LinearRegression` library from `sklearn` to fit a multiple linear regression."
   ]
  },
  {
   "cell_type": "code",
   "execution_count": 11,
   "metadata": {},
   "outputs": [
    {
     "name": "stdout",
     "output_type": "stream",
     "text": [
      "Intercept: 54.94484812815614\n",
      "\n",
      "Coefficients (31):\n",
      " [  7.22138194 -18.09579787  76.35190255  11.31776458  64.2144082\n",
      "  12.83245817 -39.67974129   2.74716748  43.1540641   29.54255101\n",
      "  68.5953343   -7.64302775 -11.67368714 -41.52438417 -33.2927062\n",
      " -65.80393392 -93.48048248 -59.2081129  -16.05174746 -16.16015032\n",
      " -25.87318084 -10.20425082  -2.66009872  -6.14245821   2.29643998\n",
      "  -3.16107607   2.88915973  14.94592932   6.78680552 -28.28589048\n",
      "  42.35693906]\n"
     ]
    }
   ],
   "source": [
    "# Fit Model\n",
    "BikeOLSModel = LinearRegression()\n",
    "BikeOLSModel = BikeOLSModel.fit(x_train, y_train)\n",
    "\n",
    "# Print Coefficients\n",
    "print(\"Intercept:\", BikeOLSModel.intercept_)\n",
    "print(\"\\nCoefficients ({}):\\n\"\n",
    "      .format(len(BikeOLSModel.coef_)), BikeOLSModel.coef_)"
   ]
  },
  {
   "cell_type": "markdown",
   "metadata": {},
   "source": [
    "#### 1.4 What are the training and test set $R^2$ scores? Store the $R^2$ scores of the `BikeOLSModel` on the training and test sets in a dictionary `BikeOLS_r2scores`. "
   ]
  },
  {
   "cell_type": "code",
   "execution_count": 12,
   "metadata": {},
   "outputs": [
    {
     "name": "stdout",
     "output_type": "stream",
     "text": [
      "R Squared (OLS Train): 0.4065\n",
      "R Squared (OLS Test) : 0.4054\n"
     ]
    }
   ],
   "source": [
    "## Report R^2\n",
    "\n",
    "# Make Predictions\n",
    "pred_train = BikeOLSModel.predict(x_train)\n",
    "pred_test = BikeOLSModel.predict(x_test)\n",
    "\n",
    "# Calculate R^2\n",
    "r2_ols_train = r2_score(y_train, pred_train)\n",
    "r2_ols_test = r2_score(y_test, pred_test)\n",
    "\n",
    "# Print\n",
    "print(\"R Squared (OLS Train): {}\"\n",
    "      .format(round(r2_ols_train, 4)))\n",
    "print(\"R Squared (OLS Test) : {}\"\n",
    "      .format(round(r2_ols_test, 4)))"
   ]
  },
  {
   "cell_type": "code",
   "execution_count": 13,
   "metadata": {},
   "outputs": [
    {
     "data": {
      "text/plain": [
       "{'training': 0.4065387827969087, 'test': 0.40540416900870235}"
      ]
     },
     "execution_count": 13,
     "metadata": {},
     "output_type": "execute_result"
    }
   ],
   "source": [
    "# Store in Dictionary\n",
    "BikeOLS_r2scores = {'training':r2_ols_train, 'test':r2_ols_test}\n",
    "BikeOLS_r2scores"
   ]
  },
  {
   "cell_type": "markdown",
   "metadata": {},
   "source": [
    "#### 1.5 We're going to use bootstrapped confidence intervals to determine which of the estimated coefficients ..."
   ]
  },
  {
   "cell_type": "code",
   "execution_count": 14,
   "metadata": {},
   "outputs": [],
   "source": [
    "# dataset_x should be a pandas dataframe\n",
    "\n",
    "## accepts dataset inputs as numpy arrays\n",
    "def make_bootstrap_sample(dataset_X, dataset_y, size = None):\n",
    "    \n",
    "    # by default return a bootstrap sample of the same size as the original dataset\n",
    "    if not size: size = len(dataset_X)\n",
    "    \n",
    "    # Make sure indexes are standard\n",
    "    dataset_X = dataset_X.reset_index()\n",
    "    dataset_y = dataset_y.reset_index()\n",
    "    del dataset_X['index']\n",
    "    del dataset_y['index']\n",
    "    \n",
    "    # Start datasets\n",
    "    bootstrap_dataset_X = dataset_X[0:0]\n",
    "    bootstrap_dataset_y = dataset_y[0:0]\n",
    "    \n",
    "    # Generate Random Numbers\n",
    "    random_indices = np.random.choice(size, size)\n",
    "    \n",
    "    # Add Rows to Bootstrap Sample\n",
    "    bootstrap_dataset_X = dataset_X.loc[random_indices]\n",
    "    bootstrap_dataset_y = dataset_y.loc[random_indices]\n",
    "    \n",
    "    # if the X and y datasets aren't the same size, raise an exception\n",
    "    if len(dataset_X) != len(dataset_y):\n",
    "        raise Exception(\"Data size must match between dataset_X and dataset_y\")\n",
    "    \n",
    "    return (bootstrap_dataset_X, bootstrap_dataset_y)\n",
    "    \n",
    "\n",
    "def calculate_coefficients(dataset_X, dataset_y, model):\n",
    "    \n",
    "    model = model.fit(dataset_X, dataset_y)\n",
    "    \n",
    "    coefficients_dictionary = dict()\n",
    "    \n",
    "    for i, col in enumerate(dataset_X.columns):\n",
    "        coefficients_dictionary[col] = model.coef_.ravel()[i]\n",
    "\n",
    "    return coefficients_dictionary\n",
    "\n",
    "\n",
    "def get_significant_predictors(regression_coefficients, p = 0.05):\n",
    "    \n",
    "    significant_coefficients = []\n",
    "    \n",
    "    # make dataframe of coefficients\n",
    "    coeffs_df = pd.DataFrame(regression_coefficients)\n",
    "    \n",
    "    # for every feature in the dataframe\n",
    "    for col in coeffs_df.columns:\n",
    "        \n",
    "        if (coeffs_df[col].quantile(p/2) > 0 or \n",
    "            coeffs_df[col].quantile(1-(p/2)) < 0):\n",
    "            \n",
    "            significant_coefficients.append(col)\n",
    "            \n",
    "    # return the significant coefficients as a list of strings\n",
    "    return significant_coefficients"
   ]
  },
  {
   "cell_type": "code",
   "execution_count": 15,
   "metadata": {},
   "outputs": [
    {
     "name": "stdout",
     "output_type": "stream",
     "text": [
      "Significant Predictors:  ['Apr', 'Aug', 'Cloudy', 'Jul', 'Jun', 'Mar', 'May', 'Nov', 'Sat', 'Snow', 'fall', 'holiday', 'hour', 'hum', 'spring', 'summer', 'temp', 'workingday', 'year']\n"
     ]
    }
   ],
   "source": [
    "## Find Significant Coefficients\n",
    "c_dict = []\n",
    "\n",
    "# For 500 iterations\n",
    "for n in range(500):\n",
    "    \n",
    "    # Make Samples\n",
    "    x, y = make_bootstrap_sample(x_train, y_train)\n",
    "    \n",
    "    # Calculate Coefficients\n",
    "    c_dict.append(calculate_coefficients(x, y, BikeOLSModel))\n",
    "\n",
    "    \n",
    "# Find Significant Predictors\n",
    "BikeOLS_significant_bootstrap = get_significant_predictors(c_dict, p = 0.05)\n",
    "print('Significant Predictors: ', BikeOLS_significant_bootstrap)"
   ]
  },
  {
   "cell_type": "markdown",
   "metadata": {},
   "source": [
    "## Penalization Methods\n",
    "\n",
    "In HW 3 Question 5 we explored using subset selection to find a significant subset of features.  We then fit a regression model just on that subset of features instead of on the full dataset (including all features).   As an alternative to selecting a subset of predictors and fitting a regression model on the subset, one can fit a linear regression model on all predictors, but shrink or regularize the coefficient estimates to make sure that the model does not \"overfit\" the training set. \n",
    "\n",
    "<div class='exercise'> <b> Question 2 </b> </div> \n",
    "  We're going to use Ridge and Lasso regression regularization techniques to fit linear models to the training set.  We'll use cross-validation and shrinkage parameters $\\lambda$ from the set $\\{.001,.005,1,5,10,50,100,500,1000\\}$ to pick the best model for each regularization technique.\n",
    "\n",
    "**2.1** Use 5-fold cross-validation to pick the best shrinkage parameter from the set $\\{.001,.005,1,5,10,50,100,500,1000\\}$ for your Ridge Regression model on the training data.  Fit a Ridge Regression model on the training set with the selected shrinkage parameter and store your fitted model in the variable `BikeRRModel`.  Store the selected shrinkage parameter in the variable `BikeRR_shrinkage_parameter`.\n",
    "\n",
    "**2.2** Use 5-fold cross-validation to pick the best shrinkage parameter from the set $\\{.001,.005,1,5,10,50,100,500,1000\\}$ for your Lasso Regression model on the training data.  Fit a Lasso Regression model on the training set with the selected shrinkage parameter and store your fitted model in the variable `BikeLRModel`.  Store the selected shrinkage parameter in the variable `BikeLR_shrinkage_parameter`.\n",
    "\n",
    "**2.3** Create three dictionaries `BikeOLSparams`, `BikeLRparams`, and `BikeRRparams`.  Store in each the corresponding regression coefficients for each of the regression models indexed by the string feature name.\n",
    "\n",
    "**2.4** For the Lasso and Ridge Regression models list the features that are assigned a coefficient value close to 0 (i.e. the absolute value of the coefficient is less than 0.1).  How closely do they match the redundant predictors found (if any) in HW 3, Question 5?\n",
    "\n",
    "**2.5** To get a visual sense of how the features different regression models (Multiple Linear Regression, Ridge Regression, Lasso Regression) estimate coefficients, order the features by magnitude of the estimated coefficients in the Multiple Linear Regression Model (no shrinkage).  Plot a bar graph of the magnitude (absolute value) of the estimated coefficients from Multiple Linear Regression in order from greatest to least.  Using a different color (and alpha values) overlay bar graphs of the magnitude of the estimated coefficients (in the same order as the Multiple Linear Regression coefficients) from Ridge and Lasso Regression.\n",
    "\n",
    "**2.6** Let's examine a pair of features we believe to be related.  Is there a difference in the way Ridge and Lasso regression assign coefficients to the predictors `temp` and `atemp`? If so, explain the reason for the difference.\n",
    "\n",
    "**2.7** Discuss the Results:\n",
    "\n",
    "1. How do the estimated coefficients compare to or differ from the coefficients estimated by a plain linear regression (without shrinkage penalty) in Question 1? \n",
    "2. Is there a difference between coefficients estimated by the two shrinkage methods? If so, give an explantion for the difference.\n",
    "3. Is the significance related to the shrinkage in some way?\n",
    "\n",
    "*Hint:* You may use `sklearn`'s `RidgeCV` and `LassoCV` classes to implement Ridge and Lasso regression. These classes automatically perform cross-validation to tune the parameter $\\lambda$ from a given range of values."
   ]
  },
  {
   "cell_type": "markdown",
   "metadata": {},
   "source": [
    "### Answers"
   ]
  },
  {
   "cell_type": "code",
   "execution_count": 16,
   "metadata": {},
   "outputs": [],
   "source": [
    "lambdas = [.001, .005, 1, 5, 10, 50, 100, 500, 1000]"
   ]
  },
  {
   "cell_type": "markdown",
   "metadata": {},
   "source": [
    "#### 2.1 Use 5-fold cross-validation to pick the best shrinkage parameter from the set $\\{.001,.005,1,5,10,50,100,500,1000\\}$ for your Ridge Regression model."
   ]
  },
  {
   "cell_type": "code",
   "execution_count": 24,
   "metadata": {},
   "outputs": [
    {
     "name": "stdout",
     "output_type": "stream",
     "text": [
      "The shrinkage parameter 1 best fits our Ridge Regression model.\n"
     ]
    }
   ],
   "source": [
    "# declare and pass a KFold object to properly shuffle the training data, and/or set the random state\n",
    "splitter = KFold(5, random_state=42, shuffle=True)\n",
    "\n",
    "# find the best shrinkage parameter\n",
    "ridgeCV_object = RidgeCV(alphas=lambdas, cv=splitter)\n",
    "ridgeCV_object.fit(x_train, y_train)\n",
    "\n",
    "BikeRR_shrinkage_parameter = ridgeCV_object.alpha_\n",
    "\n",
    "print('The shrinkage parameter {} best fits our Ridge Regression model.'.format(BikeRR_shrinkage_parameter))\n",
    "\n",
    "# fit the model with the selected shrinkage paramter on the whole training set\n",
    "BikeRRModel = Ridge(alpha = BikeRR_shrinkage_parameter).fit(x_train, y_train)"
   ]
  },
  {
   "cell_type": "markdown",
   "metadata": {},
   "source": [
    "#### 2.2 Use 5-fold cross-validation to pick the best shrinkage parameter from the set $\\{.001,.005,1,5,10,50,100,500,1000\\}$ for your Lasso Regression model."
   ]
  },
  {
   "cell_type": "code",
   "execution_count": 25,
   "metadata": {},
   "outputs": [
    {
     "name": "stdout",
     "output_type": "stream",
     "text": [
      "The shrinkage parameter 0.001 best fits our Lasso Regression model.\n"
     ]
    }
   ],
   "source": [
    "# declare and pass a KFold object to properly shuffle the training data, and/or set the random state\n",
    "splitter = KFold(5, random_state=42, shuffle=True)\n",
    "\n",
    "# find the best shrinkage parameter\n",
    "lassoCV_object = LassoCV(alphas=lambdas, cv=splitter)\n",
    "lassoCV_object.fit(x_train, y_train)\n",
    "\n",
    "BikeLR_shrinkage_parameter = lassoCV_object.alpha_\n",
    "\n",
    "print('The shrinkage parameter {} best fits our Lasso Regression model.'.format(BikeLR_shrinkage_parameter))\n",
    "\n",
    "# fit the model with the selected shrinkage paramter on the whole training set\n",
    "BikeLRModel = Lasso(alpha = BikeLR_shrinkage_parameter).fit(x_train, y_train)"
   ]
  },
  {
   "cell_type": "markdown",
   "metadata": {},
   "source": [
    "#### 2.3 Create three dictionaries `BikeOLSparams`, `BikeLRparams`, and `BikeRRparams`.  Store in each the corresponding regression coefficients."
   ]
  },
  {
   "cell_type": "code",
   "execution_count": 26,
   "metadata": {},
   "outputs": [
    {
     "data": {
      "text/plain": [
       "{'hour': 7.026590502430972,\n",
       " 'holiday': -17.186715487668955,\n",
       " 'year': 74.78219998376493,\n",
       " 'workingday': 8.040268602956477,\n",
       " 'temp': 69.2077049583492,\n",
       " 'atemp': 11.98734255543353,\n",
       " 'hum': -38.66740049721223,\n",
       " 'windspeed': 2.378530574562387,\n",
       " 'spring': 50.972282303829985,\n",
       " 'summer': 45.427045490570855,\n",
       " 'fall': 66.97346083942547,\n",
       " 'Feb': -14.285143780322823,\n",
       " 'Mar': -16.95437068699482,\n",
       " 'Apr': -55.480727206488304,\n",
       " 'May': -54.36642047461303,\n",
       " 'Jun': -85.35025313378569,\n",
       " 'Jul': -130.4536810917571,\n",
       " 'Aug': -87.65754159257465,\n",
       " 'Sept': -32.591137052325145,\n",
       " 'Oct': -24.007315489768846,\n",
       " 'Nov': -34.45584769817425,\n",
       " 'Dec': -10.442637589854096,\n",
       " 'Mon': -2.7508588160650698,\n",
       " 'Tue': -3.387862871900464,\n",
       " 'Wed': 0.4428550612852392,\n",
       " 'Thu': -6.396409731172419,\n",
       " 'Fri': 2.945829473142319,\n",
       " 'Sat': 12.650785930046187,\n",
       " 'Cloudy': 6.504206874820869,\n",
       " 'Snow': -29.584816156385813,\n",
       " 'Storm': 59.15851620765113}"
      ]
     },
     "execution_count": 26,
     "metadata": {},
     "output_type": "execute_result"
    }
   ],
   "source": [
    "# create dictionary for each model\n",
    "BikeOLSparams = dict()\n",
    "BikeRRparams = dict()\n",
    "BikeLRparams = dict()\n",
    "\n",
    "# store regression coefficients\n",
    "for i, col in enumerate(x_train.columns):\n",
    "    BikeLRparams[col] = BikeLRModel.coef_.ravel()[i]\n",
    "    BikeRRparams[col] = BikeRRModel.coef_.ravel()[i]\n",
    "    BikeOLSparams[col] = BikeOLSModel.coef_.ravel()[i]\n",
    "    \n",
    "BikeOLSparams"
   ]
  },
  {
   "cell_type": "markdown",
   "metadata": {},
   "source": [
    "#### 2.4 For the Lasso and Ridge Regression models list the features that are assigned a coefficient value close to 0 ..."
   ]
  },
  {
   "cell_type": "code",
   "execution_count": 80,
   "metadata": {},
   "outputs": [
    {
     "name": "stdout",
     "output_type": "stream",
     "text": [
      "The redundant features found in the Ridge model are:\n",
      " [] \n",
      "\n",
      "The redundant features found in the Lasso model are:\n",
      " [] \n",
      "\n",
      "The redundant features found in HW3, Question 5, are:\n",
      " ['workingday', 'windspeed', 'summer', 'Feb', 'Mar', 'Apr', 'May', 'Jun', 'Sept', 'Oct', 'Nov', 'Dec', 'Mon', 'Tue', 'Wed', 'Thu', 'Fri', 'Sat', 'Cloudy', 'Storm'] \n",
      "\n"
     ]
    }
   ],
   "source": [
    "# get features with coefficients < 0.1\n",
    "redundantLRfeatures = [k for k, v in BikeLRparams.items() if abs(v) < 0.1]\n",
    "redundantRRfeatures = [k for k, v in BikeRRparams.items() if abs(v) < 0.1]\n",
    "redundantHW3features = ['workingday', 'windspeed', 'summer', 'Feb',\n",
    "                        'Mar', 'Apr', 'May', 'Jun', 'Sept', 'Oct', 'Nov', 'Dec',\n",
    "                        'Mon', 'Tue', 'Wed', 'Thu', 'Fri', 'Sat', 'Cloudy', 'Storm']\n",
    "\n",
    "not_in_HW3 = [feat for feat in redundantLRfeatures if feat not in redundantHW3features]\n",
    "\n",
    "print('The redundant features found in the Ridge model are:\\n', redundantRRfeatures, '\\n')\n",
    "print('The redundant features found in the Lasso model are:\\n', redundantLRfeatures, '\\n')\n",
    "print('The redundant features found in HW3, Question 5, are:\\n', redundantHW3features, '\\n')"
   ]
  },
  {
   "cell_type": "markdown",
   "metadata": {},
   "source": [
    "<HR>\n",
    "Our Ridge and Lasso models found that no features were redundant. Oppositely, our implementation of forward step-wise selection in HW3 found that 20 features were redundant.\n",
    "<HR>"
   ]
  },
  {
   "cell_type": "markdown",
   "metadata": {},
   "source": [
    "#### 2.5 To get a visual sense of how the features different regression models (Multiple Linear Regression, Ridge Regression, Lasso Regression) estimate coefficients, order the features by magnitude of the estimated coefficients in the Multiple Linear Regression Model (no shrinkage)."
   ]
  },
  {
   "cell_type": "code",
   "execution_count": 28,
   "metadata": {},
   "outputs": [
    {
     "data": {
      "text/plain": [
       "<matplotlib.legend.Legend at 0xba1bb70>"
      ]
     },
     "execution_count": 28,
     "metadata": {},
     "output_type": "execute_result"
    },
    {
     "data": {
      "image/png": "[encoded data removed]",
      "text/plain": [
       "<Figure size 864x1152 with 1 Axes>"
      ]
     },
     "metadata": {},
     "output_type": "display_data"
    }
   ],
   "source": [
    "# Make Dictionaries out of Absolute Values of Coefficients\n",
    "BikeRRparams_abs = {k: abs(v) for k, v in BikeRRparams.items()}\n",
    "BikeLRparams_abs = {k: abs(v) for k, v in BikeLRparams.items()}\n",
    "BikeOLSparams_abs = {k: abs(v) for k, v in BikeOLSparams.items()}\n",
    "\n",
    "# Make DataFrame out of Dictionaries\n",
    "params_df = pd.DataFrame([BikeOLSparams_abs, BikeLRparams_abs, BikeRRparams_abs])\n",
    "\n",
    "# Reorder Columns\n",
    "ordered_cols = [col for _, col in sorted(zip(params_df.loc[0], params_df.columns))]\n",
    "params_df = params_df[ordered_cols]\n",
    "\n",
    "fig, ax = plt.subplots(1,1, figsize=(12,16))\n",
    "\n",
    "ax.barh(params_df.columns, params_df.loc[0], color='w', edgecolor='black', linewidth=2, label='OLS Model')\n",
    "ax.barh(params_df.columns, params_df.loc[1], 0.75, color='b', alpha=0.5, label='Lasso')\n",
    "ax.barh(params_df.columns, params_df.loc[2], 0.75, color='r', alpha=0.5, label='Ridge')\n",
    "\n",
    "ax.set_ylabel('Feature', fontsize=24)\n",
    "ax.set_xlabel('Coefficient', fontsize=24)\n",
    "ax.set_title('Comparing Feature Coefficients Across Models', fontsize=22)\n",
    "\n",
    "ax.spines['right'].set_visible(False)\n",
    "ax.spines['top'].set_visible(False)\n",
    "ax.spines['left'].set_visible(False)\n",
    "ax.spines['bottom'].set_visible(False)\n",
    "\n",
    "\n",
    "ax.legend()\n",
    "\n"
   ]
  },
  {
   "cell_type": "markdown",
   "metadata": {},
   "source": [
    "#### 2.6 Let's examine a pair of features we believe to be related.  Is there a difference in the way Ridge and Lasso regression assign coefficients ...v"
   ]
  },
  {
   "cell_type": "markdown",
   "metadata": {},
   "source": [
    "<HR>\n",
    "Your answer here\n",
    "<HR>"
   ]
  },
  {
   "cell_type": "markdown",
   "metadata": {},
   "source": [
    "#### 2.7.1 How do the estimated coefficients compare to or differ from ..."
   ]
  },
  {
   "cell_type": "markdown",
   "metadata": {},
   "source": [
    "<HR>\n",
    "The coefficients estimated with Ridge and Lasso Regression are generally lower than the ones found with simple linear regression. None of the coefficients found with Ridge and Lasso Regression are significantly larger than the ones found with OLS.\n",
    "<HR>"
   ]
  },
  {
   "cell_type": "markdown",
   "metadata": {},
   "source": [
    "#### 2.7.2 Is there a difference between coefficients estimated by the two shrinkage methods ..."
   ]
  },
  {
   "cell_type": "markdown",
   "metadata": {},
   "source": [
    "<HR>\n",
    "In general, the coefficients estimated with Lasso are slightly larger than the ones found with Ridge. This might be because the shrinkage parameter used in our Lasso model was much smaller than the parameter we used in our Ridge model.\n",
    "<HR>"
   ]
  },
  {
   "cell_type": "markdown",
   "metadata": {},
   "source": [
    "#### 2.7.3 Is the significance related to the shrinkage in some way?"
   ]
  },
  {
   "cell_type": "markdown",
   "metadata": {},
   "source": [
    "<HR>\n",
    "Your answer here\n",
    "<HR>"
   ]
  },
  {
   "cell_type": "markdown",
   "metadata": {},
   "source": [
    "<div class='exercise'> <b> Question 3: Polynomial Features, Interaction Terms, and Cross Validation </b> </div>\n"
   ]
  },
  {
   "cell_type": "markdown",
   "metadata": {},
   "source": [
    "We would like to fit a model to include all main effects and polynomial terms for numerical predictors up to the $4^{th}$ order. More precisely use the following terms: \n",
    " - predictors in `X_train` and `X_test`\n",
    " - $X^1_j$, $X^2_j$, $X^3_j$, and $X^4_j$ for each numerical predictor $X_j$\n",
    "\n",
    "**3.1** Create an expanded training set including all the desired terms mentioned above. Store that training set (as a pandas dataframe) in the variable `X_train_poly`.  Create the corresponding test set and store it as a pandas dataframe in `X_test_poly`.\n",
    "\n",
    "**3.2** Discuss the following:\n",
    "\n",
    "1. What are the dimensions of this 'design matrix' of all the predictor variables in 3.1?  \n",
    "2. What issues may we run into attempting to fit a regression model using all of these predictors?\n",
    "\n",
    "**3.3** Let's try fitting a regression model on all the predictors anyway.  Use the `LinearRegression` library from `sklearn` to fit a multiple linear regression model to the training set data in `X_train_poly`.  Store the fitted model in the variable `BikeOLSPolyModel`.\n",
    "\n",
    "**3.4** Discuss the following:\n",
    "1. What are the training and test $R^2$ scores? \n",
    "2. How does the model performance compare with the OLS model on the original set of features in Question 1?\n",
    "\n",
    "**3.5** The training set $R^2$ score we generated for our model with polynomial and interaction terms doesn't have any error bars.  Let's use cross-validation to generate sample sets of $R^2$ for our model. Use 5-fold cross-validation to generate $R^2$ scores for the multiple linear regression model with polynomial terms.  What are the mean and standard deviation of the $R^2$ scores for your model.\n",
    "\n",
    "**3.6** Visualize the $R^2$ scores generated from the 5-fold cross validation as a box and whisker plot.\n",
    "\n",
    "**3.7** We've used cross-validation to generate error bars around our $R^2$ scores, but another use of cross-validation is as a way of model selection.  Let's construct the following model alternatives:\n",
    "\n",
    "1. Multiple linear regression model generated based upon the feature set in Question 1 (let's call these the base features.\n",
    "2. base features plus polynomial features to order 2\n",
    "3. base features plus polynomial features to order 4\n",
    "\n",
    "Use 5-fold cross validation on the training set to select the best model.  Make sure to evaluate all the models as much as possible on the same folds.  For each model generate a mean and standard deviation for the $R^2$ score.\n",
    "\n",
    "**3.8** Visualize the $R^2$ scores generated for each model from 5-fold cross validation in box and whiskers plots.  Do the box and whisker plots influence your view of which model was best?\n",
    "\n",
    "**3.9** Evaluate each of the model alternatives on the test set.  How do the results compare with the results from cross-validation?"
   ]
  },
  {
   "cell_type": "markdown",
   "metadata": {},
   "source": [
    "### Answers"
   ]
  },
  {
   "cell_type": "markdown",
   "metadata": {},
   "source": [
    "#### 3.1 Create an expanded training set including all the desired terms mentioned above. Store that training set (as a numpy array) in the variable `X_train_poly`...."
   ]
  },
  {
   "cell_type": "code",
   "execution_count": 30,
   "metadata": {},
   "outputs": [],
   "source": [
    "# build design matrix for degree 4 polynomial regression\n",
    "# Not a generalizable function...\n",
    "def get_poly_dataset(df):\n",
    "    \n",
    "    # get continuous variables\n",
    "    cont_predictors = df[['temp', 'atemp', 'hum', 'windspeed']].copy()\n",
    "\n",
    "    # convert to numpy array\n",
    "    design_mat = df.as_matrix()\n",
    "    \n",
    "    # degree 4 polynomials\n",
    "    transformer_4 = PolynomialFeatures(4, include_bias=False)\n",
    "\n",
    "    # for each continuous predictor\n",
    "    for predictor in cont_predictors:   \n",
    "        \n",
    "        # append new polynomial predictors to the design matrix\n",
    "        new_predictors = transformer_4.fit_transform(\n",
    "            cont_predictors[predictor].values.reshape(-1, 1))[:,1:]\n",
    "        design_mat = np.concatenate([design_mat, new_predictors], axis=1)\n",
    "\n",
    "    # add the names of new predictors to list of columns   \n",
    "    new_cols = []\n",
    "    for i in range(len(cont_predictors.columns)):\n",
    "        new_cols = new_cols + [cont_predictors.columns[i] + '2',\n",
    "                               cont_predictors.columns[i] + '3',\n",
    "                               cont_predictors.columns[i] + '4']\n",
    "    cols = list(x_train.columns) + new_cols\n",
    "    \n",
    "    # recreate DataFrame with new predictors\n",
    "    design_df = pd.DataFrame(data=design_mat,\n",
    "                             index=range(len(design_mat)),columns=cols)    \n",
    "        \n",
    "    return design_df"
   ]
  },
  {
   "cell_type": "code",
   "execution_count": 31,
   "metadata": {},
   "outputs": [],
   "source": [
    "# Create Poly Sets\n",
    "X_poly_train = get_poly_dataset(x_train)\n",
    "X_poly_test = get_poly_dataset(x_test)"
   ]
  },
  {
   "cell_type": "markdown",
   "metadata": {},
   "source": [
    "#### 3.2.1 What are the dimensions of this 'design matrix'...**"
   ]
  },
  {
   "cell_type": "code",
   "execution_count": 32,
   "metadata": {},
   "outputs": [
    {
     "name": "stdout",
     "output_type": "stream",
     "text": [
      "The design matrix has 13903 rows with 43 predictors.\n"
     ]
    }
   ],
   "source": [
    "print(\"The design matrix has {} rows with {} predictors.\"\n",
    "     .format(X_poly_train.shape[0], X_poly_train.shape[1]))"
   ]
  },
  {
   "cell_type": "markdown",
   "metadata": {},
   "source": [
    "#### 3.2.2 What issues may we run into attempting to fit a regression model using all of these predictors? ...**"
   ]
  },
  {
   "cell_type": "markdown",
   "metadata": {},
   "source": [
    "# Answer"
   ]
  },
  {
   "cell_type": "markdown",
   "metadata": {},
   "source": [
    "#### 3.3 Let's try fitting a regression model on all the predictors anyway.  Use the `LinearRegression` library from `sklearn` to fit a multiple linear regression model ...."
   ]
  },
  {
   "cell_type": "code",
   "execution_count": 33,
   "metadata": {},
   "outputs": [
    {
     "name": "stdout",
     "output_type": "stream",
     "text": [
      "Intercept: 24.429801745068744\n",
      "\n",
      "Coefficients (43):\n",
      " [  7.09824374 -19.96865864  79.16634441  11.54796209  65.24077854\n",
      "  43.95576297 -44.75821896  16.318725    42.12800384  21.27218621\n",
      "  67.79293955   6.6053627   12.18688837 -18.80350546 -24.96925437\n",
      " -69.82398574 -92.02300398 -64.10445503  -7.25045649   8.3217674\n",
      "  -0.57596173   9.21125771  -4.84628445  -6.90052601   1.04961898\n",
      "  -2.28951333   4.56600826  15.50050642   7.29128212 -24.93301576\n",
      "  31.01407024  68.76226014 -10.37195282  -6.96230895 -31.97482437\n",
      "  -1.96810336   0.10039101   5.02498742   2.70393041  -1.0665987\n",
      "  -4.46262259  -3.00937681   0.58995626]\n"
     ]
    }
   ],
   "source": [
    "# Fit Model\n",
    "BikeOLSPolyModel = LinearRegression()\n",
    "BikeOLSPolyModel = BikeOLSPolyModel.fit(X_poly_train, y_train)\n",
    "\n",
    "# Print Coefficients\n",
    "print(\"Intercept:\", BikeOLSPolyModel.intercept_)\n",
    "print(\"\\nCoefficients ({}):\\n\"\n",
    "      .format(len(BikeOLSPolyModel.coef_)), BikeOLSPolyModel.coef_)"
   ]
  },
  {
   "cell_type": "markdown",
   "metadata": {},
   "source": [
    "#### 3.4.1 What are the training and test $R^2$ scores?"
   ]
  },
  {
   "cell_type": "code",
   "execution_count": 34,
   "metadata": {},
   "outputs": [
    {
     "name": "stdout",
     "output_type": "stream",
     "text": [
      "R Squared (Poly Train): 0.4223\n",
      "R Squared (Poly Test) : 0.4194\n"
     ]
    }
   ],
   "source": [
    "## Report R^2\n",
    "\n",
    "# Make Predictions\n",
    "pred_train = BikeOLSPolyModel.predict(X_poly_train)\n",
    "pred_test = BikeOLSPolyModel.predict(X_poly_test)\n",
    "\n",
    "# Calculate R^2\n",
    "r2_poly_train = r2_score(y_train, pred_train)\n",
    "r2_poly_test = r2_score(y_test, pred_test)\n",
    "\n",
    "# Print\n",
    "print(\"R Squared (Poly Train): {}\"\n",
    "      .format(round(r2_poly_train, 4)))\n",
    "print(\"R Squared (Poly Test) : {}\"\n",
    "      .format(round(r2_poly_test, 4)))"
   ]
  },
  {
   "cell_type": "markdown",
   "metadata": {},
   "source": [
    "#### 3.4.2 How does the model performance compare with the OLS model on the original set of features in Question 1?"
   ]
  },
  {
   "cell_type": "code",
   "execution_count": 35,
   "metadata": {},
   "outputs": [
    {
     "name": "stdout",
     "output_type": "stream",
     "text": [
      "R Squared (Poly Train): 0.4223\n",
      "R Squared (Poly Test) : 0.4194\n",
      "\n",
      "R Squared (OLS Train) : 0.4065\n",
      "R Squared (OLS Test)  : 0.4054\n"
     ]
    }
   ],
   "source": [
    "# Print\n",
    "print(\"R Squared (Poly Train): {}\"\n",
    "      .format(round(r2_poly_train, 4)))\n",
    "print(\"R Squared (Poly Test) : {}\"\n",
    "      .format(round(r2_poly_test, 4)))\n",
    "\n",
    "print(\"\\nR Squared (OLS Train) : {}\"\n",
    "      .format(round(r2_ols_train, 4)))\n",
    "print(\"R Squared (OLS Test)  : {}\"\n",
    "      .format(round(r2_ols_test, 4)))"
   ]
  },
  {
   "cell_type": "markdown",
   "metadata": {},
   "source": [
    "<HR>\n",
    "The $R^2$ values for the full polynomial model are slightly higher for both the train and test sets, but not by very much. We added 8 predictors but increased our test $R^2$ by only $0.014$\n",
    "<HR>"
   ]
  },
  {
   "cell_type": "markdown",
   "metadata": {},
   "source": [
    "#### 3.5 The training set $R^2$ score we generated for our model with polynomial and interaction terms doesn't have any error bars.  Let's use cross-validation to generate sample..."
   ]
  },
  {
   "cell_type": "code",
   "execution_count": 36,
   "metadata": {},
   "outputs": [],
   "source": [
    "n_folds = 5\n",
    "kfold = KFold(n_folds, shuffle=True)\n",
    "\n",
    "# declare array of R-Squareds of each model\n",
    "train_scores = np.zeros(n_folds)\n",
    "valid_scores = np.zeros(n_folds)\n",
    "\n",
    "# Fold index\n",
    "fold = 0\n",
    "    \n",
    "for train, valid in kfold.split(range(len(X_poly_train))):    \n",
    "    \n",
    "    # build the linear regression model\n",
    "    lin_reg = LinearRegression()\n",
    "    \n",
    "    # Fit using the training data\n",
    "    lin_reg.fit(X_poly_train.loc[train], y_train.loc[train])\n",
    "\n",
    "    # Make predictions using the training data and the validation data\n",
    "    Ytrain_pred = lin_reg.predict(X_poly_train.loc[train])\n",
    "    Ytrain_valid = lin_reg.predict(X_poly_train.loc[valid])\n",
    "    \n",
    "    # Calculaate R-Squared for the training and validation sets\n",
    "    train_scores[fold] = r2_score(y_train.loc[train], Ytrain_pred)\n",
    "    valid_scores[fold] = r2_score(y_train.loc[valid], Ytrain_valid)\n",
    "    \n",
    "    fold += 1"
   ]
  },
  {
   "cell_type": "code",
   "execution_count": 37,
   "metadata": {},
   "outputs": [
    {
     "name": "stdout",
     "output_type": "stream",
     "text": [
      "Mean of R-Squareds on validation sets: 0.4182\n",
      "SD of R-Squareds on validation sets: 0.0147\n"
     ]
    }
   ],
   "source": [
    "# get mean and standard deviations of R-Squareds\n",
    "mean_train_scores = np.mean(train_scores)\n",
    "mean_valid_scores = np.mean(valid_scores)\n",
    "std_train_scores = np.std(train_scores)\n",
    "std_valid_scores = np.std(valid_scores)\n",
    "\n",
    "print('Mean of R-Squareds on validation sets:', round(mean_valid_scores, 4))\n",
    "print('SD of R-Squareds on validation sets:', round(std_valid_scores, 4))"
   ]
  },
  {
   "cell_type": "markdown",
   "metadata": {},
   "source": [
    "<HR>\n",
    "Your answer here\n",
    "<HR>"
   ]
  },
  {
   "cell_type": "markdown",
   "metadata": {},
   "source": [
    "#### 3.6 Visualize the $R^2$ scores generated from the 5-fold cross validation as a box and whisker plot."
   ]
  },
  {
   "cell_type": "code",
   "execution_count": 65,
   "metadata": {},
   "outputs": [
    {
     "data": {
      "image/png": "[encoded data removed]",
      "text/plain": [
       "<Figure size 288x432 with 1 Axes>"
      ]
     },
     "metadata": {},
     "output_type": "display_data"
    }
   ],
   "source": [
    "fig, ax = plt.subplots(1,1, figsize=(4,6))\n",
    "\n",
    "ax.boxplot(valid_scores)\n",
    "ax.spines['right'].set_visible(False)\n",
    "ax.spines['top'].set_visible(False)\n",
    "ax.spines['left'].set_visible(False)\n",
    "ax.spines['bottom'].set_visible(False)\n",
    "ax.set_ylabel('$R^2$', fontsize=18)\n",
    "ax.set_title('Boxplot of $R^2$s on Each Fold', fontsize=16)\n",
    "ax.set_xticklabels('')\n",
    "ax.tick_params(axis='x', which='both', bottom='false')"
   ]
  },
  {
   "cell_type": "markdown",
   "metadata": {},
   "source": [
    "#### 3.7 We've used cross-validation to generate error bars around our $R^2$ scores, but another use of cross-validation is as a way of model selection.  Let's construct the following model alternatives ..."
   ]
  },
  {
   "cell_type": "code",
   "execution_count": 75,
   "metadata": {},
   "outputs": [],
   "source": [
    "# build design matrix for degree n polynomial regression\n",
    "def get_poly_dataset2(df, n=4):\n",
    "    \n",
    "    # get continuous variables\n",
    "    cont_predictors = df[['temp', 'hum']].copy()\n",
    "\n",
    "    # convert to numpy array\n",
    "    design_mat = df.as_matrix()\n",
    "    \n",
    "    # degree 4 polynomials\n",
    "    transformer_n = PolynomialFeatures(n, include_bias=False)\n",
    "\n",
    "    # for each continuous predictor\n",
    "    for predictor in cont_predictors:   \n",
    "        \n",
    "        # append new polynomial predictors to the design matrix\n",
    "        new_predictors = transformer_n.fit_transform(\n",
    "            cont_predictors[predictor].values.reshape(-1, 1))[:,1:]\n",
    "        design_mat = np.concatenate([design_mat, new_predictors], axis=1)\n",
    "\n",
    "    # add the names of new predictors to list of columns   \n",
    "    new_cols = []\n",
    "    for i in range(len(cont_predictors.columns)):\n",
    "        for j in range(n-1):\n",
    "            #new_cols.append(cont_predictors[i] + str(j+2))\n",
    "            new_cols = new_cols + [cont_predictors.columns[i] + str(j+2)]\n",
    "            \n",
    "        \n",
    "        #new_cols = new_cols + [cont_predictors.columns[i] + '2',\n",
    "        #                       cont_predictors.columns[i] + '3',\n",
    "        #                       cont_predictors.columns[i] + '4']\n",
    "    cols = list(df.columns) + new_cols\n",
    "    \n",
    "    # recreate DataFrame with new predictors\n",
    "    design_df = pd.DataFrame(data=design_mat,\n",
    "                             index=range(len(design_mat)),columns=cols)    \n",
    "        \n",
    "    return design_df"
   ]
  },
  {
   "cell_type": "code",
   "execution_count": 82,
   "metadata": {},
   "outputs": [],
   "source": [
    "# Get Design Matrices\n",
    "BaseFeatures_xtrain = x_train[BikeOLS_significant_bootstrap]\n",
    "BaseFeaturesPoly2_xtrain = get_poly_dataset2(BaseFeatures_xtrain, 2)\n",
    "BaseFeaturesPoly4_xtrain = get_poly_dataset2(BaseFeatures_xtrain, 4)\n",
    "\n",
    "design_mats = [BaseFeatures_xtrain, BaseFeaturesPoly2_xtrain, BaseFeaturesPoly4_xtrain]"
   ]
  },
  {
   "cell_type": "code",
   "execution_count": 127,
   "metadata": {},
   "outputs": [],
   "source": [
    "n_folds = 5\n",
    "kfold = KFold(n_folds, shuffle=True)\n",
    "\n",
    "# declare array of R-Squareds of each model\n",
    "train_scores = np.zeros((len(design_mats), n_folds))\n",
    "valid_scores = np.zeros((len(design_mats), n_folds))\n",
    "\n",
    "# Fold index\n",
    "fold = 0\n",
    "    \n",
    "for train, valid in kfold.split(range(len(design_mats[0]))):    \n",
    "    \n",
    "    # For Each Model\n",
    "    for i, design_mat in enumerate(design_mats):\n",
    "        \n",
    "        # build the linear regression model\n",
    "        lin_reg = LinearRegression()\n",
    "    \n",
    "        # Fit, Make Predictions\n",
    "        lin_reg.fit(design_mat.loc[train], y_train.loc[train])\n",
    "        Ytrain_pred = lin_reg.predict(design_mat.loc[train])\n",
    "        Ytrain_valid = lin_reg.predict(design_mat.loc[valid])\n",
    "    \n",
    "        # Calculaate R-Squared for the training and validation sets\n",
    "        train_scores[i, fold] = r2_score(y_train.loc[train], Ytrain_pred)\n",
    "        valid_scores[i, fold] = r2_score(y_train.loc[valid], Ytrain_valid)\n",
    "    \n",
    "    fold += 1"
   ]
  },
  {
   "cell_type": "code",
   "execution_count": 128,
   "metadata": {},
   "outputs": [
    {
     "data": {
      "text/html": [
       "<div>\n",
       "<style scoped>\n",
       "    .dataframe tbody tr th:only-of-type {\n",
       "        vertical-align: middle;\n",
       "    }\n",
       "\n",
       "    .dataframe tbody tr th {\n",
       "        vertical-align: top;\n",
       "    }\n",
       "\n",
       "    .dataframe thead th {\n",
       "        text-align: right;\n",
       "    }\n",
       "</style>\n",
       "<table border=\"1\" class=\"dataframe\">\n",
       "  <thead>\n",
       "    <tr style=\"text-align: right;\">\n",
       "      <th></th>\n",
       "      <th>mean_R2</th>\n",
       "      <th>std_R2</th>\n",
       "    </tr>\n",
       "  </thead>\n",
       "  <tbody>\n",
       "    <tr>\n",
       "      <th>BaseFeautes</th>\n",
       "      <td>0.404118</td>\n",
       "      <td>0.007752</td>\n",
       "    </tr>\n",
       "    <tr>\n",
       "      <th>Poly2</th>\n",
       "      <td>0.406403</td>\n",
       "      <td>0.007442</td>\n",
       "    </tr>\n",
       "    <tr>\n",
       "      <th>Poly4</th>\n",
       "      <td>0.414890</td>\n",
       "      <td>0.008891</td>\n",
       "    </tr>\n",
       "  </tbody>\n",
       "</table>\n",
       "</div>"
      ],
      "text/plain": [
       "              mean_R2    std_R2\n",
       "BaseFeautes  0.404118  0.007752\n",
       "Poly2        0.406403  0.007442\n",
       "Poly4        0.414890  0.008891"
      ]
     },
     "execution_count": 128,
     "metadata": {},
     "output_type": "execute_result"
    }
   ],
   "source": [
    "means = {'BaseFeautes': np.mean(valid_scores[0]),\n",
    "         'Poly2': np.mean(valid_scores[1]),\n",
    "         'Poly4': np.mean(valid_scores[2])}\n",
    "\n",
    "stds = {'BaseFeautes': np.std(valid_scores[0]),\n",
    "         'Poly2': np.std(valid_scores[1]),\n",
    "         'Poly4': np.std(valid_scores[2])}\n",
    "\n",
    "model_comparison = pd.DataFrame([means, stds]).T\n",
    "model_comparison.columns = ['mean_R2', 'std_R2']\n",
    "model_comparison"
   ]
  },
  {
   "cell_type": "markdown",
   "metadata": {},
   "source": [
    "<HR>\n",
    "The model with polynomial features to order 4 maximizes the mean $R^2$, so it is best model of the three.\n",
    "<HR>"
   ]
  },
  {
   "cell_type": "markdown",
   "metadata": {},
   "source": [
    "#### 3.8 Visualize the $R^2$ scores generated for each model from 5-fold cross validation in box and whiskers plots.  Do the box and whisker plots influence your view of which model was best? ..."
   ]
  },
  {
   "cell_type": "code",
   "execution_count": 131,
   "metadata": {},
   "outputs": [
    {
     "data": {
      "image/png": "[encoded data removed]",
      "text/plain": [
       "<Figure size 576x576 with 1 Axes>"
      ]
     },
     "metadata": {},
     "output_type": "display_data"
    }
   ],
   "source": [
    "# Make List of Model Scores\n",
    "scores = [valid_scores[0], valid_scores[1], valid_scores[2]]\n",
    "\n",
    "fig, ax = plt.subplots(1,1, figsize=(8,8))\n",
    "\n",
    "ax.boxplot(scores)\n",
    "ax.set_xlabel('Model', fontsize=18)\n",
    "ax.set_ylabel('$R^2$', fontsize=22)\n",
    "ax.set_title('Boxplots of $R^2$s for Each Model', fontsize=20)\n",
    "ax.set_xticklabels(['Base Features', '2nd Degree Polynomial.', '4th Degree Polynomial'], fontsize=11)\n",
    "plt.show()"
   ]
  },
  {
   "cell_type": "markdown",
   "metadata": {},
   "source": [
    "<HR>\n",
    "The plot reassures are belief that the model with 4th degree polynomial terms is the best of the three models.\n",
    "<HR>"
   ]
  },
  {
   "cell_type": "markdown",
   "metadata": {},
   "source": [
    "#### 3.9 Evaluate each of the model alternatives on the  test set.  How do the results compare with the results from cross-validation?"
   ]
  },
  {
   "cell_type": "code",
   "execution_count": 132,
   "metadata": {},
   "outputs": [],
   "source": [
    "# Get Design Matrices for the Test Set\n",
    "BaseFeatures_xtest = x_test[BikeOLS_significant_bootstrap]\n",
    "BaseFeaturesPoly2_xtest = get_poly_dataset2(BaseFeatures_xtest, 2)\n",
    "BaseFeaturesPoly4_xtest = get_poly_dataset2(BaseFeatures_xtest, 4)\n",
    "\n",
    "test_design_mats = [BaseFeatures_xtest, BaseFeaturesPoly2_xtest, BaseFeaturesPoly4_xtest]"
   ]
  },
  {
   "cell_type": "code",
   "execution_count": 138,
   "metadata": {},
   "outputs": [
    {
     "name": "stdout",
     "output_type": "stream",
     "text": [
      "R^2 of the basic linear regression model on test data: 0.4113\n",
      "R^2 of the 2nd degree polynomial model on test data: 0.4142\n",
      "R^2 of the 4th degree polynomial model on test data: 0.4228\n"
     ]
    }
   ],
   "source": [
    "test_scores = np.zeros(len(test_design_mats))\n",
    "\n",
    "for i, design_mat in enumerate(test_design_mats):\n",
    "        \n",
    "    # build the linear regression model\n",
    "    lin_reg = LinearRegression()\n",
    "    \n",
    "    # Fit, Make Predictions\n",
    "    lin_reg.fit(design_mat, y_test)\n",
    "    Ytest_pred = lin_reg.predict(design_mat)\n",
    "    \n",
    "    # Calculaate R-Squared for the training and validation sets\n",
    "    test_scores[i] = r2_score(y_test, Ytest_pred)\n",
    "\n",
    "print('R^2 of the basic linear regression model on test data:', round(test_scores[0], 4))\n",
    "print('R^2 of the 2nd degree polynomial model on test data:', round(test_scores[1], 4))\n",
    "print('R^2 of the 4th degree polynomial model on test data:', round(test_scores[2], 4))\n",
    "\n"
   ]
  },
  {
   "cell_type": "markdown",
   "metadata": {},
   "source": [
    "<HR>\n",
    "These results show exactly what we would have expected, given the cross-validation results.\n",
    "<HR>"
   ]
  }
 ],
 "metadata": {
  "anaconda-cloud": {},
  "kernelspec": {
   "display_name": "Python 3",
   "language": "python",
   "name": "python3"
  },
  "language_info": {
   "codemirror_mode": {
    "name": "ipython",
    "version": 3
   },
   "file_extension": ".py",
   "mimetype": "text/x-python",
   "name": "python",
   "nbconvert_exporter": "python",
   "pygments_lexer": "ipython3",
   "version": "3.6.5"
  }
 },
 "nbformat": 4,
 "nbformat_minor": 2
}
